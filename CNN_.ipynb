{
  "nbformat": 4,
  "nbformat_minor": 0,
  "metadata": {
    "colab": {
      "provenance": [],
      "gpuType": "T4",
      "authorship_tag": "ABX9TyMOnTcd/jAmkwbUQNXEus63",
      "include_colab_link": true
    },
    "kernelspec": {
      "name": "python3",
      "display_name": "Python 3"
    },
    "language_info": {
      "name": "python"
    },
    "accelerator": "GPU",
    "widgets": {
      "application/vnd.jupyter.widget-state+json": {
        "efc0cc691fac40ae9e1652d9efb072a9": {
          "model_module": "@jupyter-widgets/controls",
          "model_name": "HBoxModel",
          "model_module_version": "1.5.0",
          "state": {
            "_dom_classes": [],
            "_model_module": "@jupyter-widgets/controls",
            "_model_module_version": "1.5.0",
            "_model_name": "HBoxModel",
            "_view_count": null,
            "_view_module": "@jupyter-widgets/controls",
            "_view_module_version": "1.5.0",
            "_view_name": "HBoxView",
            "box_style": "",
            "children": [
              "IPY_MODEL_31956f1dd23244a0917935f0b01fa85f",
              "IPY_MODEL_fb95a069685e47d88daac3673e8267ef",
              "IPY_MODEL_6b7eb313c0574965a222ee7934421230"
            ],
            "layout": "IPY_MODEL_434c38a5a3b547be8e60604897b53d8b"
          }
        },
        "31956f1dd23244a0917935f0b01fa85f": {
          "model_module": "@jupyter-widgets/controls",
          "model_name": "HTMLModel",
          "model_module_version": "1.5.0",
          "state": {
            "_dom_classes": [],
            "_model_module": "@jupyter-widgets/controls",
            "_model_module_version": "1.5.0",
            "_model_name": "HTMLModel",
            "_view_count": null,
            "_view_module": "@jupyter-widgets/controls",
            "_view_module_version": "1.5.0",
            "_view_name": "HTMLView",
            "description": "",
            "description_tooltip": null,
            "layout": "IPY_MODEL_8f2bf33305fe4ed88e6e2b7582d752a1",
            "placeholder": "​",
            "style": "IPY_MODEL_47013e4d10714db6975bc6217a1a5dd9",
            "value": "100%"
          }
        },
        "fb95a069685e47d88daac3673e8267ef": {
          "model_module": "@jupyter-widgets/controls",
          "model_name": "FloatProgressModel",
          "model_module_version": "1.5.0",
          "state": {
            "_dom_classes": [],
            "_model_module": "@jupyter-widgets/controls",
            "_model_module_version": "1.5.0",
            "_model_name": "FloatProgressModel",
            "_view_count": null,
            "_view_module": "@jupyter-widgets/controls",
            "_view_module_version": "1.5.0",
            "_view_name": "ProgressView",
            "bar_style": "success",
            "description": "",
            "description_tooltip": null,
            "layout": "IPY_MODEL_f4aedfeab8a14c6b90df3c00662b9bd6",
            "max": 3,
            "min": 0,
            "orientation": "horizontal",
            "style": "IPY_MODEL_67382dc790b844f5854d6bfae2417b96",
            "value": 3
          }
        },
        "6b7eb313c0574965a222ee7934421230": {
          "model_module": "@jupyter-widgets/controls",
          "model_name": "HTMLModel",
          "model_module_version": "1.5.0",
          "state": {
            "_dom_classes": [],
            "_model_module": "@jupyter-widgets/controls",
            "_model_module_version": "1.5.0",
            "_model_name": "HTMLModel",
            "_view_count": null,
            "_view_module": "@jupyter-widgets/controls",
            "_view_module_version": "1.5.0",
            "_view_name": "HTMLView",
            "description": "",
            "description_tooltip": null,
            "layout": "IPY_MODEL_ef060225b23643f98d6cea2e8855d2ca",
            "placeholder": "​",
            "style": "IPY_MODEL_54a8fba3a08647e097b9e9258c9198bc",
            "value": " 3/3 [00:28&lt;00:00,  9.58s/it]"
          }
        },
        "434c38a5a3b547be8e60604897b53d8b": {
          "model_module": "@jupyter-widgets/base",
          "model_name": "LayoutModel",
          "model_module_version": "1.2.0",
          "state": {
            "_model_module": "@jupyter-widgets/base",
            "_model_module_version": "1.2.0",
            "_model_name": "LayoutModel",
            "_view_count": null,
            "_view_module": "@jupyter-widgets/base",
            "_view_module_version": "1.2.0",
            "_view_name": "LayoutView",
            "align_content": null,
            "align_items": null,
            "align_self": null,
            "border": null,
            "bottom": null,
            "display": null,
            "flex": null,
            "flex_flow": null,
            "grid_area": null,
            "grid_auto_columns": null,
            "grid_auto_flow": null,
            "grid_auto_rows": null,
            "grid_column": null,
            "grid_gap": null,
            "grid_row": null,
            "grid_template_areas": null,
            "grid_template_columns": null,
            "grid_template_rows": null,
            "height": null,
            "justify_content": null,
            "justify_items": null,
            "left": null,
            "margin": null,
            "max_height": null,
            "max_width": null,
            "min_height": null,
            "min_width": null,
            "object_fit": null,
            "object_position": null,
            "order": null,
            "overflow": null,
            "overflow_x": null,
            "overflow_y": null,
            "padding": null,
            "right": null,
            "top": null,
            "visibility": null,
            "width": null
          }
        },
        "8f2bf33305fe4ed88e6e2b7582d752a1": {
          "model_module": "@jupyter-widgets/base",
          "model_name": "LayoutModel",
          "model_module_version": "1.2.0",
          "state": {
            "_model_module": "@jupyter-widgets/base",
            "_model_module_version": "1.2.0",
            "_model_name": "LayoutModel",
            "_view_count": null,
            "_view_module": "@jupyter-widgets/base",
            "_view_module_version": "1.2.0",
            "_view_name": "LayoutView",
            "align_content": null,
            "align_items": null,
            "align_self": null,
            "border": null,
            "bottom": null,
            "display": null,
            "flex": null,
            "flex_flow": null,
            "grid_area": null,
            "grid_auto_columns": null,
            "grid_auto_flow": null,
            "grid_auto_rows": null,
            "grid_column": null,
            "grid_gap": null,
            "grid_row": null,
            "grid_template_areas": null,
            "grid_template_columns": null,
            "grid_template_rows": null,
            "height": null,
            "justify_content": null,
            "justify_items": null,
            "left": null,
            "margin": null,
            "max_height": null,
            "max_width": null,
            "min_height": null,
            "min_width": null,
            "object_fit": null,
            "object_position": null,
            "order": null,
            "overflow": null,
            "overflow_x": null,
            "overflow_y": null,
            "padding": null,
            "right": null,
            "top": null,
            "visibility": null,
            "width": null
          }
        },
        "47013e4d10714db6975bc6217a1a5dd9": {
          "model_module": "@jupyter-widgets/controls",
          "model_name": "DescriptionStyleModel",
          "model_module_version": "1.5.0",
          "state": {
            "_model_module": "@jupyter-widgets/controls",
            "_model_module_version": "1.5.0",
            "_model_name": "DescriptionStyleModel",
            "_view_count": null,
            "_view_module": "@jupyter-widgets/base",
            "_view_module_version": "1.2.0",
            "_view_name": "StyleView",
            "description_width": ""
          }
        },
        "f4aedfeab8a14c6b90df3c00662b9bd6": {
          "model_module": "@jupyter-widgets/base",
          "model_name": "LayoutModel",
          "model_module_version": "1.2.0",
          "state": {
            "_model_module": "@jupyter-widgets/base",
            "_model_module_version": "1.2.0",
            "_model_name": "LayoutModel",
            "_view_count": null,
            "_view_module": "@jupyter-widgets/base",
            "_view_module_version": "1.2.0",
            "_view_name": "LayoutView",
            "align_content": null,
            "align_items": null,
            "align_self": null,
            "border": null,
            "bottom": null,
            "display": null,
            "flex": null,
            "flex_flow": null,
            "grid_area": null,
            "grid_auto_columns": null,
            "grid_auto_flow": null,
            "grid_auto_rows": null,
            "grid_column": null,
            "grid_gap": null,
            "grid_row": null,
            "grid_template_areas": null,
            "grid_template_columns": null,
            "grid_template_rows": null,
            "height": null,
            "justify_content": null,
            "justify_items": null,
            "left": null,
            "margin": null,
            "max_height": null,
            "max_width": null,
            "min_height": null,
            "min_width": null,
            "object_fit": null,
            "object_position": null,
            "order": null,
            "overflow": null,
            "overflow_x": null,
            "overflow_y": null,
            "padding": null,
            "right": null,
            "top": null,
            "visibility": null,
            "width": null
          }
        },
        "67382dc790b844f5854d6bfae2417b96": {
          "model_module": "@jupyter-widgets/controls",
          "model_name": "ProgressStyleModel",
          "model_module_version": "1.5.0",
          "state": {
            "_model_module": "@jupyter-widgets/controls",
            "_model_module_version": "1.5.0",
            "_model_name": "ProgressStyleModel",
            "_view_count": null,
            "_view_module": "@jupyter-widgets/base",
            "_view_module_version": "1.2.0",
            "_view_name": "StyleView",
            "bar_color": null,
            "description_width": ""
          }
        },
        "ef060225b23643f98d6cea2e8855d2ca": {
          "model_module": "@jupyter-widgets/base",
          "model_name": "LayoutModel",
          "model_module_version": "1.2.0",
          "state": {
            "_model_module": "@jupyter-widgets/base",
            "_model_module_version": "1.2.0",
            "_model_name": "LayoutModel",
            "_view_count": null,
            "_view_module": "@jupyter-widgets/base",
            "_view_module_version": "1.2.0",
            "_view_name": "LayoutView",
            "align_content": null,
            "align_items": null,
            "align_self": null,
            "border": null,
            "bottom": null,
            "display": null,
            "flex": null,
            "flex_flow": null,
            "grid_area": null,
            "grid_auto_columns": null,
            "grid_auto_flow": null,
            "grid_auto_rows": null,
            "grid_column": null,
            "grid_gap": null,
            "grid_row": null,
            "grid_template_areas": null,
            "grid_template_columns": null,
            "grid_template_rows": null,
            "height": null,
            "justify_content": null,
            "justify_items": null,
            "left": null,
            "margin": null,
            "max_height": null,
            "max_width": null,
            "min_height": null,
            "min_width": null,
            "object_fit": null,
            "object_position": null,
            "order": null,
            "overflow": null,
            "overflow_x": null,
            "overflow_y": null,
            "padding": null,
            "right": null,
            "top": null,
            "visibility": null,
            "width": null
          }
        },
        "54a8fba3a08647e097b9e9258c9198bc": {
          "model_module": "@jupyter-widgets/controls",
          "model_name": "DescriptionStyleModel",
          "model_module_version": "1.5.0",
          "state": {
            "_model_module": "@jupyter-widgets/controls",
            "_model_module_version": "1.5.0",
            "_model_name": "DescriptionStyleModel",
            "_view_count": null,
            "_view_module": "@jupyter-widgets/base",
            "_view_module_version": "1.2.0",
            "_view_name": "StyleView",
            "description_width": ""
          }
        },
        "ccf8a7b43d7d41669cb08b038be72bea": {
          "model_module": "@jupyter-widgets/controls",
          "model_name": "HBoxModel",
          "model_module_version": "1.5.0",
          "state": {
            "_dom_classes": [],
            "_model_module": "@jupyter-widgets/controls",
            "_model_module_version": "1.5.0",
            "_model_name": "HBoxModel",
            "_view_count": null,
            "_view_module": "@jupyter-widgets/controls",
            "_view_module_version": "1.5.0",
            "_view_name": "HBoxView",
            "box_style": "",
            "children": [
              "IPY_MODEL_de89e8441c864a639983b4e8be8f65aa",
              "IPY_MODEL_a862780dda0744bca533622a4f5d0c88",
              "IPY_MODEL_4a4f2ba6c992475ab48c2bad712b5a3a"
            ],
            "layout": "IPY_MODEL_ef458f3c7a02493085c494ad663ee7f1"
          }
        },
        "de89e8441c864a639983b4e8be8f65aa": {
          "model_module": "@jupyter-widgets/controls",
          "model_name": "HTMLModel",
          "model_module_version": "1.5.0",
          "state": {
            "_dom_classes": [],
            "_model_module": "@jupyter-widgets/controls",
            "_model_module_version": "1.5.0",
            "_model_name": "HTMLModel",
            "_view_count": null,
            "_view_module": "@jupyter-widgets/controls",
            "_view_module_version": "1.5.0",
            "_view_name": "HTMLView",
            "description": "",
            "description_tooltip": null,
            "layout": "IPY_MODEL_99bf9c7fecc54edba5efb81cc08472db",
            "placeholder": "​",
            "style": "IPY_MODEL_c90b0b2807ef44e4b59deceaaef98990",
            "value": "100%"
          }
        },
        "a862780dda0744bca533622a4f5d0c88": {
          "model_module": "@jupyter-widgets/controls",
          "model_name": "FloatProgressModel",
          "model_module_version": "1.5.0",
          "state": {
            "_dom_classes": [],
            "_model_module": "@jupyter-widgets/controls",
            "_model_module_version": "1.5.0",
            "_model_name": "FloatProgressModel",
            "_view_count": null,
            "_view_module": "@jupyter-widgets/controls",
            "_view_module_version": "1.5.0",
            "_view_name": "ProgressView",
            "bar_style": "success",
            "description": "",
            "description_tooltip": null,
            "layout": "IPY_MODEL_0a680870e6ea481ba53bd20f5b6ef018",
            "max": 3,
            "min": 0,
            "orientation": "horizontal",
            "style": "IPY_MODEL_dfe77701e25d41e0b85a76b8415dce42",
            "value": 3
          }
        },
        "4a4f2ba6c992475ab48c2bad712b5a3a": {
          "model_module": "@jupyter-widgets/controls",
          "model_name": "HTMLModel",
          "model_module_version": "1.5.0",
          "state": {
            "_dom_classes": [],
            "_model_module": "@jupyter-widgets/controls",
            "_model_module_version": "1.5.0",
            "_model_name": "HTMLModel",
            "_view_count": null,
            "_view_module": "@jupyter-widgets/controls",
            "_view_module_version": "1.5.0",
            "_view_name": "HTMLView",
            "description": "",
            "description_tooltip": null,
            "layout": "IPY_MODEL_074204869b4c4e3d9f42fa86383ec39a",
            "placeholder": "​",
            "style": "IPY_MODEL_791f752007ec459e87cebbe034f6ce0e",
            "value": " 3/3 [00:30&lt;00:00, 10.03s/it]"
          }
        },
        "ef458f3c7a02493085c494ad663ee7f1": {
          "model_module": "@jupyter-widgets/base",
          "model_name": "LayoutModel",
          "model_module_version": "1.2.0",
          "state": {
            "_model_module": "@jupyter-widgets/base",
            "_model_module_version": "1.2.0",
            "_model_name": "LayoutModel",
            "_view_count": null,
            "_view_module": "@jupyter-widgets/base",
            "_view_module_version": "1.2.0",
            "_view_name": "LayoutView",
            "align_content": null,
            "align_items": null,
            "align_self": null,
            "border": null,
            "bottom": null,
            "display": null,
            "flex": null,
            "flex_flow": null,
            "grid_area": null,
            "grid_auto_columns": null,
            "grid_auto_flow": null,
            "grid_auto_rows": null,
            "grid_column": null,
            "grid_gap": null,
            "grid_row": null,
            "grid_template_areas": null,
            "grid_template_columns": null,
            "grid_template_rows": null,
            "height": null,
            "justify_content": null,
            "justify_items": null,
            "left": null,
            "margin": null,
            "max_height": null,
            "max_width": null,
            "min_height": null,
            "min_width": null,
            "object_fit": null,
            "object_position": null,
            "order": null,
            "overflow": null,
            "overflow_x": null,
            "overflow_y": null,
            "padding": null,
            "right": null,
            "top": null,
            "visibility": null,
            "width": null
          }
        },
        "99bf9c7fecc54edba5efb81cc08472db": {
          "model_module": "@jupyter-widgets/base",
          "model_name": "LayoutModel",
          "model_module_version": "1.2.0",
          "state": {
            "_model_module": "@jupyter-widgets/base",
            "_model_module_version": "1.2.0",
            "_model_name": "LayoutModel",
            "_view_count": null,
            "_view_module": "@jupyter-widgets/base",
            "_view_module_version": "1.2.0",
            "_view_name": "LayoutView",
            "align_content": null,
            "align_items": null,
            "align_self": null,
            "border": null,
            "bottom": null,
            "display": null,
            "flex": null,
            "flex_flow": null,
            "grid_area": null,
            "grid_auto_columns": null,
            "grid_auto_flow": null,
            "grid_auto_rows": null,
            "grid_column": null,
            "grid_gap": null,
            "grid_row": null,
            "grid_template_areas": null,
            "grid_template_columns": null,
            "grid_template_rows": null,
            "height": null,
            "justify_content": null,
            "justify_items": null,
            "left": null,
            "margin": null,
            "max_height": null,
            "max_width": null,
            "min_height": null,
            "min_width": null,
            "object_fit": null,
            "object_position": null,
            "order": null,
            "overflow": null,
            "overflow_x": null,
            "overflow_y": null,
            "padding": null,
            "right": null,
            "top": null,
            "visibility": null,
            "width": null
          }
        },
        "c90b0b2807ef44e4b59deceaaef98990": {
          "model_module": "@jupyter-widgets/controls",
          "model_name": "DescriptionStyleModel",
          "model_module_version": "1.5.0",
          "state": {
            "_model_module": "@jupyter-widgets/controls",
            "_model_module_version": "1.5.0",
            "_model_name": "DescriptionStyleModel",
            "_view_count": null,
            "_view_module": "@jupyter-widgets/base",
            "_view_module_version": "1.2.0",
            "_view_name": "StyleView",
            "description_width": ""
          }
        },
        "0a680870e6ea481ba53bd20f5b6ef018": {
          "model_module": "@jupyter-widgets/base",
          "model_name": "LayoutModel",
          "model_module_version": "1.2.0",
          "state": {
            "_model_module": "@jupyter-widgets/base",
            "_model_module_version": "1.2.0",
            "_model_name": "LayoutModel",
            "_view_count": null,
            "_view_module": "@jupyter-widgets/base",
            "_view_module_version": "1.2.0",
            "_view_name": "LayoutView",
            "align_content": null,
            "align_items": null,
            "align_self": null,
            "border": null,
            "bottom": null,
            "display": null,
            "flex": null,
            "flex_flow": null,
            "grid_area": null,
            "grid_auto_columns": null,
            "grid_auto_flow": null,
            "grid_auto_rows": null,
            "grid_column": null,
            "grid_gap": null,
            "grid_row": null,
            "grid_template_areas": null,
            "grid_template_columns": null,
            "grid_template_rows": null,
            "height": null,
            "justify_content": null,
            "justify_items": null,
            "left": null,
            "margin": null,
            "max_height": null,
            "max_width": null,
            "min_height": null,
            "min_width": null,
            "object_fit": null,
            "object_position": null,
            "order": null,
            "overflow": null,
            "overflow_x": null,
            "overflow_y": null,
            "padding": null,
            "right": null,
            "top": null,
            "visibility": null,
            "width": null
          }
        },
        "dfe77701e25d41e0b85a76b8415dce42": {
          "model_module": "@jupyter-widgets/controls",
          "model_name": "ProgressStyleModel",
          "model_module_version": "1.5.0",
          "state": {
            "_model_module": "@jupyter-widgets/controls",
            "_model_module_version": "1.5.0",
            "_model_name": "ProgressStyleModel",
            "_view_count": null,
            "_view_module": "@jupyter-widgets/base",
            "_view_module_version": "1.2.0",
            "_view_name": "StyleView",
            "bar_color": null,
            "description_width": ""
          }
        },
        "074204869b4c4e3d9f42fa86383ec39a": {
          "model_module": "@jupyter-widgets/base",
          "model_name": "LayoutModel",
          "model_module_version": "1.2.0",
          "state": {
            "_model_module": "@jupyter-widgets/base",
            "_model_module_version": "1.2.0",
            "_model_name": "LayoutModel",
            "_view_count": null,
            "_view_module": "@jupyter-widgets/base",
            "_view_module_version": "1.2.0",
            "_view_name": "LayoutView",
            "align_content": null,
            "align_items": null,
            "align_self": null,
            "border": null,
            "bottom": null,
            "display": null,
            "flex": null,
            "flex_flow": null,
            "grid_area": null,
            "grid_auto_columns": null,
            "grid_auto_flow": null,
            "grid_auto_rows": null,
            "grid_column": null,
            "grid_gap": null,
            "grid_row": null,
            "grid_template_areas": null,
            "grid_template_columns": null,
            "grid_template_rows": null,
            "height": null,
            "justify_content": null,
            "justify_items": null,
            "left": null,
            "margin": null,
            "max_height": null,
            "max_width": null,
            "min_height": null,
            "min_width": null,
            "object_fit": null,
            "object_position": null,
            "order": null,
            "overflow": null,
            "overflow_x": null,
            "overflow_y": null,
            "padding": null,
            "right": null,
            "top": null,
            "visibility": null,
            "width": null
          }
        },
        "791f752007ec459e87cebbe034f6ce0e": {
          "model_module": "@jupyter-widgets/controls",
          "model_name": "DescriptionStyleModel",
          "model_module_version": "1.5.0",
          "state": {
            "_model_module": "@jupyter-widgets/controls",
            "_model_module_version": "1.5.0",
            "_model_name": "DescriptionStyleModel",
            "_view_count": null,
            "_view_module": "@jupyter-widgets/base",
            "_view_module_version": "1.2.0",
            "_view_name": "StyleView",
            "description_width": ""
          }
        },
        "ed9fbb090b8842f3b55dd337d5002352": {
          "model_module": "@jupyter-widgets/controls",
          "model_name": "HBoxModel",
          "model_module_version": "1.5.0",
          "state": {
            "_dom_classes": [],
            "_model_module": "@jupyter-widgets/controls",
            "_model_module_version": "1.5.0",
            "_model_name": "HBoxModel",
            "_view_count": null,
            "_view_module": "@jupyter-widgets/controls",
            "_view_module_version": "1.5.0",
            "_view_name": "HBoxView",
            "box_style": "",
            "children": [
              "IPY_MODEL_679622e2af814dcab4f6df8f61adac94",
              "IPY_MODEL_4c73e823193b4b43b4da5aeb69b2b033",
              "IPY_MODEL_dd4e140bd0fe44a88a2f47da2c8f37cd"
            ],
            "layout": "IPY_MODEL_f9f7d77f72984d6291bff2200e78ab39"
          }
        },
        "679622e2af814dcab4f6df8f61adac94": {
          "model_module": "@jupyter-widgets/controls",
          "model_name": "HTMLModel",
          "model_module_version": "1.5.0",
          "state": {
            "_dom_classes": [],
            "_model_module": "@jupyter-widgets/controls",
            "_model_module_version": "1.5.0",
            "_model_name": "HTMLModel",
            "_view_count": null,
            "_view_module": "@jupyter-widgets/controls",
            "_view_module_version": "1.5.0",
            "_view_name": "HTMLView",
            "description": "",
            "description_tooltip": null,
            "layout": "IPY_MODEL_625bfbadab414ce7882e66f8b6066b81",
            "placeholder": "​",
            "style": "IPY_MODEL_26d4d50202ee4d87a0a030449519cd0a",
            "value": "100%"
          }
        },
        "4c73e823193b4b43b4da5aeb69b2b033": {
          "model_module": "@jupyter-widgets/controls",
          "model_name": "FloatProgressModel",
          "model_module_version": "1.5.0",
          "state": {
            "_dom_classes": [],
            "_model_module": "@jupyter-widgets/controls",
            "_model_module_version": "1.5.0",
            "_model_name": "FloatProgressModel",
            "_view_count": null,
            "_view_module": "@jupyter-widgets/controls",
            "_view_module_version": "1.5.0",
            "_view_name": "ProgressView",
            "bar_style": "success",
            "description": "",
            "description_tooltip": null,
            "layout": "IPY_MODEL_0bd49f9efadb44f6a9438fbc1bb4e5be",
            "max": 3,
            "min": 0,
            "orientation": "horizontal",
            "style": "IPY_MODEL_6f2e1f9ccac749e7b744eacdf38eeda5",
            "value": 3
          }
        },
        "dd4e140bd0fe44a88a2f47da2c8f37cd": {
          "model_module": "@jupyter-widgets/controls",
          "model_name": "HTMLModel",
          "model_module_version": "1.5.0",
          "state": {
            "_dom_classes": [],
            "_model_module": "@jupyter-widgets/controls",
            "_model_module_version": "1.5.0",
            "_model_name": "HTMLModel",
            "_view_count": null,
            "_view_module": "@jupyter-widgets/controls",
            "_view_module_version": "1.5.0",
            "_view_name": "HTMLView",
            "description": "",
            "description_tooltip": null,
            "layout": "IPY_MODEL_99e136d699d44e0f8f3ec3e410341d74",
            "placeholder": "​",
            "style": "IPY_MODEL_f3a42b747e6e4a65b400ea100dddd0d7",
            "value": " 3/3 [00:28&lt;00:00,  9.61s/it]"
          }
        },
        "f9f7d77f72984d6291bff2200e78ab39": {
          "model_module": "@jupyter-widgets/base",
          "model_name": "LayoutModel",
          "model_module_version": "1.2.0",
          "state": {
            "_model_module": "@jupyter-widgets/base",
            "_model_module_version": "1.2.0",
            "_model_name": "LayoutModel",
            "_view_count": null,
            "_view_module": "@jupyter-widgets/base",
            "_view_module_version": "1.2.0",
            "_view_name": "LayoutView",
            "align_content": null,
            "align_items": null,
            "align_self": null,
            "border": null,
            "bottom": null,
            "display": null,
            "flex": null,
            "flex_flow": null,
            "grid_area": null,
            "grid_auto_columns": null,
            "grid_auto_flow": null,
            "grid_auto_rows": null,
            "grid_column": null,
            "grid_gap": null,
            "grid_row": null,
            "grid_template_areas": null,
            "grid_template_columns": null,
            "grid_template_rows": null,
            "height": null,
            "justify_content": null,
            "justify_items": null,
            "left": null,
            "margin": null,
            "max_height": null,
            "max_width": null,
            "min_height": null,
            "min_width": null,
            "object_fit": null,
            "object_position": null,
            "order": null,
            "overflow": null,
            "overflow_x": null,
            "overflow_y": null,
            "padding": null,
            "right": null,
            "top": null,
            "visibility": null,
            "width": null
          }
        },
        "625bfbadab414ce7882e66f8b6066b81": {
          "model_module": "@jupyter-widgets/base",
          "model_name": "LayoutModel",
          "model_module_version": "1.2.0",
          "state": {
            "_model_module": "@jupyter-widgets/base",
            "_model_module_version": "1.2.0",
            "_model_name": "LayoutModel",
            "_view_count": null,
            "_view_module": "@jupyter-widgets/base",
            "_view_module_version": "1.2.0",
            "_view_name": "LayoutView",
            "align_content": null,
            "align_items": null,
            "align_self": null,
            "border": null,
            "bottom": null,
            "display": null,
            "flex": null,
            "flex_flow": null,
            "grid_area": null,
            "grid_auto_columns": null,
            "grid_auto_flow": null,
            "grid_auto_rows": null,
            "grid_column": null,
            "grid_gap": null,
            "grid_row": null,
            "grid_template_areas": null,
            "grid_template_columns": null,
            "grid_template_rows": null,
            "height": null,
            "justify_content": null,
            "justify_items": null,
            "left": null,
            "margin": null,
            "max_height": null,
            "max_width": null,
            "min_height": null,
            "min_width": null,
            "object_fit": null,
            "object_position": null,
            "order": null,
            "overflow": null,
            "overflow_x": null,
            "overflow_y": null,
            "padding": null,
            "right": null,
            "top": null,
            "visibility": null,
            "width": null
          }
        },
        "26d4d50202ee4d87a0a030449519cd0a": {
          "model_module": "@jupyter-widgets/controls",
          "model_name": "DescriptionStyleModel",
          "model_module_version": "1.5.0",
          "state": {
            "_model_module": "@jupyter-widgets/controls",
            "_model_module_version": "1.5.0",
            "_model_name": "DescriptionStyleModel",
            "_view_count": null,
            "_view_module": "@jupyter-widgets/base",
            "_view_module_version": "1.2.0",
            "_view_name": "StyleView",
            "description_width": ""
          }
        },
        "0bd49f9efadb44f6a9438fbc1bb4e5be": {
          "model_module": "@jupyter-widgets/base",
          "model_name": "LayoutModel",
          "model_module_version": "1.2.0",
          "state": {
            "_model_module": "@jupyter-widgets/base",
            "_model_module_version": "1.2.0",
            "_model_name": "LayoutModel",
            "_view_count": null,
            "_view_module": "@jupyter-widgets/base",
            "_view_module_version": "1.2.0",
            "_view_name": "LayoutView",
            "align_content": null,
            "align_items": null,
            "align_self": null,
            "border": null,
            "bottom": null,
            "display": null,
            "flex": null,
            "flex_flow": null,
            "grid_area": null,
            "grid_auto_columns": null,
            "grid_auto_flow": null,
            "grid_auto_rows": null,
            "grid_column": null,
            "grid_gap": null,
            "grid_row": null,
            "grid_template_areas": null,
            "grid_template_columns": null,
            "grid_template_rows": null,
            "height": null,
            "justify_content": null,
            "justify_items": null,
            "left": null,
            "margin": null,
            "max_height": null,
            "max_width": null,
            "min_height": null,
            "min_width": null,
            "object_fit": null,
            "object_position": null,
            "order": null,
            "overflow": null,
            "overflow_x": null,
            "overflow_y": null,
            "padding": null,
            "right": null,
            "top": null,
            "visibility": null,
            "width": null
          }
        },
        "6f2e1f9ccac749e7b744eacdf38eeda5": {
          "model_module": "@jupyter-widgets/controls",
          "model_name": "ProgressStyleModel",
          "model_module_version": "1.5.0",
          "state": {
            "_model_module": "@jupyter-widgets/controls",
            "_model_module_version": "1.5.0",
            "_model_name": "ProgressStyleModel",
            "_view_count": null,
            "_view_module": "@jupyter-widgets/base",
            "_view_module_version": "1.2.0",
            "_view_name": "StyleView",
            "bar_color": null,
            "description_width": ""
          }
        },
        "99e136d699d44e0f8f3ec3e410341d74": {
          "model_module": "@jupyter-widgets/base",
          "model_name": "LayoutModel",
          "model_module_version": "1.2.0",
          "state": {
            "_model_module": "@jupyter-widgets/base",
            "_model_module_version": "1.2.0",
            "_model_name": "LayoutModel",
            "_view_count": null,
            "_view_module": "@jupyter-widgets/base",
            "_view_module_version": "1.2.0",
            "_view_name": "LayoutView",
            "align_content": null,
            "align_items": null,
            "align_self": null,
            "border": null,
            "bottom": null,
            "display": null,
            "flex": null,
            "flex_flow": null,
            "grid_area": null,
            "grid_auto_columns": null,
            "grid_auto_flow": null,
            "grid_auto_rows": null,
            "grid_column": null,
            "grid_gap": null,
            "grid_row": null,
            "grid_template_areas": null,
            "grid_template_columns": null,
            "grid_template_rows": null,
            "height": null,
            "justify_content": null,
            "justify_items": null,
            "left": null,
            "margin": null,
            "max_height": null,
            "max_width": null,
            "min_height": null,
            "min_width": null,
            "object_fit": null,
            "object_position": null,
            "order": null,
            "overflow": null,
            "overflow_x": null,
            "overflow_y": null,
            "padding": null,
            "right": null,
            "top": null,
            "visibility": null,
            "width": null
          }
        },
        "f3a42b747e6e4a65b400ea100dddd0d7": {
          "model_module": "@jupyter-widgets/controls",
          "model_name": "DescriptionStyleModel",
          "model_module_version": "1.5.0",
          "state": {
            "_model_module": "@jupyter-widgets/controls",
            "_model_module_version": "1.5.0",
            "_model_name": "DescriptionStyleModel",
            "_view_count": null,
            "_view_module": "@jupyter-widgets/base",
            "_view_module_version": "1.2.0",
            "_view_name": "StyleView",
            "description_width": ""
          }
        },
        "2db1fa7f7de246fc982a456b89237c77": {
          "model_module": "@jupyter-widgets/controls",
          "model_name": "HBoxModel",
          "model_module_version": "1.5.0",
          "state": {
            "_dom_classes": [],
            "_model_module": "@jupyter-widgets/controls",
            "_model_module_version": "1.5.0",
            "_model_name": "HBoxModel",
            "_view_count": null,
            "_view_module": "@jupyter-widgets/controls",
            "_view_module_version": "1.5.0",
            "_view_name": "HBoxView",
            "box_style": "",
            "children": [
              "IPY_MODEL_78bc6a5324d24c8cac0133ac94128b4c",
              "IPY_MODEL_694b8b91f0924eb4bd468c47d0000714",
              "IPY_MODEL_9fb5c2f0c5ab4763964e5487013b689d"
            ],
            "layout": "IPY_MODEL_6f80b521ba94477bbadd21caf3bec01b"
          }
        },
        "78bc6a5324d24c8cac0133ac94128b4c": {
          "model_module": "@jupyter-widgets/controls",
          "model_name": "HTMLModel",
          "model_module_version": "1.5.0",
          "state": {
            "_dom_classes": [],
            "_model_module": "@jupyter-widgets/controls",
            "_model_module_version": "1.5.0",
            "_model_name": "HTMLModel",
            "_view_count": null,
            "_view_module": "@jupyter-widgets/controls",
            "_view_module_version": "1.5.0",
            "_view_name": "HTMLView",
            "description": "",
            "description_tooltip": null,
            "layout": "IPY_MODEL_7e300a61d51f48b694685dc5e488da99",
            "placeholder": "​",
            "style": "IPY_MODEL_80ed450d0b4449969272abc20f4ef551",
            "value": "100%"
          }
        },
        "694b8b91f0924eb4bd468c47d0000714": {
          "model_module": "@jupyter-widgets/controls",
          "model_name": "FloatProgressModel",
          "model_module_version": "1.5.0",
          "state": {
            "_dom_classes": [],
            "_model_module": "@jupyter-widgets/controls",
            "_model_module_version": "1.5.0",
            "_model_name": "FloatProgressModel",
            "_view_count": null,
            "_view_module": "@jupyter-widgets/controls",
            "_view_module_version": "1.5.0",
            "_view_name": "ProgressView",
            "bar_style": "success",
            "description": "",
            "description_tooltip": null,
            "layout": "IPY_MODEL_4ea6040a84374783af3efa5ef710df7e",
            "max": 3,
            "min": 0,
            "orientation": "horizontal",
            "style": "IPY_MODEL_b2d2968f91fc40a4b4b26e738556a29b",
            "value": 3
          }
        },
        "9fb5c2f0c5ab4763964e5487013b689d": {
          "model_module": "@jupyter-widgets/controls",
          "model_name": "HTMLModel",
          "model_module_version": "1.5.0",
          "state": {
            "_dom_classes": [],
            "_model_module": "@jupyter-widgets/controls",
            "_model_module_version": "1.5.0",
            "_model_name": "HTMLModel",
            "_view_count": null,
            "_view_module": "@jupyter-widgets/controls",
            "_view_module_version": "1.5.0",
            "_view_name": "HTMLView",
            "description": "",
            "description_tooltip": null,
            "layout": "IPY_MODEL_ce610d8d4dab4e68adcfa1ab41161a88",
            "placeholder": "​",
            "style": "IPY_MODEL_fd6b0e040c98422a9d79a75e96de5ab9",
            "value": " 3/3 [00:28&lt;00:00,  9.29s/it]"
          }
        },
        "6f80b521ba94477bbadd21caf3bec01b": {
          "model_module": "@jupyter-widgets/base",
          "model_name": "LayoutModel",
          "model_module_version": "1.2.0",
          "state": {
            "_model_module": "@jupyter-widgets/base",
            "_model_module_version": "1.2.0",
            "_model_name": "LayoutModel",
            "_view_count": null,
            "_view_module": "@jupyter-widgets/base",
            "_view_module_version": "1.2.0",
            "_view_name": "LayoutView",
            "align_content": null,
            "align_items": null,
            "align_self": null,
            "border": null,
            "bottom": null,
            "display": null,
            "flex": null,
            "flex_flow": null,
            "grid_area": null,
            "grid_auto_columns": null,
            "grid_auto_flow": null,
            "grid_auto_rows": null,
            "grid_column": null,
            "grid_gap": null,
            "grid_row": null,
            "grid_template_areas": null,
            "grid_template_columns": null,
            "grid_template_rows": null,
            "height": null,
            "justify_content": null,
            "justify_items": null,
            "left": null,
            "margin": null,
            "max_height": null,
            "max_width": null,
            "min_height": null,
            "min_width": null,
            "object_fit": null,
            "object_position": null,
            "order": null,
            "overflow": null,
            "overflow_x": null,
            "overflow_y": null,
            "padding": null,
            "right": null,
            "top": null,
            "visibility": null,
            "width": null
          }
        },
        "7e300a61d51f48b694685dc5e488da99": {
          "model_module": "@jupyter-widgets/base",
          "model_name": "LayoutModel",
          "model_module_version": "1.2.0",
          "state": {
            "_model_module": "@jupyter-widgets/base",
            "_model_module_version": "1.2.0",
            "_model_name": "LayoutModel",
            "_view_count": null,
            "_view_module": "@jupyter-widgets/base",
            "_view_module_version": "1.2.0",
            "_view_name": "LayoutView",
            "align_content": null,
            "align_items": null,
            "align_self": null,
            "border": null,
            "bottom": null,
            "display": null,
            "flex": null,
            "flex_flow": null,
            "grid_area": null,
            "grid_auto_columns": null,
            "grid_auto_flow": null,
            "grid_auto_rows": null,
            "grid_column": null,
            "grid_gap": null,
            "grid_row": null,
            "grid_template_areas": null,
            "grid_template_columns": null,
            "grid_template_rows": null,
            "height": null,
            "justify_content": null,
            "justify_items": null,
            "left": null,
            "margin": null,
            "max_height": null,
            "max_width": null,
            "min_height": null,
            "min_width": null,
            "object_fit": null,
            "object_position": null,
            "order": null,
            "overflow": null,
            "overflow_x": null,
            "overflow_y": null,
            "padding": null,
            "right": null,
            "top": null,
            "visibility": null,
            "width": null
          }
        },
        "80ed450d0b4449969272abc20f4ef551": {
          "model_module": "@jupyter-widgets/controls",
          "model_name": "DescriptionStyleModel",
          "model_module_version": "1.5.0",
          "state": {
            "_model_module": "@jupyter-widgets/controls",
            "_model_module_version": "1.5.0",
            "_model_name": "DescriptionStyleModel",
            "_view_count": null,
            "_view_module": "@jupyter-widgets/base",
            "_view_module_version": "1.2.0",
            "_view_name": "StyleView",
            "description_width": ""
          }
        },
        "4ea6040a84374783af3efa5ef710df7e": {
          "model_module": "@jupyter-widgets/base",
          "model_name": "LayoutModel",
          "model_module_version": "1.2.0",
          "state": {
            "_model_module": "@jupyter-widgets/base",
            "_model_module_version": "1.2.0",
            "_model_name": "LayoutModel",
            "_view_count": null,
            "_view_module": "@jupyter-widgets/base",
            "_view_module_version": "1.2.0",
            "_view_name": "LayoutView",
            "align_content": null,
            "align_items": null,
            "align_self": null,
            "border": null,
            "bottom": null,
            "display": null,
            "flex": null,
            "flex_flow": null,
            "grid_area": null,
            "grid_auto_columns": null,
            "grid_auto_flow": null,
            "grid_auto_rows": null,
            "grid_column": null,
            "grid_gap": null,
            "grid_row": null,
            "grid_template_areas": null,
            "grid_template_columns": null,
            "grid_template_rows": null,
            "height": null,
            "justify_content": null,
            "justify_items": null,
            "left": null,
            "margin": null,
            "max_height": null,
            "max_width": null,
            "min_height": null,
            "min_width": null,
            "object_fit": null,
            "object_position": null,
            "order": null,
            "overflow": null,
            "overflow_x": null,
            "overflow_y": null,
            "padding": null,
            "right": null,
            "top": null,
            "visibility": null,
            "width": null
          }
        },
        "b2d2968f91fc40a4b4b26e738556a29b": {
          "model_module": "@jupyter-widgets/controls",
          "model_name": "ProgressStyleModel",
          "model_module_version": "1.5.0",
          "state": {
            "_model_module": "@jupyter-widgets/controls",
            "_model_module_version": "1.5.0",
            "_model_name": "ProgressStyleModel",
            "_view_count": null,
            "_view_module": "@jupyter-widgets/base",
            "_view_module_version": "1.2.0",
            "_view_name": "StyleView",
            "bar_color": null,
            "description_width": ""
          }
        },
        "ce610d8d4dab4e68adcfa1ab41161a88": {
          "model_module": "@jupyter-widgets/base",
          "model_name": "LayoutModel",
          "model_module_version": "1.2.0",
          "state": {
            "_model_module": "@jupyter-widgets/base",
            "_model_module_version": "1.2.0",
            "_model_name": "LayoutModel",
            "_view_count": null,
            "_view_module": "@jupyter-widgets/base",
            "_view_module_version": "1.2.0",
            "_view_name": "LayoutView",
            "align_content": null,
            "align_items": null,
            "align_self": null,
            "border": null,
            "bottom": null,
            "display": null,
            "flex": null,
            "flex_flow": null,
            "grid_area": null,
            "grid_auto_columns": null,
            "grid_auto_flow": null,
            "grid_auto_rows": null,
            "grid_column": null,
            "grid_gap": null,
            "grid_row": null,
            "grid_template_areas": null,
            "grid_template_columns": null,
            "grid_template_rows": null,
            "height": null,
            "justify_content": null,
            "justify_items": null,
            "left": null,
            "margin": null,
            "max_height": null,
            "max_width": null,
            "min_height": null,
            "min_width": null,
            "object_fit": null,
            "object_position": null,
            "order": null,
            "overflow": null,
            "overflow_x": null,
            "overflow_y": null,
            "padding": null,
            "right": null,
            "top": null,
            "visibility": null,
            "width": null
          }
        },
        "fd6b0e040c98422a9d79a75e96de5ab9": {
          "model_module": "@jupyter-widgets/controls",
          "model_name": "DescriptionStyleModel",
          "model_module_version": "1.5.0",
          "state": {
            "_model_module": "@jupyter-widgets/controls",
            "_model_module_version": "1.5.0",
            "_model_name": "DescriptionStyleModel",
            "_view_count": null,
            "_view_module": "@jupyter-widgets/base",
            "_view_module_version": "1.2.0",
            "_view_name": "StyleView",
            "description_width": ""
          }
        },
        "a43bbc51f263468583ae888c102e659d": {
          "model_module": "@jupyter-widgets/controls",
          "model_name": "HBoxModel",
          "model_module_version": "1.5.0",
          "state": {
            "_dom_classes": [],
            "_model_module": "@jupyter-widgets/controls",
            "_model_module_version": "1.5.0",
            "_model_name": "HBoxModel",
            "_view_count": null,
            "_view_module": "@jupyter-widgets/controls",
            "_view_module_version": "1.5.0",
            "_view_name": "HBoxView",
            "box_style": "",
            "children": [
              "IPY_MODEL_5bb1dc18b1fb43978b74e16c8f69804a",
              "IPY_MODEL_0e4a68df3e244b49b658f86087c08ee9",
              "IPY_MODEL_33a10dc48ced4f5e994411b5203953c0"
            ],
            "layout": "IPY_MODEL_11cd64d91f064b59b4cfd5be1cdcd091"
          }
        },
        "5bb1dc18b1fb43978b74e16c8f69804a": {
          "model_module": "@jupyter-widgets/controls",
          "model_name": "HTMLModel",
          "model_module_version": "1.5.0",
          "state": {
            "_dom_classes": [],
            "_model_module": "@jupyter-widgets/controls",
            "_model_module_version": "1.5.0",
            "_model_name": "HTMLModel",
            "_view_count": null,
            "_view_module": "@jupyter-widgets/controls",
            "_view_module_version": "1.5.0",
            "_view_name": "HTMLView",
            "description": "",
            "description_tooltip": null,
            "layout": "IPY_MODEL_09548305fd5e446596845755f49856bf",
            "placeholder": "​",
            "style": "IPY_MODEL_39189c7dd3a14c61b889115ca006bcd1",
            "value": "100%"
          }
        },
        "0e4a68df3e244b49b658f86087c08ee9": {
          "model_module": "@jupyter-widgets/controls",
          "model_name": "FloatProgressModel",
          "model_module_version": "1.5.0",
          "state": {
            "_dom_classes": [],
            "_model_module": "@jupyter-widgets/controls",
            "_model_module_version": "1.5.0",
            "_model_name": "FloatProgressModel",
            "_view_count": null,
            "_view_module": "@jupyter-widgets/controls",
            "_view_module_version": "1.5.0",
            "_view_name": "ProgressView",
            "bar_style": "success",
            "description": "",
            "description_tooltip": null,
            "layout": "IPY_MODEL_a3853731fdde434893ad87fc982a28d3",
            "max": 3,
            "min": 0,
            "orientation": "horizontal",
            "style": "IPY_MODEL_7ebfd74345c2481a8acfd8d4c9034dc1",
            "value": 3
          }
        },
        "33a10dc48ced4f5e994411b5203953c0": {
          "model_module": "@jupyter-widgets/controls",
          "model_name": "HTMLModel",
          "model_module_version": "1.5.0",
          "state": {
            "_dom_classes": [],
            "_model_module": "@jupyter-widgets/controls",
            "_model_module_version": "1.5.0",
            "_model_name": "HTMLModel",
            "_view_count": null,
            "_view_module": "@jupyter-widgets/controls",
            "_view_module_version": "1.5.0",
            "_view_name": "HTMLView",
            "description": "",
            "description_tooltip": null,
            "layout": "IPY_MODEL_a66a6aff5a1544e28f30dc89b8f5e697",
            "placeholder": "​",
            "style": "IPY_MODEL_14d52aef546844cc917485fc81052eef",
            "value": " 3/3 [00:35&lt;00:00, 11.64s/it]"
          }
        },
        "11cd64d91f064b59b4cfd5be1cdcd091": {
          "model_module": "@jupyter-widgets/base",
          "model_name": "LayoutModel",
          "model_module_version": "1.2.0",
          "state": {
            "_model_module": "@jupyter-widgets/base",
            "_model_module_version": "1.2.0",
            "_model_name": "LayoutModel",
            "_view_count": null,
            "_view_module": "@jupyter-widgets/base",
            "_view_module_version": "1.2.0",
            "_view_name": "LayoutView",
            "align_content": null,
            "align_items": null,
            "align_self": null,
            "border": null,
            "bottom": null,
            "display": null,
            "flex": null,
            "flex_flow": null,
            "grid_area": null,
            "grid_auto_columns": null,
            "grid_auto_flow": null,
            "grid_auto_rows": null,
            "grid_column": null,
            "grid_gap": null,
            "grid_row": null,
            "grid_template_areas": null,
            "grid_template_columns": null,
            "grid_template_rows": null,
            "height": null,
            "justify_content": null,
            "justify_items": null,
            "left": null,
            "margin": null,
            "max_height": null,
            "max_width": null,
            "min_height": null,
            "min_width": null,
            "object_fit": null,
            "object_position": null,
            "order": null,
            "overflow": null,
            "overflow_x": null,
            "overflow_y": null,
            "padding": null,
            "right": null,
            "top": null,
            "visibility": null,
            "width": null
          }
        },
        "09548305fd5e446596845755f49856bf": {
          "model_module": "@jupyter-widgets/base",
          "model_name": "LayoutModel",
          "model_module_version": "1.2.0",
          "state": {
            "_model_module": "@jupyter-widgets/base",
            "_model_module_version": "1.2.0",
            "_model_name": "LayoutModel",
            "_view_count": null,
            "_view_module": "@jupyter-widgets/base",
            "_view_module_version": "1.2.0",
            "_view_name": "LayoutView",
            "align_content": null,
            "align_items": null,
            "align_self": null,
            "border": null,
            "bottom": null,
            "display": null,
            "flex": null,
            "flex_flow": null,
            "grid_area": null,
            "grid_auto_columns": null,
            "grid_auto_flow": null,
            "grid_auto_rows": null,
            "grid_column": null,
            "grid_gap": null,
            "grid_row": null,
            "grid_template_areas": null,
            "grid_template_columns": null,
            "grid_template_rows": null,
            "height": null,
            "justify_content": null,
            "justify_items": null,
            "left": null,
            "margin": null,
            "max_height": null,
            "max_width": null,
            "min_height": null,
            "min_width": null,
            "object_fit": null,
            "object_position": null,
            "order": null,
            "overflow": null,
            "overflow_x": null,
            "overflow_y": null,
            "padding": null,
            "right": null,
            "top": null,
            "visibility": null,
            "width": null
          }
        },
        "39189c7dd3a14c61b889115ca006bcd1": {
          "model_module": "@jupyter-widgets/controls",
          "model_name": "DescriptionStyleModel",
          "model_module_version": "1.5.0",
          "state": {
            "_model_module": "@jupyter-widgets/controls",
            "_model_module_version": "1.5.0",
            "_model_name": "DescriptionStyleModel",
            "_view_count": null,
            "_view_module": "@jupyter-widgets/base",
            "_view_module_version": "1.2.0",
            "_view_name": "StyleView",
            "description_width": ""
          }
        },
        "a3853731fdde434893ad87fc982a28d3": {
          "model_module": "@jupyter-widgets/base",
          "model_name": "LayoutModel",
          "model_module_version": "1.2.0",
          "state": {
            "_model_module": "@jupyter-widgets/base",
            "_model_module_version": "1.2.0",
            "_model_name": "LayoutModel",
            "_view_count": null,
            "_view_module": "@jupyter-widgets/base",
            "_view_module_version": "1.2.0",
            "_view_name": "LayoutView",
            "align_content": null,
            "align_items": null,
            "align_self": null,
            "border": null,
            "bottom": null,
            "display": null,
            "flex": null,
            "flex_flow": null,
            "grid_area": null,
            "grid_auto_columns": null,
            "grid_auto_flow": null,
            "grid_auto_rows": null,
            "grid_column": null,
            "grid_gap": null,
            "grid_row": null,
            "grid_template_areas": null,
            "grid_template_columns": null,
            "grid_template_rows": null,
            "height": null,
            "justify_content": null,
            "justify_items": null,
            "left": null,
            "margin": null,
            "max_height": null,
            "max_width": null,
            "min_height": null,
            "min_width": null,
            "object_fit": null,
            "object_position": null,
            "order": null,
            "overflow": null,
            "overflow_x": null,
            "overflow_y": null,
            "padding": null,
            "right": null,
            "top": null,
            "visibility": null,
            "width": null
          }
        },
        "7ebfd74345c2481a8acfd8d4c9034dc1": {
          "model_module": "@jupyter-widgets/controls",
          "model_name": "ProgressStyleModel",
          "model_module_version": "1.5.0",
          "state": {
            "_model_module": "@jupyter-widgets/controls",
            "_model_module_version": "1.5.0",
            "_model_name": "ProgressStyleModel",
            "_view_count": null,
            "_view_module": "@jupyter-widgets/base",
            "_view_module_version": "1.2.0",
            "_view_name": "StyleView",
            "bar_color": null,
            "description_width": ""
          }
        },
        "a66a6aff5a1544e28f30dc89b8f5e697": {
          "model_module": "@jupyter-widgets/base",
          "model_name": "LayoutModel",
          "model_module_version": "1.2.0",
          "state": {
            "_model_module": "@jupyter-widgets/base",
            "_model_module_version": "1.2.0",
            "_model_name": "LayoutModel",
            "_view_count": null,
            "_view_module": "@jupyter-widgets/base",
            "_view_module_version": "1.2.0",
            "_view_name": "LayoutView",
            "align_content": null,
            "align_items": null,
            "align_self": null,
            "border": null,
            "bottom": null,
            "display": null,
            "flex": null,
            "flex_flow": null,
            "grid_area": null,
            "grid_auto_columns": null,
            "grid_auto_flow": null,
            "grid_auto_rows": null,
            "grid_column": null,
            "grid_gap": null,
            "grid_row": null,
            "grid_template_areas": null,
            "grid_template_columns": null,
            "grid_template_rows": null,
            "height": null,
            "justify_content": null,
            "justify_items": null,
            "left": null,
            "margin": null,
            "max_height": null,
            "max_width": null,
            "min_height": null,
            "min_width": null,
            "object_fit": null,
            "object_position": null,
            "order": null,
            "overflow": null,
            "overflow_x": null,
            "overflow_y": null,
            "padding": null,
            "right": null,
            "top": null,
            "visibility": null,
            "width": null
          }
        },
        "14d52aef546844cc917485fc81052eef": {
          "model_module": "@jupyter-widgets/controls",
          "model_name": "DescriptionStyleModel",
          "model_module_version": "1.5.0",
          "state": {
            "_model_module": "@jupyter-widgets/controls",
            "_model_module_version": "1.5.0",
            "_model_name": "DescriptionStyleModel",
            "_view_count": null,
            "_view_module": "@jupyter-widgets/base",
            "_view_module_version": "1.2.0",
            "_view_name": "StyleView",
            "description_width": ""
          }
        },
        "04af051353754b60a52027b7908b6aaa": {
          "model_module": "@jupyter-widgets/controls",
          "model_name": "HBoxModel",
          "model_module_version": "1.5.0",
          "state": {
            "_dom_classes": [],
            "_model_module": "@jupyter-widgets/controls",
            "_model_module_version": "1.5.0",
            "_model_name": "HBoxModel",
            "_view_count": null,
            "_view_module": "@jupyter-widgets/controls",
            "_view_module_version": "1.5.0",
            "_view_name": "HBoxView",
            "box_style": "",
            "children": [
              "IPY_MODEL_97d7edf8ed9048f29286ed0f1a254b5d",
              "IPY_MODEL_2e851ab54a9a4349bb3d8086ef3e8120",
              "IPY_MODEL_c80b399b25564b89b3c556b28830e022"
            ],
            "layout": "IPY_MODEL_360a5b59d2c04662b5ad4f0d98535df1"
          }
        },
        "97d7edf8ed9048f29286ed0f1a254b5d": {
          "model_module": "@jupyter-widgets/controls",
          "model_name": "HTMLModel",
          "model_module_version": "1.5.0",
          "state": {
            "_dom_classes": [],
            "_model_module": "@jupyter-widgets/controls",
            "_model_module_version": "1.5.0",
            "_model_name": "HTMLModel",
            "_view_count": null,
            "_view_module": "@jupyter-widgets/controls",
            "_view_module_version": "1.5.0",
            "_view_name": "HTMLView",
            "description": "",
            "description_tooltip": null,
            "layout": "IPY_MODEL_867780f6ad8b4cfea8a578d07bb0298d",
            "placeholder": "​",
            "style": "IPY_MODEL_0d2497d6a92c47688c7785914b2016c9",
            "value": "Making predictions: 100%"
          }
        },
        "2e851ab54a9a4349bb3d8086ef3e8120": {
          "model_module": "@jupyter-widgets/controls",
          "model_name": "FloatProgressModel",
          "model_module_version": "1.5.0",
          "state": {
            "_dom_classes": [],
            "_model_module": "@jupyter-widgets/controls",
            "_model_module_version": "1.5.0",
            "_model_name": "FloatProgressModel",
            "_view_count": null,
            "_view_module": "@jupyter-widgets/controls",
            "_view_module_version": "1.5.0",
            "_view_name": "ProgressView",
            "bar_style": "success",
            "description": "",
            "description_tooltip": null,
            "layout": "IPY_MODEL_0034df2d9b1341b3ad420011afd96b27",
            "max": 313,
            "min": 0,
            "orientation": "horizontal",
            "style": "IPY_MODEL_70327b1b655d4bf88122b08e0dc90e95",
            "value": 313
          }
        },
        "c80b399b25564b89b3c556b28830e022": {
          "model_module": "@jupyter-widgets/controls",
          "model_name": "HTMLModel",
          "model_module_version": "1.5.0",
          "state": {
            "_dom_classes": [],
            "_model_module": "@jupyter-widgets/controls",
            "_model_module_version": "1.5.0",
            "_model_name": "HTMLModel",
            "_view_count": null,
            "_view_module": "@jupyter-widgets/controls",
            "_view_module_version": "1.5.0",
            "_view_name": "HTMLView",
            "description": "",
            "description_tooltip": null,
            "layout": "IPY_MODEL_c35c010adf4c40dbb434a58ee140b051",
            "placeholder": "​",
            "style": "IPY_MODEL_a9c34a7a622845ada9d31497c1b54ce0",
            "value": " 313/313 [00:01&lt;00:00, 280.52it/s]"
          }
        },
        "360a5b59d2c04662b5ad4f0d98535df1": {
          "model_module": "@jupyter-widgets/base",
          "model_name": "LayoutModel",
          "model_module_version": "1.2.0",
          "state": {
            "_model_module": "@jupyter-widgets/base",
            "_model_module_version": "1.2.0",
            "_model_name": "LayoutModel",
            "_view_count": null,
            "_view_module": "@jupyter-widgets/base",
            "_view_module_version": "1.2.0",
            "_view_name": "LayoutView",
            "align_content": null,
            "align_items": null,
            "align_self": null,
            "border": null,
            "bottom": null,
            "display": null,
            "flex": null,
            "flex_flow": null,
            "grid_area": null,
            "grid_auto_columns": null,
            "grid_auto_flow": null,
            "grid_auto_rows": null,
            "grid_column": null,
            "grid_gap": null,
            "grid_row": null,
            "grid_template_areas": null,
            "grid_template_columns": null,
            "grid_template_rows": null,
            "height": null,
            "justify_content": null,
            "justify_items": null,
            "left": null,
            "margin": null,
            "max_height": null,
            "max_width": null,
            "min_height": null,
            "min_width": null,
            "object_fit": null,
            "object_position": null,
            "order": null,
            "overflow": null,
            "overflow_x": null,
            "overflow_y": null,
            "padding": null,
            "right": null,
            "top": null,
            "visibility": null,
            "width": null
          }
        },
        "867780f6ad8b4cfea8a578d07bb0298d": {
          "model_module": "@jupyter-widgets/base",
          "model_name": "LayoutModel",
          "model_module_version": "1.2.0",
          "state": {
            "_model_module": "@jupyter-widgets/base",
            "_model_module_version": "1.2.0",
            "_model_name": "LayoutModel",
            "_view_count": null,
            "_view_module": "@jupyter-widgets/base",
            "_view_module_version": "1.2.0",
            "_view_name": "LayoutView",
            "align_content": null,
            "align_items": null,
            "align_self": null,
            "border": null,
            "bottom": null,
            "display": null,
            "flex": null,
            "flex_flow": null,
            "grid_area": null,
            "grid_auto_columns": null,
            "grid_auto_flow": null,
            "grid_auto_rows": null,
            "grid_column": null,
            "grid_gap": null,
            "grid_row": null,
            "grid_template_areas": null,
            "grid_template_columns": null,
            "grid_template_rows": null,
            "height": null,
            "justify_content": null,
            "justify_items": null,
            "left": null,
            "margin": null,
            "max_height": null,
            "max_width": null,
            "min_height": null,
            "min_width": null,
            "object_fit": null,
            "object_position": null,
            "order": null,
            "overflow": null,
            "overflow_x": null,
            "overflow_y": null,
            "padding": null,
            "right": null,
            "top": null,
            "visibility": null,
            "width": null
          }
        },
        "0d2497d6a92c47688c7785914b2016c9": {
          "model_module": "@jupyter-widgets/controls",
          "model_name": "DescriptionStyleModel",
          "model_module_version": "1.5.0",
          "state": {
            "_model_module": "@jupyter-widgets/controls",
            "_model_module_version": "1.5.0",
            "_model_name": "DescriptionStyleModel",
            "_view_count": null,
            "_view_module": "@jupyter-widgets/base",
            "_view_module_version": "1.2.0",
            "_view_name": "StyleView",
            "description_width": ""
          }
        },
        "0034df2d9b1341b3ad420011afd96b27": {
          "model_module": "@jupyter-widgets/base",
          "model_name": "LayoutModel",
          "model_module_version": "1.2.0",
          "state": {
            "_model_module": "@jupyter-widgets/base",
            "_model_module_version": "1.2.0",
            "_model_name": "LayoutModel",
            "_view_count": null,
            "_view_module": "@jupyter-widgets/base",
            "_view_module_version": "1.2.0",
            "_view_name": "LayoutView",
            "align_content": null,
            "align_items": null,
            "align_self": null,
            "border": null,
            "bottom": null,
            "display": null,
            "flex": null,
            "flex_flow": null,
            "grid_area": null,
            "grid_auto_columns": null,
            "grid_auto_flow": null,
            "grid_auto_rows": null,
            "grid_column": null,
            "grid_gap": null,
            "grid_row": null,
            "grid_template_areas": null,
            "grid_template_columns": null,
            "grid_template_rows": null,
            "height": null,
            "justify_content": null,
            "justify_items": null,
            "left": null,
            "margin": null,
            "max_height": null,
            "max_width": null,
            "min_height": null,
            "min_width": null,
            "object_fit": null,
            "object_position": null,
            "order": null,
            "overflow": null,
            "overflow_x": null,
            "overflow_y": null,
            "padding": null,
            "right": null,
            "top": null,
            "visibility": null,
            "width": null
          }
        },
        "70327b1b655d4bf88122b08e0dc90e95": {
          "model_module": "@jupyter-widgets/controls",
          "model_name": "ProgressStyleModel",
          "model_module_version": "1.5.0",
          "state": {
            "_model_module": "@jupyter-widgets/controls",
            "_model_module_version": "1.5.0",
            "_model_name": "ProgressStyleModel",
            "_view_count": null,
            "_view_module": "@jupyter-widgets/base",
            "_view_module_version": "1.2.0",
            "_view_name": "StyleView",
            "bar_color": null,
            "description_width": ""
          }
        },
        "c35c010adf4c40dbb434a58ee140b051": {
          "model_module": "@jupyter-widgets/base",
          "model_name": "LayoutModel",
          "model_module_version": "1.2.0",
          "state": {
            "_model_module": "@jupyter-widgets/base",
            "_model_module_version": "1.2.0",
            "_model_name": "LayoutModel",
            "_view_count": null,
            "_view_module": "@jupyter-widgets/base",
            "_view_module_version": "1.2.0",
            "_view_name": "LayoutView",
            "align_content": null,
            "align_items": null,
            "align_self": null,
            "border": null,
            "bottom": null,
            "display": null,
            "flex": null,
            "flex_flow": null,
            "grid_area": null,
            "grid_auto_columns": null,
            "grid_auto_flow": null,
            "grid_auto_rows": null,
            "grid_column": null,
            "grid_gap": null,
            "grid_row": null,
            "grid_template_areas": null,
            "grid_template_columns": null,
            "grid_template_rows": null,
            "height": null,
            "justify_content": null,
            "justify_items": null,
            "left": null,
            "margin": null,
            "max_height": null,
            "max_width": null,
            "min_height": null,
            "min_width": null,
            "object_fit": null,
            "object_position": null,
            "order": null,
            "overflow": null,
            "overflow_x": null,
            "overflow_y": null,
            "padding": null,
            "right": null,
            "top": null,
            "visibility": null,
            "width": null
          }
        },
        "a9c34a7a622845ada9d31497c1b54ce0": {
          "model_module": "@jupyter-widgets/controls",
          "model_name": "DescriptionStyleModel",
          "model_module_version": "1.5.0",
          "state": {
            "_model_module": "@jupyter-widgets/controls",
            "_model_module_version": "1.5.0",
            "_model_name": "DescriptionStyleModel",
            "_view_count": null,
            "_view_module": "@jupyter-widgets/base",
            "_view_module_version": "1.2.0",
            "_view_name": "StyleView",
            "description_width": ""
          }
        }
      }
    }
  },
  "cells": [
    {
      "cell_type": "markdown",
      "metadata": {
        "id": "view-in-github",
        "colab_type": "text"
      },
      "source": [
        "<a href=\"https://colab.research.google.com/github/nadimaiza/CNN_multiclass/blob/main/CNN_.ipynb\" target=\"_parent\"><img src=\"https://colab.research.google.com/assets/colab-badge.svg\" alt=\"Open In Colab\"/></a>"
      ]
    },
    {
      "cell_type": "code",
      "execution_count": 1,
      "metadata": {
        "colab": {
          "base_uri": "https://localhost:8080/"
        },
        "id": "cj7X31PEBuuw",
        "outputId": "ebf63cb2-1389-43a8-a6d0-cd86a24c6428"
      },
      "outputs": [
        {
          "output_type": "stream",
          "name": "stdout",
          "text": [
            "2.5.1+cu121\n",
            "0.20.1+cu121\n"
          ]
        }
      ],
      "source": [
        "import torch\n",
        "from torch import nn\n",
        "\n",
        "import torchvision\n",
        "from torchvision import datasets\n",
        "from torchvision import transforms\n",
        "from torchvision.transforms import ToTensor\n",
        "\n",
        "\n",
        "import matplotlib.pyplot as plt\n",
        "\n",
        "# Check versions\n",
        "print(torch.__version__)\n",
        "\n",
        "print(torchvision.__version__)"
      ]
    },
    {
      "cell_type": "code",
      "source": [
        "device = torch.device(\"cuda\" if torch.cuda.is_available() else \"cpu\")"
      ],
      "metadata": {
        "id": "T3KOobhQKmXy"
      },
      "execution_count": null,
      "outputs": []
    },
    {
      "cell_type": "code",
      "source": [
        "training_data = datasets.FashionMNIST(\n",
        "                root = \"data\",\n",
        "                train = True,\n",
        "                download= True,\n",
        "                transform = ToTensor())\n",
        "\n",
        "testing_data = datasets.FashionMNIST(\n",
        "                root = \"data\",\n",
        "                train = False,\n",
        "                download= True,\n",
        "                transform = ToTensor())"
      ],
      "metadata": {
        "colab": {
          "base_uri": "https://localhost:8080/"
        },
        "id": "_FX7I2_wCCwq",
        "outputId": "86d8bf40-f19b-4d9d-e994-c1cd13c0c2a8"
      },
      "execution_count": null,
      "outputs": [
        {
          "output_type": "stream",
          "name": "stdout",
          "text": [
            "Downloading http://fashion-mnist.s3-website.eu-central-1.amazonaws.com/train-images-idx3-ubyte.gz\n",
            "Downloading http://fashion-mnist.s3-website.eu-central-1.amazonaws.com/train-images-idx3-ubyte.gz to data/FashionMNIST/raw/train-images-idx3-ubyte.gz\n"
          ]
        },
        {
          "output_type": "stream",
          "name": "stderr",
          "text": [
            "100%|██████████| 26421880/26421880 [00:20<00:00, 1275702.93it/s]\n"
          ]
        },
        {
          "output_type": "stream",
          "name": "stdout",
          "text": [
            "Extracting data/FashionMNIST/raw/train-images-idx3-ubyte.gz to data/FashionMNIST/raw\n",
            "\n",
            "Downloading http://fashion-mnist.s3-website.eu-central-1.amazonaws.com/train-labels-idx1-ubyte.gz\n",
            "Downloading http://fashion-mnist.s3-website.eu-central-1.amazonaws.com/train-labels-idx1-ubyte.gz to data/FashionMNIST/raw/train-labels-idx1-ubyte.gz\n"
          ]
        },
        {
          "output_type": "stream",
          "name": "stderr",
          "text": [
            "100%|██████████| 29515/29515 [00:00<00:00, 145166.60it/s]\n"
          ]
        },
        {
          "output_type": "stream",
          "name": "stdout",
          "text": [
            "Extracting data/FashionMNIST/raw/train-labels-idx1-ubyte.gz to data/FashionMNIST/raw\n",
            "\n",
            "Downloading http://fashion-mnist.s3-website.eu-central-1.amazonaws.com/t10k-images-idx3-ubyte.gz\n",
            "Downloading http://fashion-mnist.s3-website.eu-central-1.amazonaws.com/t10k-images-idx3-ubyte.gz to data/FashionMNIST/raw/t10k-images-idx3-ubyte.gz\n"
          ]
        },
        {
          "output_type": "stream",
          "name": "stderr",
          "text": [
            "100%|██████████| 4422102/4422102 [00:01<00:00, 2710594.72it/s]\n"
          ]
        },
        {
          "output_type": "stream",
          "name": "stdout",
          "text": [
            "Extracting data/FashionMNIST/raw/t10k-images-idx3-ubyte.gz to data/FashionMNIST/raw\n",
            "\n",
            "Downloading http://fashion-mnist.s3-website.eu-central-1.amazonaws.com/t10k-labels-idx1-ubyte.gz\n",
            "Downloading http://fashion-mnist.s3-website.eu-central-1.amazonaws.com/t10k-labels-idx1-ubyte.gz to data/FashionMNIST/raw/t10k-labels-idx1-ubyte.gz\n"
          ]
        },
        {
          "output_type": "stream",
          "name": "stderr",
          "text": [
            "100%|██████████| 5148/5148 [00:00<00:00, 8717108.19it/s]"
          ]
        },
        {
          "output_type": "stream",
          "name": "stdout",
          "text": [
            "Extracting data/FashionMNIST/raw/t10k-labels-idx1-ubyte.gz to data/FashionMNIST/raw\n",
            "\n"
          ]
        },
        {
          "output_type": "stream",
          "name": "stderr",
          "text": [
            "\n"
          ]
        }
      ]
    },
    {
      "cell_type": "code",
      "source": [
        "print(len(training_data), len(testing_data))\n",
        "print(training_data, testing_data)"
      ],
      "metadata": {
        "colab": {
          "base_uri": "https://localhost:8080/"
        },
        "id": "6uwdr4kvCHVe",
        "outputId": "dcb229db-40c3-435b-9aed-66b7f849b790"
      },
      "execution_count": null,
      "outputs": [
        {
          "output_type": "stream",
          "name": "stdout",
          "text": [
            "60000 10000\n",
            "Dataset FashionMNIST\n",
            "    Number of datapoints: 60000\n",
            "    Root location: data\n",
            "    Split: Train\n",
            "    StandardTransform\n",
            "Transform: ToTensor() Dataset FashionMNIST\n",
            "    Number of datapoints: 10000\n",
            "    Root location: data\n",
            "    Split: Test\n",
            "    StandardTransform\n",
            "Transform: ToTensor()\n"
          ]
        }
      ]
    },
    {
      "cell_type": "code",
      "source": [
        "image, label = training_data[0]\n",
        "label"
      ],
      "metadata": {
        "colab": {
          "base_uri": "https://localhost:8080/"
        },
        "id": "Qm4M_iMKCHtK",
        "outputId": "91ddc85f-9d9e-405a-a80a-211a2162d68d"
      },
      "execution_count": null,
      "outputs": [
        {
          "output_type": "execute_result",
          "data": {
            "text/plain": [
              "9"
            ]
          },
          "metadata": {},
          "execution_count": 5
        }
      ]
    },
    {
      "cell_type": "code",
      "source": [
        "class_names = training_data.classes\n",
        "class_names"
      ],
      "metadata": {
        "colab": {
          "base_uri": "https://localhost:8080/"
        },
        "id": "mst1fN2bCHvP",
        "outputId": "a01bc058-1efb-45ad-9f6e-89747aa1a095"
      },
      "execution_count": null,
      "outputs": [
        {
          "output_type": "execute_result",
          "data": {
            "text/plain": [
              "['T-shirt/top',\n",
              " 'Trouser',\n",
              " 'Pullover',\n",
              " 'Dress',\n",
              " 'Coat',\n",
              " 'Sandal',\n",
              " 'Shirt',\n",
              " 'Sneaker',\n",
              " 'Bag',\n",
              " 'Ankle boot']"
            ]
          },
          "metadata": {},
          "execution_count": 6
        }
      ]
    },
    {
      "cell_type": "code",
      "source": [
        "class_indexes = training_data.class_to_idx\n",
        "class_indexes"
      ],
      "metadata": {
        "colab": {
          "base_uri": "https://localhost:8080/"
        },
        "id": "fJyY8cJmCHxV",
        "outputId": "a4d1b328-5cd4-41d9-a364-b18c94a8f53b"
      },
      "execution_count": null,
      "outputs": [
        {
          "output_type": "execute_result",
          "data": {
            "text/plain": [
              "{'T-shirt/top': 0,\n",
              " 'Trouser': 1,\n",
              " 'Pullover': 2,\n",
              " 'Dress': 3,\n",
              " 'Coat': 4,\n",
              " 'Sandal': 5,\n",
              " 'Shirt': 6,\n",
              " 'Sneaker': 7,\n",
              " 'Bag': 8,\n",
              " 'Ankle boot': 9}"
            ]
          },
          "metadata": {},
          "execution_count": 7
        }
      ]
    },
    {
      "cell_type": "code",
      "source": [
        "image.shape"
      ],
      "metadata": {
        "colab": {
          "base_uri": "https://localhost:8080/"
        },
        "id": "7zIjGDVECOu1",
        "outputId": "590c862f-a9f2-4f0e-856e-dfe038c77520"
      },
      "execution_count": null,
      "outputs": [
        {
          "output_type": "execute_result",
          "data": {
            "text/plain": [
              "torch.Size([1, 28, 28])"
            ]
          },
          "metadata": {},
          "execution_count": 8
        }
      ]
    },
    {
      "cell_type": "code",
      "source": [
        "image, label = training_data[0]\n",
        "print(f\" Image shape, {image.shape}\")\n",
        "\n",
        "#plt.imshow(image)\n",
        "\n",
        "#doesnt work because plt is expecing height, weight and last color channel\n",
        "#but we see with our data shape that we have [channel, h, w].\n",
        "#we have to remove the extra dimension channel"
      ],
      "metadata": {
        "colab": {
          "base_uri": "https://localhost:8080/"
        },
        "id": "9__iDnABCQP2",
        "outputId": "3f157e07-04ec-455e-86f3-a8b1bbc6e334"
      },
      "execution_count": null,
      "outputs": [
        {
          "output_type": "stream",
          "name": "stdout",
          "text": [
            " Image shape, torch.Size([1, 28, 28])\n"
          ]
        }
      ]
    },
    {
      "cell_type": "code",
      "source": [
        "plt.imshow(image.squeeze(), cmap = 'gray');\n",
        "plt.title(class_names[label])\n",
        "plt.axis(False)"
      ],
      "metadata": {
        "colab": {
          "base_uri": "https://localhost:8080/",
          "height": 446
        },
        "id": "ImPWCAHNCSP2",
        "outputId": "4bbb7967-a7eb-4c20-b1ac-f0700788465c"
      },
      "execution_count": null,
      "outputs": [
        {
          "output_type": "execute_result",
          "data": {
            "text/plain": [
              "(-0.5, 27.5, 27.5, -0.5)"
            ]
          },
          "metadata": {},
          "execution_count": 10
        },
        {
          "output_type": "display_data",
          "data": {
            "text/plain": [
              "<Figure size 640x480 with 1 Axes>"
            ],
            "image/png": "[encoded data removed]"
          },
          "metadata": {}
        }
      ]
    },
    {
      "cell_type": "code",
      "source": [
        "torch.manual_seed(42)\n",
        "fig = plt.figure(figsize= (9, 9))\n",
        "rows, cols = 4, 4\n",
        "for i in range(1, rows*cols +1):\n",
        "    random_idx = torch.randint(0, len(training_data), size = [1]).item()\n",
        "    img, label = training_data[random_idx]\n",
        "    fig.add_subplot(rows, cols, i)\n",
        "    plt.imshow(img.squeeze(), cmap = \"gray\")\n",
        "    plt.title(class_names[label])\n",
        "    plt.axis(False)"
      ],
      "metadata": {
        "colab": {
          "base_uri": "https://localhost:8080/",
          "height": 752
        },
        "id": "AoiABwYtCTt7",
        "outputId": "8c81ae37-72ac-4a0d-db04-5ea21d40d7ba"
      },
      "execution_count": null,
      "outputs": [
        {
          "output_type": "display_data",
          "data": {
            "text/plain": [
              "<Figure size 900x900 with 16 Axes>"
            ],
            "image/png": "[encoded data removed]"
          },
          "metadata": {}
        }
      ]
    },
    {
      "cell_type": "code",
      "source": [
        "from torch.utils.data import DataLoader\n",
        "Batch_size = 32\n",
        "train__data_loader = DataLoader(dataset= training_data,\n",
        "                                batch_size= Batch_size,\n",
        "                                shuffle= True)\n",
        "\n",
        "test_data_loader = DataLoader(dataset= testing_data,\n",
        "                              batch_size= Batch_size,\n",
        "                              shuffle = False)\n",
        "train__data_loader, test_data_loader"
      ],
      "metadata": {
        "colab": {
          "base_uri": "https://localhost:8080/"
        },
        "id": "6KULF952CVti",
        "outputId": "d5bed2f9-057e-4fc8-f970-e903c5e2e976"
      },
      "execution_count": null,
      "outputs": [
        {
          "output_type": "execute_result",
          "data": {
            "text/plain": [
              "(<torch.utils.data.dataloader.DataLoader at 0x795d992d3820>,\n",
              " <torch.utils.data.dataloader.DataLoader at 0x795d992d3730>)"
            ]
          },
          "metadata": {},
          "execution_count": 12
        }
      ]
    },
    {
      "cell_type": "code",
      "source": [
        "print(f\" lenght training data loader {len(train__data_loader)}\")\n",
        "print(f\" lenght testing data loader {len(test_data_loader)}\")"
      ],
      "metadata": {
        "colab": {
          "base_uri": "https://localhost:8080/"
        },
        "id": "kbvUYWlLCX7f",
        "outputId": "50f79b0f-4d6b-4aaf-8477-738183c3e4e0"
      },
      "execution_count": null,
      "outputs": [
        {
          "output_type": "stream",
          "name": "stdout",
          "text": [
            " lenght training data loader 1875\n",
            " lenght testing data loader 313\n"
          ]
        }
      ]
    },
    {
      "cell_type": "code",
      "source": [
        "train_batches_features, train_batches_labels = next(iter(train__data_loader))\n",
        "train_batches_features.shape, train_batches_labels.shape"
      ],
      "metadata": {
        "colab": {
          "base_uri": "https://localhost:8080/"
        },
        "id": "wE0FR4n0CZ6X",
        "outputId": "73854ebf-0025-4fc5-a658-614d75688f97"
      },
      "execution_count": null,
      "outputs": [
        {
          "output_type": "execute_result",
          "data": {
            "text/plain": [
              "(torch.Size([32, 1, 28, 28]), torch.Size([32]))"
            ]
          },
          "metadata": {},
          "execution_count": 14
        }
      ]
    },
    {
      "cell_type": "code",
      "source": [
        "#show a sample:\n",
        "torch.manual_seed(42)\n",
        "random_idx = torch.randint(0, len(train_batches_features), size = [1]).item()\n",
        "\n",
        "img, label = train_batches_features[random_idx], train_batches_labels[random_idx]\n",
        "plt.imshow(img.squeeze(), cmap = \"gray\")\n",
        "plt.title(class_names[label])\n",
        "plt.axis(False)"
      ],
      "metadata": {
        "colab": {
          "base_uri": "https://localhost:8080/",
          "height": 446
        },
        "id": "Lb4qSJLvCckK",
        "outputId": "7db79a69-7d65-42f4-c0bb-f1bb8701eeed"
      },
      "execution_count": null,
      "outputs": [
        {
          "output_type": "execute_result",
          "data": {
            "text/plain": [
              "(-0.5, 27.5, 27.5, -0.5)"
            ]
          },
          "metadata": {},
          "execution_count": 15
        },
        {
          "output_type": "display_data",
          "data": {
            "text/plain": [
              "<Figure size 640x480 with 1 Axes>"
            ],
            "image/png": "[encoded data removed]"
          },
          "metadata": {}
        }
      ]
    },
    {
      "cell_type": "code",
      "source": [
        "#create a flatten model:\n",
        "flatten_model = nn.Flatten()\n",
        "X = train_batches_features[0]\n",
        "output = flatten_model(X)\n",
        "print(f\"X tensor shape {X.shape} --> [color_channel, height, width]\" )\n",
        "print(f\"output tensor shape {output.shape} --> [color_channel, height * width]\" )"
      ],
      "metadata": {
        "colab": {
          "base_uri": "https://localhost:8080/"
        },
        "id": "0TyCV3XOCeJ6",
        "outputId": "8b010213-c5b8-45d7-8975-3c9bbadb8643"
      },
      "execution_count": null,
      "outputs": [
        {
          "output_type": "stream",
          "name": "stdout",
          "text": [
            "X tensor shape torch.Size([1, 28, 28]) --> [color_channel, height, width]\n",
            "output tensor shape torch.Size([1, 784]) --> [color_channel, height * width]\n"
          ]
        }
      ]
    },
    {
      "cell_type": "code",
      "source": [
        "from torch import nn\n",
        "class FashionMNISTModelV0(nn.Module):\n",
        "    def __init__(self, input_shape: int, hidden_units: int, output_shape: int):\n",
        "        super().__init__()\n",
        "        self.layer_stack = nn.Sequential(\n",
        "            nn.Flatten(), # neural networks like their inputs in vector form\n",
        "            nn.Linear(in_features=input_shape, out_features=hidden_units), # in_features = number of features in a data sample (784 pixels)\n",
        "            nn.Linear(in_features=hidden_units, out_features=output_shape)\n",
        "        )\n",
        "\n",
        "    def forward(self, x):\n",
        "        return self.layer_stack(x)"
      ],
      "metadata": {
        "id": "iQpsSfd1Cfxn"
      },
      "execution_count": null,
      "outputs": []
    },
    {
      "cell_type": "code",
      "source": [
        "torch.manual_seed(42)\n",
        "model0 = FashionMNISTModelV0(input_shape= 28*28, hidden_units= 10, output_shape= len(class_names)).to(device)\n",
        "next(model0.parameters()).device"
      ],
      "metadata": {
        "colab": {
          "base_uri": "https://localhost:8080/"
        },
        "id": "0xU2upFjCiQi",
        "outputId": "afcd1ef0-16e5-4cfa-a788-a33eaa270941"
      },
      "execution_count": null,
      "outputs": [
        {
          "output_type": "execute_result",
          "data": {
            "text/plain": [
              "device(type='cuda', index=0)"
            ]
          },
          "metadata": {},
          "execution_count": 18
        }
      ]
    },
    {
      "cell_type": "code",
      "source": [
        "dummy_x =torch.rand([1, 1, 28, 28]).to(device)\n",
        "model0(dummy_x)\n",
        "#will give us 10 random numbers (10 because the output_layer is len(class_name))"
      ],
      "metadata": {
        "colab": {
          "base_uri": "https://localhost:8080/"
        },
        "id": "8kHZbRvYCj4d",
        "outputId": "b4b61781-90fb-45d7-a28b-b004b328be92"
      },
      "execution_count": null,
      "outputs": [
        {
          "output_type": "execute_result",
          "data": {
            "text/plain": [
              "tensor([[-0.0315,  0.3171,  0.0531, -0.2525,  0.5959,  0.2112,  0.3233,  0.2694,\n",
              "         -0.1004,  0.0157]], device='cuda:0', grad_fn=<AddmmBackward0>)"
            ]
          },
          "metadata": {},
          "execution_count": 19
        }
      ]
    },
    {
      "cell_type": "code",
      "source": [
        "def accuracy_function(y_pred, y_true):\n",
        "    correct = torch.eq(y_pred, y_true)\n",
        "    correct_sum = correct.sum().item()\n",
        "    acc = correct_sum/len(y_true)\n",
        "    return acc"
      ],
      "metadata": {
        "id": "3EHKQ49fClyA"
      },
      "execution_count": null,
      "outputs": []
    },
    {
      "cell_type": "code",
      "source": [
        "import requests\n",
        "from pathlib import Path\n",
        "\n",
        "# Download helper functions from Learn PyTorch repo (if not already downloaded)\n",
        "if Path(\"helper_functions.py\").is_file():\n",
        "  print(\"helper_functions.py already exists, skipping download\")\n",
        "else:\n",
        "  print(\"Downloading helper_functions.py\")\n",
        "  # Note: you need the \"raw\" GitHub URL for this to work\n",
        "  request = requests.get(\"https://raw.githubusercontent.com/mrdbourke/pytorch-deep-learning/main/helper_functions.py\")\n",
        "  with open(\"helper_functions.py\", \"wb\") as f:\n",
        "    f.write(request.content)"
      ],
      "metadata": {
        "colab": {
          "base_uri": "https://localhost:8080/"
        },
        "id": "bXop4mG-CqNe",
        "outputId": "79e47b80-0d92-4566-eae7-4ae1c80b7d3f"
      },
      "execution_count": null,
      "outputs": [
        {
          "output_type": "stream",
          "name": "stdout",
          "text": [
            "Downloading helper_functions.py\n"
          ]
        }
      ]
    },
    {
      "cell_type": "code",
      "source": [
        "from helper_functions import accuracy_fn"
      ],
      "metadata": {
        "id": "roUidCJmCr2g"
      },
      "execution_count": null,
      "outputs": []
    },
    {
      "cell_type": "code",
      "source": [
        "#because we are working with multiclass, the loss function we are going to use is a : nn.CrossEntropyLoss()\n",
        "loss_func = nn.CrossEntropyLoss()\n",
        "optimizer_func = torch.optim.SGD(params= model0.parameters(), lr = 0.01)"
      ],
      "metadata": {
        "id": "nD9qTcXeCtdz"
      },
      "execution_count": null,
      "outputs": []
    },
    {
      "cell_type": "code",
      "source": [
        "from timeit import default_timer as timer\n",
        "def print_train_time(start: float, end: float, device: torch.device = None):\n",
        "    \"\"\"Prints difference between start and end time.\n",
        "\n",
        "    Args:\n",
        "        start (float): Start time of computation (preferred in timeit format).\n",
        "        end (float): End time of computation.\n",
        "        device ([type], optional): Device that compute is running on. Defaults to None.\n",
        "\n",
        "    Returns:\n",
        "        float: time between start and end in seconds (higher is longer).\n",
        "    \"\"\"\n",
        "    total_time = end - start\n",
        "    print(f\"Train time on {device}: {total_time:.3f} seconds\")\n",
        "    return total_time"
      ],
      "metadata": {
        "id": "xv7gVM4lCvKT"
      },
      "execution_count": null,
      "outputs": []
    },
    {
      "cell_type": "code",
      "source": [
        "start_time = timer()\n",
        "end_time = timer()\n",
        "print_train_time(start = start_time, end= end_time)"
      ],
      "metadata": {
        "colab": {
          "base_uri": "https://localhost:8080/"
        },
        "id": "WpwwkOQsCx5V",
        "outputId": "337f5f78-cab4-4e01-c77d-2c7b4a413c9e"
      },
      "execution_count": null,
      "outputs": [
        {
          "output_type": "stream",
          "name": "stdout",
          "text": [
            "Train time on None: 0.000 seconds\n"
          ]
        },
        {
          "output_type": "execute_result",
          "data": {
            "text/plain": [
              "4.116700000622586e-05"
            ]
          },
          "metadata": {},
          "execution_count": 25
        }
      ]
    },
    {
      "cell_type": "code",
      "source": [
        "import torch\n",
        "from tqdm.auto import tqdm\n",
        "from timeit import default_timer as timer\n",
        "\n",
        "# Assuming model0, loss_func, optimizer_func, accuracy_fn, train__data_loader, and test_data_loader are already defined\n",
        "\n",
        "# Set the seed and start the timer\n",
        "torch.manual_seed(42)\n",
        "train_time_start_cpu = timer()\n",
        "\n",
        "epochs = 3\n",
        "for epoch in tqdm(range(epochs)):\n",
        "    print(f\" Epoch: {epoch}\\n----\")\n",
        "\n",
        "    # Training\n",
        "    training_loss, train_accuracy = 0, 0\n",
        "    for batch, (X, y) in enumerate(train__data_loader):\n",
        "        X, y = X.to(device), y.to(device)\n",
        "        model0.train()\n",
        "        # Forward pass\n",
        "        y_training_pred = model0(X)\n",
        "        # Calculate the loss (per batch)\n",
        "        loss = loss_func(y_training_pred, y)\n",
        "        train_accuracy += accuracy_fn(y_true=y, y_pred=y_training_pred.argmax(dim=1))\n",
        "        training_loss += loss.item()  # Use .item() to get the scalar value\n",
        "\n",
        "        # Optimizer zero grad\n",
        "        optimizer_func.zero_grad()\n",
        "        # Backward pass\n",
        "        loss.backward()\n",
        "        # Optimizer step\n",
        "        optimizer_func.step()\n",
        "\n",
        "        # Print out progress\n",
        "        if batch % 400 == 0:\n",
        "            print(f\" we looked at {batch * len(X)}/ {len(train__data_loader.dataset)} samples\")\n",
        "\n",
        "    # Calculate average training loss and accuracy\n",
        "    training_loss /= len(train__data_loader)\n",
        "    train_accuracy /= len(train__data_loader)\n",
        "\n",
        "    # Testing\n",
        "    testing_loss, test_accuracy = 0, 0\n",
        "    model0.eval()\n",
        "    with torch.inference_mode():\n",
        "        for X_test, y_test in test_data_loader:\n",
        "            X_test, y_test = X_test.to(device), y_test.to(device)\n",
        "            y_test_pred = model0(X_test)\n",
        "            testing_loss += loss_func(y_test_pred, y_test).item()  # Use .item() to get the scalar value\n",
        "            test_accuracy += accuracy_fn(y_pred=y_test_pred.argmax(dim=1), y_true=y_test)\n",
        "\n",
        "    # Calculate average test loss and accuracy\n",
        "    testing_loss /= len(test_data_loader)\n",
        "    test_accuracy /= len(test_data_loader)\n",
        "\n",
        "    # Print out the loss and accuracy\n",
        "    print(f\"\\nTrain loss: {training_loss:.5f} | Train acc: {train_accuracy:.2f}% | Test loss: {testing_loss:.5f} | Test acc: {test_accuracy:.2f}%\\n\")\n",
        "\n",
        "# Calculate total training time\n",
        "train_time_end_cpu = timer()\n",
        "total_train_time0 = train_time_end_cpu - train_time_start_cpu\n",
        "print(f\"Total training time: {total_train_time0:.2f} seconds\")\n"
      ],
      "metadata": {
        "colab": {
          "base_uri": "https://localhost:8080/",
          "height": 603,
          "referenced_widgets": [
            "efc0cc691fac40ae9e1652d9efb072a9",
            "31956f1dd23244a0917935f0b01fa85f",
            "fb95a069685e47d88daac3673e8267ef",
            "6b7eb313c0574965a222ee7934421230",
            "434c38a5a3b547be8e60604897b53d8b",
            "8f2bf33305fe4ed88e6e2b7582d752a1",
            "47013e4d10714db6975bc6217a1a5dd9",
            "f4aedfeab8a14c6b90df3c00662b9bd6",
            "67382dc790b844f5854d6bfae2417b96",
            "ef060225b23643f98d6cea2e8855d2ca",
            "54a8fba3a08647e097b9e9258c9198bc"
          ]
        },
        "id": "NILOeyShCzsX",
        "outputId": "53a93c47-d475-4ff5-c096-9c012f953d62"
      },
      "execution_count": null,
      "outputs": [
        {
          "output_type": "display_data",
          "data": {
            "text/plain": [
              "  0%|          | 0/3 [00:00<?, ?it/s]"
            ],
            "application/vnd.jupyter.widget-view+json": {
              "version_major": 2,
              "version_minor": 0,
              "model_id": "efc0cc691fac40ae9e1652d9efb072a9"
            }
          },
          "metadata": {}
        },
        {
          "output_type": "stream",
          "name": "stdout",
          "text": [
            " Epoch: 0\n",
            "----\n",
            " we looked at 0/ 60000 samples\n",
            " we looked at 12800/ 60000 samples\n",
            " we looked at 25600/ 60000 samples\n",
            " we looked at 38400/ 60000 samples\n",
            " we looked at 51200/ 60000 samples\n",
            "\n",
            "Train loss: 0.90961 | Train acc: 70.87% | Test loss: 0.62902 | Test acc: 78.63%\n",
            "\n",
            " Epoch: 1\n",
            "----\n",
            " we looked at 0/ 60000 samples\n",
            " we looked at 12800/ 60000 samples\n",
            " we looked at 25600/ 60000 samples\n",
            " we looked at 38400/ 60000 samples\n",
            " we looked at 51200/ 60000 samples\n",
            "\n",
            "Train loss: 0.55733 | Train acc: 81.09% | Test loss: 0.54409 | Test acc: 81.13%\n",
            "\n",
            " Epoch: 2\n",
            "----\n",
            " we looked at 0/ 60000 samples\n",
            " we looked at 12800/ 60000 samples\n",
            " we looked at 25600/ 60000 samples\n",
            " we looked at 38400/ 60000 samples\n",
            " we looked at 51200/ 60000 samples\n",
            "\n",
            "Train loss: 0.50266 | Train acc: 82.75% | Test loss: 0.51368 | Test acc: 82.00%\n",
            "\n",
            "Total training time: 28.83 seconds\n"
          ]
        }
      ]
    },
    {
      "cell_type": "code",
      "source": [
        "!nvidia-smi"
      ],
      "metadata": {
        "colab": {
          "base_uri": "https://localhost:8080/"
        },
        "id": "UD2cFK6PC-aO",
        "outputId": "89277c1c-5455-4f0b-f9e8-4591d61d42a9"
      },
      "execution_count": null,
      "outputs": [
        {
          "output_type": "stream",
          "name": "stdout",
          "text": [
            "Wed Jun  5 11:10:42 2024       \n",
            "+---------------------------------------------------------------------------------------+\n",
            "| NVIDIA-SMI 535.104.05             Driver Version: 535.104.05   CUDA Version: 12.2     |\n",
            "|-----------------------------------------+----------------------+----------------------+\n",
            "| GPU  Name                 Persistence-M | Bus-Id        Disp.A | Volatile Uncorr. ECC |\n",
            "| Fan  Temp   Perf          Pwr:Usage/Cap |         Memory-Usage | GPU-Util  Compute M. |\n",
            "|                                         |                      |               MIG M. |\n",
            "|=========================================+======================+======================|\n",
            "|   0  Tesla T4                       Off | 00000000:00:04.0 Off |                    0 |\n",
            "| N/A   59C    P0              29W /  70W |    159MiB / 15360MiB |      3%      Default |\n",
            "|                                         |                      |                  N/A |\n",
            "+-----------------------------------------+----------------------+----------------------+\n",
            "                                                                                         \n",
            "+---------------------------------------------------------------------------------------+\n",
            "| Processes:                                                                            |\n",
            "|  GPU   GI   CI        PID   Type   Process name                            GPU Memory |\n",
            "|        ID   ID                                                             Usage      |\n",
            "|=======================================================================================|\n",
            "+---------------------------------------------------------------------------------------+\n"
          ]
        }
      ]
    },
    {
      "cell_type": "code",
      "source": [
        "torch.cuda.is_available()"
      ],
      "metadata": {
        "colab": {
          "base_uri": "https://localhost:8080/"
        },
        "id": "bwJ9S-cVFGy5",
        "outputId": "5c3ecd14-9b69-4a68-fe9f-a2254381af9f"
      },
      "execution_count": null,
      "outputs": [
        {
          "output_type": "execute_result",
          "data": {
            "text/plain": [
              "True"
            ]
          },
          "metadata": {},
          "execution_count": 28
        }
      ]
    },
    {
      "cell_type": "code",
      "source": [
        "class FashionMNISTModelV1(nn.Module):\n",
        "  def __init__(self, input_feature: int, hidden_units: int, output_layer: int):\n",
        "    super().__init__()\n",
        "    self.stacked_layers = nn.Sequential(\n",
        "        nn.Flatten(),\n",
        "        nn.Linear(in_features= input_feature, out_features= hidden_units),\n",
        "        nn.ReLU(),\n",
        "        nn.Linear(in_features= hidden_units, out_features= output_layer),\n",
        "        nn.ReLU())\n",
        "\n",
        "\n",
        "  def forward(self, x):\n",
        "    return self.stacked_layers(x)"
      ],
      "metadata": {
        "id": "ojARRBtEFLxw"
      },
      "execution_count": null,
      "outputs": []
    },
    {
      "cell_type": "code",
      "source": [
        "torch.manual_seed(42)\n",
        "model1 = FashionMNISTModelV1(input_feature = 28 *28, hidden_units = 10, output_layer = len(class_names)).to(device)\n",
        "\n",
        "next(model1.parameters()).device"
      ],
      "metadata": {
        "colab": {
          "base_uri": "https://localhost:8080/"
        },
        "id": "Rpzaq-PtI4rL",
        "outputId": "6f0821e9-d0d4-4421-ba81-f1c095321a8b"
      },
      "execution_count": null,
      "outputs": [
        {
          "output_type": "execute_result",
          "data": {
            "text/plain": [
              "device(type='cuda', index=0)"
            ]
          },
          "metadata": {},
          "execution_count": 30
        }
      ]
    },
    {
      "cell_type": "code",
      "source": [
        "device"
      ],
      "metadata": {
        "colab": {
          "base_uri": "https://localhost:8080/"
        },
        "id": "0s0QtFuXJK5K",
        "outputId": "8a21b881-b642-4d07-ce79-b3873f14ae8a"
      },
      "execution_count": null,
      "outputs": [
        {
          "output_type": "execute_result",
          "data": {
            "text/plain": [
              "device(type='cuda')"
            ]
          },
          "metadata": {},
          "execution_count": 31
        }
      ]
    },
    {
      "cell_type": "code",
      "source": [
        "device"
      ],
      "metadata": {
        "colab": {
          "base_uri": "https://localhost:8080/"
        },
        "id": "NC83Y7k-KaeN",
        "outputId": "d666d82e-2307-430b-8028-4fe985a153c0"
      },
      "execution_count": null,
      "outputs": [
        {
          "output_type": "execute_result",
          "data": {
            "text/plain": [
              "device(type='cuda')"
            ]
          },
          "metadata": {},
          "execution_count": 32
        }
      ]
    },
    {
      "cell_type": "code",
      "source": [
        "loss_func2 = nn.CrossEntropyLoss()\n",
        "optimizer_func2 = torch.optim.SGD(params= model1.parameters(), lr = 0.1)"
      ],
      "metadata": {
        "id": "jHctFDbQK2rJ"
      },
      "execution_count": null,
      "outputs": []
    },
    {
      "cell_type": "code",
      "source": [
        "torch.manual_seed(42)\n",
        "epochs = 3\n",
        "train_time_start_cpu = timer()\n",
        "for epoch in tqdm(range(epochs)):\n",
        "    print(f\" Epoch: {epoch}\\n----\")\n",
        "    training_loss, training_accuracy = 0, 0\n",
        "    for batch, (X, y) in enumerate(train__data_loader):\n",
        "      X, y = X.to(device), y.to(device)\n",
        "      model1.train()\n",
        "      y_train_pred = model1(X)\n",
        "      loss = loss_func2(y_train_pred, y)\n",
        "      training_loss += loss.item()\n",
        "      training_accuracy += accuracy_fn(y_true = y, y_pred = y_train_pred.argmax(dim=1))\n",
        "\n",
        "\n",
        "      optimizer_func.zero_grad()\n",
        "      loss.backward()\n",
        "      optimizer_func.step()\n",
        "\n",
        "      if batch %400 ==0:\n",
        "        print(f\"we looked at {batch *len(X)} / {len(train__data_loader)}\")\n",
        "\n",
        "\n",
        "\n",
        "    training_loss /= len(train__data_loader)\n",
        "    training_accuracy /= len(train__data_loader)\n",
        "\n",
        "\n",
        "\n",
        "    #testing:\n",
        "    testing_loss, testing_accuracy = 0, 0\n",
        "\n",
        "    model1.eval()\n",
        "    with torch.inference_mode():\n",
        "      for X_test, y_test in test_data_loader:\n",
        "        X_test, y_test = X_test.to(device), y_test.to(device)\n",
        "        y_test_pred = model1(X_test)\n",
        "        testing_loss += loss_func(y_test_pred, y_test).item()  # Use .item() to get the scalar value\n",
        "        testing_accuracy += accuracy_fn(y_pred=y_test_pred.argmax(dim=1), y_true=y_test)\n",
        "\n",
        "    # Calculate average test loss and accuracy\n",
        "    testing_loss /= len(test_data_loader)\n",
        "    testing_accuracy /= len(test_data_loader)\n",
        "\n",
        "    # Print out the loss and accuracy\n",
        "    print(f\"\\nTrain loss: {training_loss:.5f} | Train acc: {training_accuracy:.2f}% | Test loss: {testing_loss:.5f} | Test acc: {testing_accuracy:.2f}%\\n\")\n",
        "\n",
        "# Calculate total training time\n",
        "train_time_end_cpu = timer()\n",
        "total_train_time1 = train_time_end_cpu - train_time_start_cpu\n",
        "print(f\"Total training time: {total_train_time1:.2f} seconds\")\n",
        "\n",
        "\n",
        "\n",
        "\n",
        "\n"
      ],
      "metadata": {
        "colab": {
          "base_uri": "https://localhost:8080/",
          "height": 603,
          "referenced_widgets": [
            "ccf8a7b43d7d41669cb08b038be72bea",
            "de89e8441c864a639983b4e8be8f65aa",
            "a862780dda0744bca533622a4f5d0c88",
            "4a4f2ba6c992475ab48c2bad712b5a3a",
            "ef458f3c7a02493085c494ad663ee7f1",
            "99bf9c7fecc54edba5efb81cc08472db",
            "c90b0b2807ef44e4b59deceaaef98990",
            "0a680870e6ea481ba53bd20f5b6ef018",
            "dfe77701e25d41e0b85a76b8415dce42",
            "074204869b4c4e3d9f42fa86383ec39a",
            "791f752007ec459e87cebbe034f6ce0e"
          ]
        },
        "id": "CVnwR8QPMHM1",
        "outputId": "668ac92a-5150-4052-8ffe-ce7e52a8d077"
      },
      "execution_count": null,
      "outputs": [
        {
          "output_type": "display_data",
          "data": {
            "text/plain": [
              "  0%|          | 0/3 [00:00<?, ?it/s]"
            ],
            "application/vnd.jupyter.widget-view+json": {
              "version_major": 2,
              "version_minor": 0,
              "model_id": "ccf8a7b43d7d41669cb08b038be72bea"
            }
          },
          "metadata": {}
        },
        {
          "output_type": "stream",
          "name": "stdout",
          "text": [
            " Epoch: 0\n",
            "----\n",
            "we looked at 0 / 1875\n",
            "we looked at 12800 / 1875\n",
            "we looked at 25600 / 1875\n",
            "we looked at 38400 / 1875\n",
            "we looked at 51200 / 1875\n",
            "\n",
            "Train loss: 2.30166 | Train acc: 11.31% | Test loss: 2.30211 | Test acc: 10.75%\n",
            "\n",
            " Epoch: 1\n",
            "----\n",
            "we looked at 0 / 1875\n",
            "we looked at 12800 / 1875\n",
            "we looked at 25600 / 1875\n",
            "we looked at 38400 / 1875\n",
            "we looked at 51200 / 1875\n",
            "\n",
            "Train loss: 2.30166 | Train acc: 11.31% | Test loss: 2.30211 | Test acc: 10.75%\n",
            "\n",
            " Epoch: 2\n",
            "----\n",
            "we looked at 0 / 1875\n",
            "we looked at 12800 / 1875\n",
            "we looked at 25600 / 1875\n",
            "we looked at 38400 / 1875\n",
            "we looked at 51200 / 1875\n",
            "\n",
            "Train loss: 2.30166 | Train acc: 11.31% | Test loss: 2.30211 | Test acc: 10.75%\n",
            "\n",
            "Total training time: 30.34 seconds\n"
          ]
        }
      ]
    },
    {
      "cell_type": "code",
      "source": [
        "train_time_start_cpu = timer()\n",
        "epochs = 3\n",
        "for epoch in tqdm(range(epochs)):\n",
        "    print(f\" Epoch: {epoch}\\n----\")\n",
        "    training_loss, training_accuracy = 0, 0\n",
        "\n",
        "    model1.train()\n",
        "    for batch, (X, y) in enumerate(train__data_loader):\n",
        "        X, y = X.to(device), y.to(device)\n",
        "\n",
        "        # Forward pass\n",
        "        y_train_pred = model1(X)\n",
        "        loss = loss_func2(y_train_pred, y)\n",
        "\n",
        "        # Backward pass and optimization\n",
        "        optimizer_func.zero_grad()\n",
        "        loss.backward()\n",
        "        optimizer_func.step()\n",
        "\n",
        "        # Accumulate training loss and accuracy\n",
        "        training_loss += loss.item()\n",
        "        training_accuracy += accuracy_fn(y_true=y, y_pred=y_train_pred.argmax(dim=1))\n",
        "\n",
        "        if batch % 400 == 0:\n",
        "            print(f\"we looked at {batch * len(X)} / {len(train__data_loader.dataset)} samples\")\n",
        "\n",
        "    # Calculate average training loss and accuracy\n",
        "    training_loss /= len(train__data_loader)\n",
        "    training_accuracy /= len(train__data_loader)\n",
        "\n",
        "    # Testing loop\n",
        "    testing_loss, testing_accuracy = 0, 0\n",
        "\n",
        "    model1.eval()\n",
        "    with torch.inference_mode():\n",
        "        for X_test, y_test in test_data_loader:\n",
        "            X_test, y_test = X_test.to(device), y_test.to(device)\n",
        "\n",
        "            y_test_pred = model1(X_test)\n",
        "            testing_loss += loss_func2(y_test_pred, y_test).item()\n",
        "            testing_accuracy += accuracy_fn(y_pred=y_test_pred.argmax(dim=1), y_true=y_test)\n",
        "\n",
        "    # Calculate average test loss and accuracy\n",
        "    testing_loss /= len(test_data_loader)\n",
        "    testing_accuracy /= len(test_data_loader)\n",
        "\n",
        "    # Print out the loss and accuracy\n",
        "    print(f\"\\nTrain loss: {training_loss:.5f} | Train acc: {training_accuracy:.2f}% | Test loss: {testing_loss:.5f} | Test acc: {testing_accuracy:.2f}%\\n\")\n",
        "\n",
        "# Calculate total training time\n",
        "train_time_end_cpu = timer()\n",
        "total_train_time = train_time_end_cpu - train_time_start_cpu\n",
        "print(f\"Total training time: {total_train_time:.2f} seconds\")\n",
        "print(len(y))"
      ],
      "metadata": {
        "colab": {
          "base_uri": "https://localhost:8080/",
          "height": 621,
          "referenced_widgets": [
            "ed9fbb090b8842f3b55dd337d5002352",
            "679622e2af814dcab4f6df8f61adac94",
            "4c73e823193b4b43b4da5aeb69b2b033",
            "dd4e140bd0fe44a88a2f47da2c8f37cd",
            "f9f7d77f72984d6291bff2200e78ab39",
            "625bfbadab414ce7882e66f8b6066b81",
            "26d4d50202ee4d87a0a030449519cd0a",
            "0bd49f9efadb44f6a9438fbc1bb4e5be",
            "6f2e1f9ccac749e7b744eacdf38eeda5",
            "99e136d699d44e0f8f3ec3e410341d74",
            "f3a42b747e6e4a65b400ea100dddd0d7"
          ]
        },
        "id": "0r8yPX1wkS_K",
        "outputId": "81e76aef-4990-4b13-b8e6-45bb6bcb18dc"
      },
      "execution_count": null,
      "outputs": [
        {
          "output_type": "display_data",
          "data": {
            "text/plain": [
              "  0%|          | 0/3 [00:00<?, ?it/s]"
            ],
            "application/vnd.jupyter.widget-view+json": {
              "version_major": 2,
              "version_minor": 0,
              "model_id": "ed9fbb090b8842f3b55dd337d5002352"
            }
          },
          "metadata": {}
        },
        {
          "output_type": "stream",
          "name": "stdout",
          "text": [
            " Epoch: 0\n",
            "----\n",
            "we looked at 0 / 60000 samples\n",
            "we looked at 12800 / 60000 samples\n",
            "we looked at 25600 / 60000 samples\n",
            "we looked at 38400 / 60000 samples\n",
            "we looked at 51200 / 60000 samples\n",
            "\n",
            "Train loss: 2.30166 | Train acc: 11.31% | Test loss: 2.30211 | Test acc: 10.75%\n",
            "\n",
            " Epoch: 1\n",
            "----\n",
            "we looked at 0 / 60000 samples\n",
            "we looked at 12800 / 60000 samples\n",
            "we looked at 25600 / 60000 samples\n",
            "we looked at 38400 / 60000 samples\n",
            "we looked at 51200 / 60000 samples\n",
            "\n",
            "Train loss: 2.30166 | Train acc: 11.31% | Test loss: 2.30211 | Test acc: 10.75%\n",
            "\n",
            " Epoch: 2\n",
            "----\n",
            "we looked at 0 / 60000 samples\n",
            "we looked at 12800 / 60000 samples\n",
            "we looked at 25600 / 60000 samples\n",
            "we looked at 38400 / 60000 samples\n",
            "we looked at 51200 / 60000 samples\n",
            "\n",
            "Train loss: 2.30166 | Train acc: 11.31% | Test loss: 2.30211 | Test acc: 10.75%\n",
            "\n",
            "Total training time: 28.66 seconds\n",
            "32\n"
          ]
        }
      ]
    },
    {
      "cell_type": "code",
      "source": [
        "def training_loop(model: torch.nn.Module(),\n",
        "                  data_loader: torch.utils.data.DataLoader,\n",
        "                  loss_fn: torch.nn.Module,\n",
        "                  accuracy_fn,\n",
        "                  optimizer: torch.optim.Optimizer,\n",
        "                  device: torch.device = device):\n",
        "\n",
        "  \"\"\"Performs a traning with a model trying to learn on data_loader\"\"\"\n",
        "\n",
        "\n",
        "  training_loss, train_accuracy = 0, 0\n",
        "\n",
        "\n",
        "\n",
        "  #put the model into training mode:\n",
        "  model.train()\n",
        "\n",
        "  #iterate through images and labels in the data loader:\n",
        "  for batch, (X, y) in enumerate(data_loader):\n",
        "        X, y = X.to(device), y.to(device)\n",
        "\n",
        "        # Forward pass\n",
        "        y_training_pred = model(X)\n",
        "\n",
        "        #calculate the loss and accuracy per batch:\n",
        "        loss = loss_fn(y_training_pred, y)\n",
        "        training_loss += loss.item()\n",
        "        train_accuracy += accuracy_fn(y_true = y, y_pred = y_training_pred.argmax(dim = 1)) #we go from logits to prediction labels\n",
        "\n",
        "\n",
        "\n",
        "        # Optimizer zero grad\n",
        "        optimizer_func.zero_grad()\n",
        "\n",
        "        # Backward pass\n",
        "        loss.backward()\n",
        "\n",
        "        # Optimizer step\n",
        "        optimizer.step()\n",
        "\n",
        "        # Print out progress\n",
        "        if batch % 400 == 0:\n",
        "            print(f\" we looked at {batch * len(X)}/ {len(data_loader.dataset)} samples\")\n",
        "\n",
        "  # Calculate average training loss and accuracy\n",
        "  training_loss /= len(data_loader)\n",
        "  train_accuracy /= len(data_loader)\n",
        "  print(f\"Training Loss: {training_loss:.5f} | Training Accuracy: {train_accuracy:.2f}\")\n",
        "\n",
        "\n"
      ],
      "metadata": {
        "id": "zUDkWg4mUbGh"
      },
      "execution_count": null,
      "outputs": []
    },
    {
      "cell_type": "code",
      "source": [
        "def testing_loop(model: torch.nn.Module,\n",
        "                 data_loader: torch.utils.data.DataLoader,\n",
        "                 optimizer: torch.optim.Optimizer,\n",
        "                 loss_fn: torch.nn.Module,\n",
        "                 accuracy_fn,\n",
        "                 device: torch.device = device):\n",
        "\n",
        "\n",
        "  testing_loss, testing_accuracy = 0,0\n",
        "\n",
        "  model.eval()\n",
        "  with torch.inference_mode():\n",
        "\n",
        "    for X, y in data_loader: #here we didnt specify X_test, y_test because we are in a different function (reinitialize)\n",
        "      X, y = X.to(device), y.to(device)\n",
        "      y_testing_pred = model(X)\n",
        "\n",
        "      loss = loss_func2(y_testing_pred, y)\n",
        "      testing_loss += loss.item()\n",
        "      testing_accuracy += accuracy_fn(y_true = y, y_pred = y_testing_pred.argmax(dim =1))\n",
        "\n",
        "\n",
        "    #Calculate average testing loss and accuracy:\n",
        "    testing_loss /= len(data_loader)\n",
        "    testing_accuracy /= len(data_loader)\n",
        "    print(f\"Testing Loss: {testing_loss:.5f} | Testing Accuracy: {testing_accuracy:.2f}\")"
      ],
      "metadata": {
        "id": "JDatSMLFZf6I"
      },
      "execution_count": null,
      "outputs": []
    },
    {
      "cell_type": "code",
      "source": [
        "torch.manual_seed(42)\n",
        "from timeit import default_timer as timer\n",
        "train_time_start_gpu = timer()\n",
        "epochs = 3\n",
        "for epoch in tqdm(range(epochs)):\n",
        "  print(f\"Epoch: {epoch}\\n---------\")\n",
        "  training_loop(model = model0,\n",
        "             data_loader = train__data_loader,\n",
        "             optimizer =optimizer_func,\n",
        "             loss_fn = loss_func,\n",
        "             accuracy_fn = accuracy_fn,\n",
        "             device = device)\n",
        "\n",
        "\n",
        "\n",
        "  testing_loop(model = model0,\n",
        "               data_loader = test_data_loader,\n",
        "               optimizer = optimizer_func,\n",
        "               loss_fn = loss_func2,\n",
        "               accuracy_fn = accuracy_fn,\n",
        "               device = device)\n",
        "\n",
        "\n",
        "\n",
        "train_time_end_gpu = timer()\n",
        "total_train_time0 = print_train_time(start = train_time_start_gpu, end = train_time_end_gpu)"
      ],
      "metadata": {
        "colab": {
          "base_uri": "https://localhost:8080/",
          "height": 549,
          "referenced_widgets": [
            "2db1fa7f7de246fc982a456b89237c77",
            "78bc6a5324d24c8cac0133ac94128b4c",
            "694b8b91f0924eb4bd468c47d0000714",
            "9fb5c2f0c5ab4763964e5487013b689d",
            "6f80b521ba94477bbadd21caf3bec01b",
            "7e300a61d51f48b694685dc5e488da99",
            "80ed450d0b4449969272abc20f4ef551",
            "4ea6040a84374783af3efa5ef710df7e",
            "b2d2968f91fc40a4b4b26e738556a29b",
            "ce610d8d4dab4e68adcfa1ab41161a88",
            "fd6b0e040c98422a9d79a75e96de5ab9"
          ]
        },
        "id": "ATYSyxP3ktDv",
        "outputId": "621cea50-3ff3-437b-aca1-1b7c09e5616f"
      },
      "execution_count": null,
      "outputs": [
        {
          "output_type": "display_data",
          "data": {
            "text/plain": [
              "  0%|          | 0/3 [00:00<?, ?it/s]"
            ],
            "application/vnd.jupyter.widget-view+json": {
              "version_major": 2,
              "version_minor": 0,
              "model_id": "2db1fa7f7de246fc982a456b89237c77"
            }
          },
          "metadata": {}
        },
        {
          "output_type": "stream",
          "name": "stdout",
          "text": [
            "Epoch: 0\n",
            "---------\n",
            " we looked at 0/ 60000 samples\n",
            " we looked at 12800/ 60000 samples\n",
            " we looked at 25600/ 60000 samples\n",
            " we looked at 38400/ 60000 samples\n",
            " we looked at 51200/ 60000 samples\n",
            "Training Loss: 0.47675 | Training Accuracy: 83.56\n",
            "Testing Loss: 0.49344 | Testing Accuracy: 82.80\n",
            "Epoch: 1\n",
            "---------\n",
            " we looked at 0/ 60000 samples\n",
            " we looked at 12800/ 60000 samples\n",
            " we looked at 25600/ 60000 samples\n",
            " we looked at 38400/ 60000 samples\n",
            " we looked at 51200/ 60000 samples\n",
            "Training Loss: 0.46081 | Training Accuracy: 84.04\n",
            "Testing Loss: 0.48186 | Testing Accuracy: 83.13\n",
            "Epoch: 2\n",
            "---------\n",
            " we looked at 0/ 60000 samples\n",
            " we looked at 12800/ 60000 samples\n",
            " we looked at 25600/ 60000 samples\n",
            " we looked at 38400/ 60000 samples\n",
            " we looked at 51200/ 60000 samples\n",
            "Training Loss: 0.44943 | Training Accuracy: 84.48\n",
            "Testing Loss: 0.47473 | Testing Accuracy: 83.47\n",
            "Train time on None: 28.137 seconds\n"
          ]
        }
      ]
    },
    {
      "cell_type": "code",
      "source": [
        "torch.manual_seed(42)\n",
        "def eval_model(model: torch.nn.Module,\n",
        "               data_loader: torch.utils.data.DataLoader,\n",
        "               loss_fn: torch.nn.Module,\n",
        "               accuracy_fn\n",
        "               ):\n",
        "    \"\"\"Returns a dictionary containing the results of model predicting on data_loader.\n",
        "\n",
        "    Args:\n",
        "        model (torch.nn.Module): A PyTorch model capable of making predictions on data_loader.\n",
        "        data_loader (torch.utils.data.DataLoader): The target dataset to predict on.\n",
        "        loss_fn (torch.nn.Module): The loss function of model.\n",
        "        accuracy_fn: An accuracy function to compare the models predictions to the truth labels.\n",
        "\n",
        "    Returns:\n",
        "        (dict): Results of model making predictions on data_loader.\n",
        "    \"\"\"\n",
        "    loss, acc = 0, 0\n",
        "    model.eval()\n",
        "    with torch.inference_mode():\n",
        "        for X, y in data_loader:\n",
        "            X, y = X.to(device), y.to(device)\n",
        "            # Make predictions with the model\n",
        "            y_pred = model(X)\n",
        "\n",
        "            # Accumulate the loss and accuracy values per batch\n",
        "            loss += loss_func(y_pred, y)\n",
        "            acc += accuracy_fn(y_true=y,\n",
        "                                y_pred=y_pred.argmax(dim=1)) # For accuracy, need the prediction labels (logits -> pred_prob -> pred_labels)\n",
        "\n",
        "        # Scale loss and acc to find the average loss/acc per batch\n",
        "        loss /= len(data_loader)\n",
        "        acc /= len(data_loader)\n",
        "\n",
        "    return {\"model_name\": model.__class__.__name__, # only works when model was created with a class\n",
        "            \"model_loss\": loss.item(),\n",
        "            \"model_acc\": acc}\n",
        "\n",
        "# Calculate model 0 results on test dataset\n",
        "model0_results = eval_model(model=model0, data_loader=test_data_loader,\n",
        "    loss_fn=loss_func, accuracy_fn=accuracy_fn\n",
        ")\n",
        "model0_results"
      ],
      "metadata": {
        "colab": {
          "base_uri": "https://localhost:8080/"
        },
        "id": "r2KwIiS5k9Ml",
        "outputId": "ab07a9ed-1f30-407c-dc76-655fee8c3ad4"
      },
      "execution_count": null,
      "outputs": [
        {
          "output_type": "execute_result",
          "data": {
            "text/plain": [
              "{'model_name': 'FashionMNISTModelV0',\n",
              " 'model_loss': 0.4747343063354492,\n",
              " 'model_acc': 83.46645367412141}"
            ]
          },
          "metadata": {},
          "execution_count": 39
        }
      ]
    },
    {
      "cell_type": "markdown",
      "source": [
        "# CODING A CNN MODEL:"
      ],
      "metadata": {
        "id": "Puq0lhVQmPpu"
      }
    },
    {
      "cell_type": "code",
      "source": [
        "class FashionMNISTModelV2(nn.Module):\n",
        "  def __init__(self, input_shape: int, hidden_units: int, output_shape: int):\n",
        "    super().__init__()\n",
        "    self.conv_block1 = nn.Sequential(\n",
        "        nn.Conv2d(in_channels= input_shape,\n",
        "                  out_channels= hidden_units,\n",
        "                  kernel_size= 3,\n",
        "                  stride = 1,\n",
        "                  padding = 1),\n",
        "        nn.ReLU(),\n",
        "        nn.Conv2d(in_channels = hidden_units,\n",
        "                  out_channels = hidden_units,\n",
        "                  kernel_size = 3,\n",
        "                  stride = 1,\n",
        "                  padding = 1),\n",
        "        nn.ReLU(),\n",
        "        nn.MaxPool2d(kernel_size = 2))\n",
        "\n",
        "    self.conv_block2 = nn.Sequential(\n",
        "        nn.Conv2d(in_channels = hidden_units,\n",
        "                  out_channels= hidden_units,\n",
        "                  kernel_size = 3,\n",
        "                  stride = 1,\n",
        "                  padding = 1),\n",
        "        nn.ReLU(),\n",
        "        nn.Conv2d(in_channels = hidden_units,\n",
        "                  out_channels = output_shape,\n",
        "                  kernel_size = 3,\n",
        "                  stride = 1,\n",
        "                  padding = 1),\n",
        "        nn.ReLU(),\n",
        "        nn.MaxPool2d(kernel_size = 2))\n",
        "\n",
        "\n",
        "    self.classifier = nn.Sequential(\n",
        "        nn.Flatten(),\n",
        "        nn.Linear(in_features= hidden_units*7*7, #there is a trick here: #output shape of conv1 torch.Size([1, 10, 14, 14])\n",
        "                                             #|output shape of conv2 torch.Size([1, 10, 7, 7])\n",
        "                                             #(these are the shape that we get from running our model its the printing x.shape)\n",
        "                                             #mat1 and mat2 shapes cannot be multiplied (1x490 and 10x10)\n",
        "                                             #so we must have ((1x490 and 490x10)) to compute (we get the 490 from 1*10*7*7)\n",
        "                                             #so the hidden unit for the classifier should also be 490 (basic matrix multiplication)\n",
        "                                             #thats why we put 7*7 with the hidden unit\n",
        "\n",
        "                  out_features= output_shape)\n",
        "\n",
        "    )\n",
        "\n",
        "  def forward(self, x):\n",
        "    x = self.conv_block1(x)\n",
        "    #print(f\"output shape of conv1 {x.shape}\") #them to not have a huge printing output when testing the model\n",
        "    x = self.conv_block2(x)\n",
        "    #print(f\"output shape of conv2 {x.shape}\")\n",
        "    x = self.classifier(x)\n",
        "    #print(f\"output shape of classifier {x.shape}\")\n",
        "    return x"
      ],
      "metadata": {
        "id": "dlhN2RzKmTJY"
      },
      "execution_count": null,
      "outputs": []
    },
    {
      "cell_type": "code",
      "source": [
        "model2 = FashionMNISTModelV2(input_shape = 1, #because we are working with gray images so we have 1 color channel\n",
        "                             hidden_units =10,\n",
        "                             output_shape= len(class_names))\n",
        "\n",
        "model2.to(device)"
      ],
      "metadata": {
        "colab": {
          "base_uri": "https://localhost:8080/"
        },
        "id": "teIn8vrF0h3S",
        "outputId": "1e34274f-fbf2-48f1-d063-beb2efe74e45"
      },
      "execution_count": null,
      "outputs": [
        {
          "output_type": "execute_result",
          "data": {
            "text/plain": [
              "FashionMNISTModelV2(\n",
              "  (conv_block1): Sequential(\n",
              "    (0): Conv2d(1, 10, kernel_size=(3, 3), stride=(1, 1), padding=(1, 1))\n",
              "    (1): ReLU()\n",
              "    (2): Conv2d(10, 10, kernel_size=(3, 3), stride=(1, 1), padding=(1, 1))\n",
              "    (3): ReLU()\n",
              "    (4): MaxPool2d(kernel_size=2, stride=2, padding=0, dilation=1, ceil_mode=False)\n",
              "  )\n",
              "  (conv_block2): Sequential(\n",
              "    (0): Conv2d(10, 10, kernel_size=(3, 3), stride=(1, 1), padding=(1, 1))\n",
              "    (1): ReLU()\n",
              "    (2): Conv2d(10, 10, kernel_size=(3, 3), stride=(1, 1), padding=(1, 1))\n",
              "    (3): ReLU()\n",
              "    (4): MaxPool2d(kernel_size=2, stride=2, padding=0, dilation=1, ceil_mode=False)\n",
              "  )\n",
              "  (classifier): Sequential(\n",
              "    (0): Flatten(start_dim=1, end_dim=-1)\n",
              "    (1): Linear(in_features=490, out_features=10, bias=True)\n",
              "  )\n",
              ")"
            ]
          },
          "metadata": {},
          "execution_count": 41
        }
      ]
    },
    {
      "cell_type": "code",
      "source": [
        "images = torch.randn(size = (32, 3, 64, 64))\n",
        "test_image = images[0]\n",
        "print(images.shape)\n",
        "print(test_image.shape)\n",
        "print(test_image)"
      ],
      "metadata": {
        "colab": {
          "base_uri": "https://localhost:8080/"
        },
        "id": "wRcoUyvK08Xs",
        "outputId": "ebbc561b-7adb-4beb-f8c9-24dbddbcec83"
      },
      "execution_count": null,
      "outputs": [
        {
          "output_type": "stream",
          "name": "stdout",
          "text": [
            "torch.Size([32, 3, 64, 64])\n",
            "torch.Size([3, 64, 64])\n",
            "tensor([[[-0.4617, -0.5741,  0.5184,  ..., -0.2794,  0.8709,  0.7626],\n",
            "         [ 0.8264,  0.1035, -0.1587,  ...,  0.2875, -0.6253,  1.5168],\n",
            "         [ 2.0317,  0.3407,  1.1845,  ...,  1.3265,  0.2963,  0.1716],\n",
            "         ...,\n",
            "         [ 0.7693, -0.3584, -1.1657,  ...,  0.7561,  1.0142, -0.6882],\n",
            "         [ 0.2887, -1.9256, -1.6497,  ...,  0.3002, -1.4851,  0.0425],\n",
            "         [ 1.3571,  0.6956,  0.1320,  ..., -0.2924,  0.4062, -0.7290]],\n",
            "\n",
            "        [[ 2.0710,  0.1412,  0.1219,  ...,  0.6090, -0.2900, -0.6141],\n",
            "         [-1.4137,  0.9585,  0.6750,  ..., -0.7784, -1.1062,  0.1794],\n",
            "         [-0.5527, -0.6771, -1.3900,  ..., -0.1571,  0.3206,  1.1391],\n",
            "         ...,\n",
            "         [ 0.3468,  1.6808, -1.0219,  ...,  0.3972, -1.6283,  0.8811],\n",
            "         [ 0.3668, -0.7966,  0.7823,  ..., -0.3277,  0.9359, -0.3366],\n",
            "         [-0.2408, -1.7686,  1.0921,  ..., -1.9394,  0.1385,  0.9314]],\n",
            "\n",
            "        [[ 0.8681, -0.9268, -0.9903,  ..., -0.7076, -0.7933, -0.1106],\n",
            "         [ 0.7196,  0.6447, -0.9757,  ...,  1.4800,  0.0734,  1.0162],\n",
            "         [-0.5246,  1.8082, -2.0378,  ..., -0.2625, -0.2417, -0.8357],\n",
            "         ...,\n",
            "         [ 0.1136,  2.7536,  0.2516,  ..., -0.9924,  1.4250, -0.6707],\n",
            "         [-0.6788, -1.6329,  0.3861,  ...,  1.2207, -0.6751,  1.2014],\n",
            "         [ 1.7300,  0.1211, -1.7495,  ...,  0.8743, -1.7092, -0.2742]]])\n"
          ]
        }
      ]
    },
    {
      "cell_type": "code",
      "source": [
        "#create a single conv2d layer:\n",
        "conv_layer = nn.Conv2d(in_channels= 3, #in_channels is the number of color channel that our data has (32, |3|, 64, 64))\n",
        "                       out_channels= 10,\n",
        "                       kernel_size = (3,3),\n",
        "                       padding = 0,\n",
        "                       stride = 1)\n",
        "\n",
        "\n",
        "\n",
        "conv_output = conv_layer(test_image.unsqueeze(0))\n",
        "conv_output.shape"
      ],
      "metadata": {
        "colab": {
          "base_uri": "https://localhost:8080/"
        },
        "id": "YERTXWIy-piW",
        "outputId": "9e5f6953-12a2-4627-a112-de16e5863601"
      },
      "execution_count": null,
      "outputs": [
        {
          "output_type": "execute_result",
          "data": {
            "text/plain": [
              "torch.Size([1, 10, 62, 62])"
            ]
          },
          "metadata": {},
          "execution_count": 43
        }
      ]
    },
    {
      "cell_type": "code",
      "source": [
        "conv_layer2 = nn.Conv2d(in_channels = 3,\n",
        "                        out_channels = 10,\n",
        "                        kernel_size = (5,5),\n",
        "                        padding = 0,\n",
        "                        stride = 2)\n",
        "conv_output2 = conv_layer2(test_image.unsqueeze(0))\n",
        "conv_output2.shape"
      ],
      "metadata": {
        "colab": {
          "base_uri": "https://localhost:8080/"
        },
        "id": "RSWt15gWHbe8",
        "outputId": "6914cecd-5739-4409-9ef8-533d0c9e08fa"
      },
      "execution_count": null,
      "outputs": [
        {
          "output_type": "execute_result",
          "data": {
            "text/plain": [
              "torch.Size([1, 10, 30, 30])"
            ]
          },
          "metadata": {},
          "execution_count": 44
        }
      ]
    },
    {
      "cell_type": "code",
      "source": [
        "torch.__version__"
      ],
      "metadata": {
        "colab": {
          "base_uri": "https://localhost:8080/",
          "height": 35
        },
        "id": "3wCThesVDju4",
        "outputId": "5d98eedf-826d-4aa6-f1bf-3da0604b6a64"
      },
      "execution_count": null,
      "outputs": [
        {
          "output_type": "execute_result",
          "data": {
            "text/plain": [
              "'2.3.0+cu121'"
            ],
            "application/vnd.google.colaboratory.intrinsic+json": {
              "type": "string"
            }
          },
          "metadata": {},
          "execution_count": 45
        }
      ]
    },
    {
      "cell_type": "code",
      "source": [
        "image.shape"
      ],
      "metadata": {
        "colab": {
          "base_uri": "https://localhost:8080/"
        },
        "id": "duKCjg7eNyFu",
        "outputId": "3ab8a020-c140-4e47-876c-b56a110cc8bd"
      },
      "execution_count": null,
      "outputs": [
        {
          "output_type": "execute_result",
          "data": {
            "text/plain": [
              "torch.Size([1, 28, 28])"
            ]
          },
          "metadata": {},
          "execution_count": 46
        }
      ]
    },
    {
      "cell_type": "code",
      "source": [
        "plt.imshow(image.squeeze(), cmap = \"gray\")"
      ],
      "metadata": {
        "colab": {
          "base_uri": "https://localhost:8080/",
          "height": 448
        },
        "id": "EFrCfgA1DlEo",
        "outputId": "ca9be99d-dae9-401a-ca70-20aeaa90805f"
      },
      "execution_count": null,
      "outputs": [
        {
          "output_type": "execute_result",
          "data": {
            "text/plain": [
              "<matplotlib.image.AxesImage at 0x795d909b5ae0>"
            ]
          },
          "metadata": {},
          "execution_count": 47
        },
        {
          "output_type": "display_data",
          "data": {
            "text/plain": [
              "<Figure size 640x480 with 1 Axes>"
            ],
            "image/png": "[encoded data removed]"
          },
          "metadata": {}
        }
      ]
    },
    {
      "cell_type": "code",
      "source": [
        "#testing with another image:\n",
        "random_image = torch.randn(size =(1, 28, 28)).to(device)\n",
        "random_image.shape\n",
        "model2(random_image.unsqueeze(0))\n"
      ],
      "metadata": {
        "colab": {
          "base_uri": "https://localhost:8080/"
        },
        "id": "PWbr4DDEOign",
        "outputId": "266b9847-59b9-42a2-c947-80d5741c8c74"
      },
      "execution_count": null,
      "outputs": [
        {
          "output_type": "execute_result",
          "data": {
            "text/plain": [
              "tensor([[ 0.0387, -0.0474, -0.0533,  0.0204,  0.0511,  0.0113,  0.0239,  0.0519,\n",
              "         -0.0391,  0.0489]], device='cuda:0', grad_fn=<AddmmBackward0>)"
            ]
          },
          "metadata": {},
          "execution_count": 48
        }
      ]
    },
    {
      "cell_type": "markdown",
      "source": [
        "you see how now our model2(random_image.unsqueeze(0)) works ,its because we were able to return matrix that are multipliable     \n",
        "(1x490, 490x10)"
      ],
      "metadata": {
        "id": "ffBBodXEVlKc"
      }
    },
    {
      "cell_type": "code",
      "source": [
        "loss_fn = nn.CrossEntropyLoss()\n",
        "optimizer_func = torch.optim.SGD(params = model2.parameters(), lr = 0.1)"
      ],
      "metadata": {
        "id": "31rMeDRjNfG6"
      },
      "execution_count": null,
      "outputs": []
    },
    {
      "cell_type": "code",
      "source": [
        "model2.state_dict()"
      ],
      "metadata": {
        "colab": {
          "base_uri": "https://localhost:8080/"
        },
        "id": "-9v0Cv8CYolx",
        "outputId": "e223cea0-0db6-4288-b83e-847274937b67"
      },
      "execution_count": null,
      "outputs": [
        {
          "output_type": "execute_result",
          "data": {
            "text/plain": [
              "OrderedDict([('conv_block1.0.weight',\n",
              "              tensor([[[[-0.0781,  0.3062, -0.0730],\n",
              "                        [ 0.0673, -0.1623,  0.1958],\n",
              "                        [ 0.2938, -0.2445,  0.2897]]],\n",
              "              \n",
              "              \n",
              "                      [[[ 0.0624,  0.2463,  0.0451],\n",
              "                        [ 0.1607, -0.0471,  0.2570],\n",
              "                        [ 0.0493, -0.1556,  0.0850]]],\n",
              "              \n",
              "              \n",
              "                      [[[-0.1536, -0.0391, -0.1354],\n",
              "                        [ 0.2211, -0.2631, -0.1537],\n",
              "                        [-0.0941, -0.2004,  0.0315]]],\n",
              "              \n",
              "              \n",
              "                      [[[-0.3292,  0.3010, -0.2832],\n",
              "                        [ 0.2573,  0.0555, -0.1082],\n",
              "                        [ 0.2060,  0.0520,  0.2693]]],\n",
              "              \n",
              "              \n",
              "                      [[[ 0.0364, -0.1051,  0.0896],\n",
              "                        [-0.0904,  0.1403,  0.2976],\n",
              "                        [ 0.1927, -0.1457,  0.1924]]],\n",
              "              \n",
              "              \n",
              "                      [[[ 0.0596,  0.1693, -0.2032],\n",
              "                        [-0.3300, -0.1288, -0.2557],\n",
              "                        [ 0.2735,  0.0960,  0.1381]]],\n",
              "              \n",
              "              \n",
              "                      [[[ 0.1054, -0.0058,  0.2609],\n",
              "                        [-0.2368,  0.0210, -0.2275],\n",
              "                        [ 0.1028, -0.1148,  0.1021]]],\n",
              "              \n",
              "              \n",
              "                      [[[-0.0694,  0.2765, -0.1976],\n",
              "                        [-0.1988, -0.1988,  0.2998],\n",
              "                        [ 0.1111,  0.3208, -0.2751]]],\n",
              "              \n",
              "              \n",
              "                      [[[-0.3306, -0.2608, -0.2242],\n",
              "                        [ 0.1350,  0.1194,  0.2770],\n",
              "                        [-0.1721, -0.2272,  0.1769]]],\n",
              "              \n",
              "              \n",
              "                      [[[-0.1347,  0.2023, -0.0791],\n",
              "                        [ 0.1907, -0.2590, -0.1682],\n",
              "                        [ 0.1016,  0.0705, -0.0850]]]], device='cuda:0')),\n",
              "             ('conv_block1.0.bias',\n",
              "              tensor([ 0.1987,  0.2266, -0.2417, -0.1780,  0.3052, -0.1125, -0.1182, -0.3225,\n",
              "                      -0.1909,  0.0833], device='cuda:0')),\n",
              "             ('conv_block1.2.weight',\n",
              "              tensor([[[[-0.0139, -0.0765,  0.0025],\n",
              "                        [-0.0720, -0.0894, -0.0580],\n",
              "                        [-0.0923, -0.0671,  0.1054]],\n",
              "              \n",
              "                       [[ 0.0199,  0.0325, -0.0983],\n",
              "                        [-0.0692, -0.0351,  0.0165],\n",
              "                        [-0.0928, -0.0454, -0.0631]],\n",
              "              \n",
              "                       [[ 0.0003, -0.0392, -0.0073],\n",
              "                        [-0.0714, -0.0724, -0.0615],\n",
              "                        [-0.0361, -0.0832,  0.0884]],\n",
              "              \n",
              "                       [[-0.0209,  0.0907,  0.0328],\n",
              "                        [-0.0893,  0.0729, -0.0290],\n",
              "                        [-0.0404, -0.0875, -0.1048]],\n",
              "              \n",
              "                       [[ 0.0302, -0.0230,  0.0410],\n",
              "                        [-0.0865,  0.0783, -0.0774],\n",
              "                        [-0.0182,  0.0220,  0.0544]],\n",
              "              \n",
              "                       [[ 0.0851,  0.0960, -0.0836],\n",
              "                        [ 0.0265, -0.0453, -0.0116],\n",
              "                        [-0.0789,  0.0960, -0.0774]],\n",
              "              \n",
              "                       [[ 0.0563,  0.0370,  0.0343],\n",
              "                        [-0.0570,  0.0958,  0.0232],\n",
              "                        [ 0.0136, -0.0929,  0.0442]],\n",
              "              \n",
              "                       [[-0.0158, -0.0483,  0.0905],\n",
              "                        [ 0.0235, -0.0583, -0.0534],\n",
              "                        [-0.0050,  0.0589, -0.0269]],\n",
              "              \n",
              "                       [[-0.0601, -0.0361, -0.0787],\n",
              "                        [ 0.0376,  0.0816, -0.0992],\n",
              "                        [ 0.0245,  0.0545,  0.0191]],\n",
              "              \n",
              "                       [[-0.0375,  0.0550,  0.0554],\n",
              "                        [ 0.0394, -0.0185, -0.0279],\n",
              "                        [ 0.0113, -0.0186, -0.0314]]],\n",
              "              \n",
              "              \n",
              "                      [[[ 0.0674,  0.0906, -0.0104],\n",
              "                        [-0.0236,  0.0015, -0.0063],\n",
              "                        [ 0.0253,  0.0295, -0.0957]],\n",
              "              \n",
              "                       [[-0.0389,  0.0888,  0.0411],\n",
              "                        [-0.0052, -0.0636, -0.0645],\n",
              "                        [-0.0944, -0.0344,  0.0356]],\n",
              "              \n",
              "                       [[ 0.0672,  0.0487, -0.0932],\n",
              "                        [-0.0634, -0.0166,  0.1020],\n",
              "                        [ 0.0152, -0.0273,  0.0436]],\n",
              "              \n",
              "                       [[-0.0401, -0.0682,  0.0769],\n",
              "                        [-0.0479, -0.0211, -0.1049],\n",
              "                        [ 0.0705,  0.0799,  0.0384]],\n",
              "              \n",
              "                       [[-0.0735, -0.1040, -0.0856],\n",
              "                        [ 0.0786,  0.0506,  0.0887],\n",
              "                        [ 0.0552,  0.0267, -0.0010]],\n",
              "              \n",
              "                       [[-0.0802, -0.0903, -0.0986],\n",
              "                        [ 0.0432, -0.0518, -0.0212],\n",
              "                        [-0.0607, -0.0192, -0.0742]],\n",
              "              \n",
              "                       [[-0.0689,  0.0350, -0.0313],\n",
              "                        [ 0.0651, -0.0338, -0.0773],\n",
              "                        [-0.0186, -0.0511, -0.0322]],\n",
              "              \n",
              "                       [[-0.1003,  0.0590, -0.0734],\n",
              "                        [ 0.0530,  0.0478,  0.0753],\n",
              "                        [-0.0809,  0.0758, -0.0498]],\n",
              "              \n",
              "                       [[ 0.0391,  0.0990, -0.0149],\n",
              "                        [-0.0008, -0.0243, -0.0880],\n",
              "                        [ 0.0506, -0.1046,  0.0654]],\n",
              "              \n",
              "                       [[ 0.0789,  0.0997, -0.0249],\n",
              "                        [-0.0866,  0.0237,  0.0582],\n",
              "                        [-0.1049, -0.0239, -0.0632]]],\n",
              "              \n",
              "              \n",
              "                      [[[-0.0092, -0.0519, -0.0431],\n",
              "                        [-0.0335, -0.1002,  0.0865],\n",
              "                        [ 0.0884, -0.0165, -0.0120]],\n",
              "              \n",
              "                       [[-0.0430, -0.0952, -0.1026],\n",
              "                        [ 0.0392, -0.0579, -0.0678],\n",
              "                        [-0.0082, -0.0351, -0.0341]],\n",
              "              \n",
              "                       [[ 0.0034, -0.0224, -0.0363],\n",
              "                        [-0.0505, -0.0858,  0.0884],\n",
              "                        [-0.0422,  0.0279, -0.0366]],\n",
              "              \n",
              "                       [[ 0.0086,  0.0983,  0.0486],\n",
              "                        [-0.0913,  0.0418,  0.1001],\n",
              "                        [ 0.0277,  0.0707,  0.1039]],\n",
              "              \n",
              "                       [[-0.0162,  0.0219, -0.0733],\n",
              "                        [-0.0217,  0.0781,  0.0540],\n",
              "                        [-0.0667, -0.0845, -0.0720]],\n",
              "              \n",
              "                       [[-0.1040, -0.0813, -0.0261],\n",
              "                        [ 0.0711,  0.0176, -0.0802],\n",
              "                        [-0.0846,  0.0524, -0.0784]],\n",
              "              \n",
              "                       [[-0.0130,  0.0506, -0.0488],\n",
              "                        [-0.0115, -0.0092, -0.0249],\n",
              "                        [-0.0534, -0.0940, -0.0852]],\n",
              "              \n",
              "                       [[-0.0564,  0.1018, -0.0509],\n",
              "                        [-0.0708,  0.0256,  0.0291],\n",
              "                        [ 0.0578,  0.0801,  0.0587]],\n",
              "              \n",
              "                       [[-0.1045,  0.0093,  0.0639],\n",
              "                        [-0.0097, -0.0621,  0.1005],\n",
              "                        [-0.0394, -0.0600, -0.0950]],\n",
              "              \n",
              "                       [[ 0.0047,  0.0467,  0.0233],\n",
              "                        [ 0.0208, -0.0799, -0.0984],\n",
              "                        [ 0.0019,  0.0961,  0.0608]]],\n",
              "              \n",
              "              \n",
              "                      [[[-0.0614, -0.0137, -0.0777],\n",
              "                        [-0.0509,  0.0191,  0.0574],\n",
              "                        [ 0.0873, -0.0968,  0.0705]],\n",
              "              \n",
              "                       [[-0.0743,  0.0395,  0.0892],\n",
              "                        [ 0.0015,  0.0959, -0.0898],\n",
              "                        [-0.0403,  0.0615, -0.0230]],\n",
              "              \n",
              "                       [[-0.0216, -0.0439,  0.0727],\n",
              "                        [ 0.0517,  0.0338, -0.0592],\n",
              "                        [-0.0856,  0.0114,  0.0312]],\n",
              "              \n",
              "                       [[-0.0487, -0.0295,  0.0712],\n",
              "                        [ 0.0084,  0.0048, -0.0259],\n",
              "                        [-0.0955, -0.0991, -0.0504]],\n",
              "              \n",
              "                       [[-0.0536,  0.0328, -0.0307],\n",
              "                        [-0.0412,  0.1005,  0.0367],\n",
              "                        [ 0.0751, -0.0510, -0.0431]],\n",
              "              \n",
              "                       [[ 0.0387, -0.0702, -0.0689],\n",
              "                        [-0.0051, -0.0386, -0.0790],\n",
              "                        [ 0.0625,  0.0848,  0.0171]],\n",
              "              \n",
              "                       [[-0.0184, -0.0976, -0.0384],\n",
              "                        [ 0.0268,  0.0497, -0.0133],\n",
              "                        [-0.0417,  0.0587, -0.0839]],\n",
              "              \n",
              "                       [[ 0.0666, -0.0409,  0.0016],\n",
              "                        [-0.0208,  0.0128, -0.0319],\n",
              "                        [ 0.0766, -0.0027,  0.0823]],\n",
              "              \n",
              "                       [[ 0.1013, -0.0514, -0.0769],\n",
              "                        [ 0.0846,  0.0826, -0.0805],\n",
              "                        [-0.0081, -0.1039, -0.0863]],\n",
              "              \n",
              "                       [[ 0.0204,  0.0280,  0.0223],\n",
              "                        [-0.0287,  0.0972,  0.0151],\n",
              "                        [-0.0622, -0.0060,  0.0253]]],\n",
              "              \n",
              "              \n",
              "                      [[[ 0.0369, -0.0745,  0.0395],\n",
              "                        [-0.0539, -0.0876, -0.0576],\n",
              "                        [ 0.1017,  0.0901,  0.0944]],\n",
              "              \n",
              "                       [[ 0.0619,  0.0796, -0.0141],\n",
              "                        [-0.0580,  0.0527, -0.0546],\n",
              "                        [-0.0711, -0.0337,  0.0221]],\n",
              "              \n",
              "                       [[ 0.0543, -0.0409, -0.0620],\n",
              "                        [ 0.0142, -0.0621, -0.0686],\n",
              "                        [ 0.0549, -0.0177,  0.0963]],\n",
              "              \n",
              "                       [[ 0.1025,  0.0315,  0.0363],\n",
              "                        [ 0.0243,  0.0017, -0.0077],\n",
              "                        [ 0.0014,  0.0394,  0.0980]],\n",
              "              \n",
              "                       [[-0.0273, -0.0446, -0.0255],\n",
              "                        [-0.0509,  0.0179,  0.0787],\n",
              "                        [ 0.0824,  0.0484, -0.0776]],\n",
              "              \n",
              "                       [[-0.0566, -0.0232, -0.0194],\n",
              "                        [ 0.0087, -0.0968,  0.0328],\n",
              "                        [-0.0804, -0.0667, -0.0876]],\n",
              "              \n",
              "                       [[ 0.0918, -0.0998,  0.0795],\n",
              "                        [-0.0035, -0.0123,  0.0659],\n",
              "                        [-0.0097,  0.0661,  0.0762]],\n",
              "              \n",
              "                       [[-0.0915,  0.0406,  0.0199],\n",
              "                        [ 0.0227,  0.0154,  0.0288],\n",
              "                        [-0.0507, -0.0135,  0.1002]],\n",
              "              \n",
              "                       [[ 0.0708, -0.0040, -0.0991],\n",
              "                        [ 0.0046, -0.0718,  0.0857],\n",
              "                        [-0.0640, -0.0076, -0.0234]],\n",
              "              \n",
              "                       [[ 0.0188,  0.0992,  0.0100],\n",
              "                        [ 0.0610,  0.0818,  0.0851],\n",
              "                        [-0.0364, -0.0236,  0.0508]]],\n",
              "              \n",
              "              \n",
              "                      [[[-0.0288,  0.0494, -0.0230],\n",
              "                        [-0.0715,  0.0429,  0.0162],\n",
              "                        [ 0.0470,  0.1047,  0.0720]],\n",
              "              \n",
              "                       [[ 0.0999,  0.0056, -0.0907],\n",
              "                        [-0.0739, -0.0655, -0.0929],\n",
              "                        [-0.0528, -0.0970, -0.0973]],\n",
              "              \n",
              "                       [[-0.0630, -0.1039, -0.0647],\n",
              "                        [ 0.0402,  0.0879, -0.0314],\n",
              "                        [-0.0307,  0.0563, -0.0520]],\n",
              "              \n",
              "                       [[-0.0498,  0.0649, -0.0918],\n",
              "                        [ 0.0129,  0.0931,  0.0181],\n",
              "                        [ 0.0287, -0.0614, -0.0015]],\n",
              "              \n",
              "                       [[ 0.0058,  0.0259,  0.0410],\n",
              "                        [ 0.0916, -0.0805,  0.0032],\n",
              "                        [-0.0527, -0.0834, -0.0084]],\n",
              "              \n",
              "                       [[-0.0928,  0.0736,  0.0122],\n",
              "                        [-0.0568,  0.0551, -0.0998],\n",
              "                        [-0.0408, -0.0205, -0.0896]],\n",
              "              \n",
              "                       [[-0.0670, -0.0172,  0.0800],\n",
              "                        [ 0.1018,  0.0671, -0.0629],\n",
              "                        [-0.0690,  0.0920,  0.0373]],\n",
              "              \n",
              "                       [[ 0.0028,  0.0143, -0.0847],\n",
              "                        [-0.0352,  0.1015, -0.0260],\n",
              "                        [-0.0053, -0.0875, -0.0590]],\n",
              "              \n",
              "                       [[-0.0022, -0.0655, -0.0131],\n",
              "                        [ 0.0429, -0.1031,  0.0313],\n",
              "                        [-0.0697, -0.0514,  0.0405]],\n",
              "              \n",
              "                       [[ 0.0838, -0.0288, -0.0433],\n",
              "                        [-0.0953, -0.0544, -0.0923],\n",
              "                        [-0.0241,  0.0215, -0.0988]]],\n",
              "              \n",
              "              \n",
              "                      [[[ 0.0920,  0.0661, -0.1032],\n",
              "                        [-0.0503,  0.0344, -0.0217],\n",
              "                        [-0.0115, -0.0476,  0.0847]],\n",
              "              \n",
              "                       [[-0.0589,  0.0874,  0.0068],\n",
              "                        [ 0.0212,  0.0822, -0.0174],\n",
              "                        [-0.0600, -0.0170,  0.0855]],\n",
              "              \n",
              "                       [[-0.0782,  0.0239, -0.1036],\n",
              "                        [ 0.0553,  0.0389,  0.0045],\n",
              "                        [ 0.0452,  0.0001,  0.0583]],\n",
              "              \n",
              "                       [[-0.0834, -0.0155,  0.0468],\n",
              "                        [ 0.1050,  0.0537, -0.0767],\n",
              "                        [ 0.0811, -0.0235, -0.0225]],\n",
              "              \n",
              "                       [[-0.0958, -0.0166,  0.0746],\n",
              "                        [ 0.0147, -0.0614,  0.0324],\n",
              "                        [-0.0338,  0.0962, -0.0915]],\n",
              "              \n",
              "                       [[-0.0333, -0.1018, -0.0415],\n",
              "                        [ 0.0332,  0.1015,  0.0177],\n",
              "                        [ 0.1033,  0.0206,  0.0609]],\n",
              "              \n",
              "                       [[ 0.0845,  0.0881, -0.0590],\n",
              "                        [ 0.0969,  0.0639, -0.0493],\n",
              "                        [-0.0503, -0.0884,  0.0265]],\n",
              "              \n",
              "                       [[-0.0854,  0.0445,  0.0333],\n",
              "                        [-0.0916,  0.0287, -0.0086],\n",
              "                        [ 0.0482,  0.0605, -0.1048]],\n",
              "              \n",
              "                       [[ 0.0967,  0.0884,  0.0419],\n",
              "                        [-0.0963, -0.0377, -0.0305],\n",
              "                        [-0.0271,  0.0594,  0.0383]],\n",
              "              \n",
              "                       [[ 0.0835, -0.0395,  0.0355],\n",
              "                        [ 0.0375, -0.0878, -0.1022],\n",
              "                        [-0.0547,  0.0722, -0.0992]]],\n",
              "              \n",
              "              \n",
              "                      [[[-0.0918,  0.0591,  0.0569],\n",
              "                        [ 0.0867, -0.0796, -0.0771],\n",
              "                        [ 0.0541,  0.0917,  0.0631]],\n",
              "              \n",
              "                       [[ 0.0165,  0.0347,  0.1000],\n",
              "                        [-0.0680, -0.0479,  0.0737],\n",
              "                        [-0.0721, -0.0581,  0.0769]],\n",
              "              \n",
              "                       [[ 0.0333,  0.0341, -0.0447],\n",
              "                        [-0.0015,  0.0965, -0.0633],\n",
              "                        [ 0.0008,  0.0501, -0.0728]],\n",
              "              \n",
              "                       [[ 0.1024, -0.0527, -0.0253],\n",
              "                        [-0.0285, -0.0687, -0.1034],\n",
              "                        [ 0.0594,  0.0280, -0.0987]],\n",
              "              \n",
              "                       [[-0.0678,  0.1042,  0.0403],\n",
              "                        [ 0.0423, -0.0631, -0.0462],\n",
              "                        [-0.0159, -0.0193, -0.0722]],\n",
              "              \n",
              "                       [[ 0.0087,  0.0105, -0.0133],\n",
              "                        [ 0.0146, -0.0418,  0.0274],\n",
              "                        [ 0.0398, -0.0555, -0.1045]],\n",
              "              \n",
              "                       [[ 0.0552,  0.0251, -0.0536],\n",
              "                        [ 0.1016, -0.0477,  0.0712],\n",
              "                        [ 0.0535, -0.0884,  0.0680]],\n",
              "              \n",
              "                       [[-0.0969, -0.0584, -0.0176],\n",
              "                        [-0.0711,  0.1030, -0.0211],\n",
              "                        [ 0.0419, -0.0941,  0.0607]],\n",
              "              \n",
              "                       [[-0.0328, -0.0802,  0.0154],\n",
              "                        [ 0.0511,  0.0912, -0.0644],\n",
              "                        [-0.0519,  0.0203,  0.0286]],\n",
              "              \n",
              "                       [[ 0.0405,  0.0579, -0.0239],\n",
              "                        [ 0.0586,  0.0777, -0.0275],\n",
              "                        [ 0.0750,  0.0515,  0.0930]]],\n",
              "              \n",
              "              \n",
              "                      [[[-0.0599, -0.0521, -0.0305],\n",
              "                        [ 0.0053,  0.0633, -0.0602],\n",
              "                        [ 0.0528, -0.0378,  0.0637]],\n",
              "              \n",
              "                       [[-0.0050, -0.0923, -0.0580],\n",
              "                        [-0.0763,  0.0523, -0.0707],\n",
              "                        [-0.0088,  0.0227, -0.0578]],\n",
              "              \n",
              "                       [[ 0.0304, -0.1029, -0.0754],\n",
              "                        [-0.0955, -0.0319, -0.0384],\n",
              "                        [ 0.0151, -0.0195,  0.0496]],\n",
              "              \n",
              "                       [[ 0.0966,  0.0378, -0.0415],\n",
              "                        [-0.0987,  0.0382, -0.0522],\n",
              "                        [ 0.0536,  0.0705,  0.0407]],\n",
              "              \n",
              "                       [[ 0.0989,  0.1001,  0.0223],\n",
              "                        [-0.0768,  0.0942, -0.0500],\n",
              "                        [-0.0498,  0.0882,  0.0817]],\n",
              "              \n",
              "                       [[ 0.0318,  0.0066, -0.0887],\n",
              "                        [-0.0109,  0.1011,  0.0268],\n",
              "                        [ 0.0090, -0.0219, -0.0368]],\n",
              "              \n",
              "                       [[ 0.0628,  0.0065,  0.0686],\n",
              "                        [-0.0187,  0.0461,  0.0435],\n",
              "                        [ 0.0168,  0.0662,  0.0661]],\n",
              "              \n",
              "                       [[ 0.0977,  0.0810, -0.0270],\n",
              "                        [-0.0892,  0.0193, -0.0009],\n",
              "                        [-0.0275, -0.0177,  0.0050]],\n",
              "              \n",
              "                       [[ 0.0769,  0.0329, -0.0374],\n",
              "                        [-0.0433, -0.0261, -0.0407],\n",
              "                        [ 0.0948,  0.0558,  0.0952]],\n",
              "              \n",
              "                       [[ 0.0003,  0.0213,  0.0366],\n",
              "                        [-0.0998,  0.0094, -0.0071],\n",
              "                        [-0.0591, -0.0818,  0.0933]]],\n",
              "              \n",
              "              \n",
              "                      [[[ 0.0857,  0.0489,  0.1006],\n",
              "                        [-0.0428, -0.0182,  0.0399],\n",
              "                        [-0.0174, -0.0207, -0.0871]],\n",
              "              \n",
              "                       [[ 0.0283, -0.0637,  0.0038],\n",
              "                        [ 0.1028, -0.0324, -0.0332],\n",
              "                        [ 0.0636, -0.0388, -0.0091]],\n",
              "              \n",
              "                       [[ 0.0984, -0.0432, -0.0754],\n",
              "                        [-0.0590, -0.0292, -0.0500],\n",
              "                        [-0.0547,  0.0426,  0.0179]],\n",
              "              \n",
              "                       [[-0.0337, -0.0819, -0.0332],\n",
              "                        [-0.0445, -0.0343, -0.0951],\n",
              "                        [ 0.0227, -0.0774, -0.0821]],\n",
              "              \n",
              "                       [[-0.0861,  0.0440, -0.0635],\n",
              "                        [-0.0435,  0.0826,  0.0560],\n",
              "                        [ 0.0604, -0.1001, -0.0756]],\n",
              "              \n",
              "                       [[-0.0398,  0.0871,  0.0108],\n",
              "                        [-0.0788,  0.0007, -0.0819],\n",
              "                        [-0.0231, -0.0290,  0.0912]],\n",
              "              \n",
              "                       [[ 0.0326, -0.0184,  0.0178],\n",
              "                        [-0.0304,  0.0414,  0.0417],\n",
              "                        [ 0.0283, -0.0411,  0.0899]],\n",
              "              \n",
              "                       [[-0.0152, -0.0410,  0.0660],\n",
              "                        [ 0.0859,  0.1049,  0.0312],\n",
              "                        [-0.0359,  0.0535,  0.0904]],\n",
              "              \n",
              "                       [[-0.1034, -0.0131, -0.0719],\n",
              "                        [ 0.0196,  0.0436, -0.0218],\n",
              "                        [-0.0088,  0.0474, -0.0177]],\n",
              "              \n",
              "                       [[-0.0885,  0.0843, -0.0531],\n",
              "                        [-0.0116,  0.0099, -0.0063],\n",
              "                        [-0.0992,  0.0484, -0.0479]]]], device='cuda:0')),\n",
              "             ('conv_block1.2.bias',\n",
              "              tensor([-0.0547,  0.0252, -0.0550, -0.0487, -0.0355, -0.0396, -0.0440, -0.0284,\n",
              "                       0.0274, -0.0853], device='cuda:0')),\n",
              "             ('conv_block2.0.weight',\n",
              "              tensor([[[[-6.3802e-02,  1.5381e-03,  1.4659e-02],\n",
              "                        [ 5.8217e-02, -7.4044e-02,  3.3646e-02],\n",
              "                        [ 5.9914e-02,  5.8530e-02, -9.8180e-02]],\n",
              "              \n",
              "                       [[-4.0225e-02, -9.0606e-02, -6.6704e-02],\n",
              "                        [ 5.8711e-02, -1.5740e-02,  4.4769e-02],\n",
              "                        [-6.1876e-02,  1.6018e-02, -6.3758e-02]],\n",
              "              \n",
              "                       [[ 5.2693e-02, -4.6104e-02, -2.6432e-02],\n",
              "                        [-9.1456e-02,  3.4822e-04,  1.0008e-01],\n",
              "                        [ 5.1163e-02, -5.6240e-02,  1.4176e-03]],\n",
              "              \n",
              "                       [[-1.1558e-02, -8.4862e-02,  8.2650e-02],\n",
              "                        [ 1.6993e-03,  2.2199e-02, -4.2567e-02],\n",
              "                        [-4.9323e-02,  1.7381e-02,  3.8971e-02]],\n",
              "              \n",
              "                       [[ 2.3643e-02, -5.0801e-02,  1.0234e-01],\n",
              "                        [-1.5517e-02, -6.4554e-02, -4.9301e-02],\n",
              "                        [ 1.0377e-01,  5.0766e-06, -1.4309e-02]],\n",
              "              \n",
              "                       [[-4.3867e-02, -2.7633e-02, -8.8779e-02],\n",
              "                        [-8.3767e-02,  6.1695e-02,  9.0172e-02],\n",
              "                        [ 1.0059e-01, -7.6099e-02,  5.7012e-02]],\n",
              "              \n",
              "                       [[-6.5245e-02,  6.2883e-02,  7.6058e-02],\n",
              "                        [ 8.1573e-02,  7.5900e-02,  6.5941e-02],\n",
              "                        [ 2.0516e-03,  4.8434e-02, -3.7712e-02]],\n",
              "              \n",
              "                       [[ 4.5899e-02, -3.3879e-02, -1.7700e-03],\n",
              "                        [-9.1746e-02, -2.7562e-02, -5.5432e-02],\n",
              "                        [-3.5557e-02, -6.7313e-02, -9.4810e-02]],\n",
              "              \n",
              "                       [[ 6.8639e-03,  6.8408e-02,  9.6001e-02],\n",
              "                        [ 6.1512e-02, -5.4638e-02, -1.0425e-01],\n",
              "                        [ 3.9983e-02,  5.9062e-02, -9.0495e-02]],\n",
              "              \n",
              "                       [[ 3.7798e-02,  8.9121e-02,  6.3853e-03],\n",
              "                        [-6.3505e-02,  8.6423e-02,  4.5011e-02],\n",
              "                        [ 6.9802e-02, -7.1287e-02,  6.1342e-02]]],\n",
              "              \n",
              "              \n",
              "                      [[[-7.2002e-02,  1.0430e-01, -4.4662e-02],\n",
              "                        [ 6.3516e-02,  2.1107e-02,  2.7935e-02],\n",
              "                        [-1.6165e-02,  4.3295e-02, -4.3932e-02]],\n",
              "              \n",
              "                       [[-9.9357e-02, -4.0499e-02,  8.2592e-02],\n",
              "                        [-2.7751e-02,  3.3132e-02, -3.8973e-02],\n",
              "                        [ 7.9073e-02,  6.3086e-02,  3.7211e-02]],\n",
              "              \n",
              "                       [[-5.3881e-02, -8.6133e-02,  3.9686e-03],\n",
              "                        [-6.1839e-02,  8.6667e-02, -1.0130e-01],\n",
              "                        [ 4.7104e-02,  1.0508e-01,  5.2792e-02]],\n",
              "              \n",
              "                       [[ 3.5942e-02, -1.0142e-01,  1.0139e-01],\n",
              "                        [-1.8030e-02, -9.8495e-02,  1.0406e-01],\n",
              "                        [-4.2894e-02, -7.4575e-03,  9.6479e-02]],\n",
              "              \n",
              "                       [[-7.3070e-02, -7.4576e-02,  1.7141e-02],\n",
              "                        [-1.4109e-02,  2.4280e-02, -8.8407e-02],\n",
              "                        [ 3.1524e-03, -4.6882e-02, -5.1820e-02]],\n",
              "              \n",
              "                       [[-9.6517e-02,  5.5890e-02,  2.0306e-02],\n",
              "                        [-8.9118e-02,  8.3648e-02,  3.1794e-02],\n",
              "                        [ 1.9560e-02, -6.1890e-02,  1.5896e-02]],\n",
              "              \n",
              "                       [[ 1.0157e-01,  7.2299e-02, -8.2100e-02],\n",
              "                        [ 9.6220e-02,  8.1702e-03,  5.0698e-02],\n",
              "                        [ 8.1869e-02,  8.9862e-02, -8.2170e-02]],\n",
              "              \n",
              "                       [[ 9.2303e-02, -7.1591e-02,  7.9021e-03],\n",
              "                        [-7.3656e-02, -2.3109e-02, -4.7901e-03],\n",
              "                        [-1.2611e-02, -1.6652e-02,  8.3137e-03]],\n",
              "              \n",
              "                       [[ 1.0398e-01,  6.1244e-02,  5.8973e-02],\n",
              "                        [ 4.2190e-02,  8.1606e-02, -4.8645e-03],\n",
              "                        [ 8.3813e-03,  2.1693e-02, -9.1931e-02]],\n",
              "              \n",
              "                       [[-8.4913e-02,  1.2923e-02, -4.1241e-02],\n",
              "                        [-1.9342e-03, -2.4187e-02,  1.6408e-02],\n",
              "                        [ 6.8581e-02, -3.4958e-02,  8.4418e-02]]],\n",
              "              \n",
              "              \n",
              "                      [[[ 8.3227e-02, -8.0901e-02, -8.1400e-02],\n",
              "                        [-8.5284e-02, -5.7766e-02, -4.1033e-02],\n",
              "                        [-7.9341e-03, -2.5635e-02, -5.3258e-02]],\n",
              "              \n",
              "                       [[-3.3488e-02, -3.8131e-02,  1.0341e-01],\n",
              "                        [-3.9068e-02, -7.5473e-02,  4.3818e-02],\n",
              "                        [-6.0886e-03,  8.0698e-02,  6.5863e-02]],\n",
              "              \n",
              "                       [[ 9.6843e-02, -7.7197e-02,  6.7764e-02],\n",
              "                        [ 8.8464e-02, -5.2054e-02,  9.6890e-02],\n",
              "                        [ 7.9019e-02,  1.1544e-03,  5.0823e-02]],\n",
              "              \n",
              "                       [[-3.6853e-02, -9.1936e-02,  2.6645e-02],\n",
              "                        [ 3.1425e-02, -6.8891e-02,  5.1123e-02],\n",
              "                        [-9.0043e-02,  9.0718e-02,  1.0208e-01]],\n",
              "              \n",
              "                       [[ 2.8699e-02, -6.6137e-02,  5.1300e-02],\n",
              "                        [ 1.7963e-02,  2.8663e-02,  3.4643e-02],\n",
              "                        [ 8.0254e-02, -4.5309e-02, -2.3711e-02]],\n",
              "              \n",
              "                       [[ 2.8746e-02,  1.1486e-02,  8.5000e-02],\n",
              "                        [-5.5365e-02, -3.8387e-03,  1.9696e-02],\n",
              "                        [-2.7996e-02,  7.1859e-02,  1.1530e-02]],\n",
              "              \n",
              "                       [[-9.7422e-02, -1.1420e-02, -4.7809e-02],\n",
              "                        [ 1.0243e-02, -1.2250e-02, -1.0456e-01],\n",
              "                        [-1.9208e-02, -1.0096e-02, -3.1083e-02]],\n",
              "              \n",
              "                       [[ 9.6848e-02, -2.3000e-02,  6.7717e-02],\n",
              "                        [ 2.6112e-02, -8.8979e-02,  2.4770e-02],\n",
              "                        [ 8.7356e-02, -6.8948e-02, -6.8134e-02]],\n",
              "              \n",
              "                       [[ 1.0318e-01,  8.4697e-02, -5.8807e-02],\n",
              "                        [ 6.3429e-02, -1.3485e-02, -1.0393e-01],\n",
              "                        [ 7.9198e-03,  3.4057e-02, -3.1619e-02]],\n",
              "              \n",
              "                       [[ 3.6670e-02, -9.0136e-02,  7.3050e-02],\n",
              "                        [ 8.9865e-02,  5.8130e-02,  1.7866e-02],\n",
              "                        [ 3.4716e-02, -7.6269e-02, -2.6339e-02]]],\n",
              "              \n",
              "              \n",
              "                      [[[-1.0063e-02, -5.8659e-02, -7.7857e-02],\n",
              "                        [ 7.0900e-02,  7.1535e-02, -9.5731e-02],\n",
              "                        [ 3.3542e-02,  4.2881e-02,  1.0014e-01]],\n",
              "              \n",
              "                       [[ 6.0985e-02,  9.6907e-02, -3.4510e-02],\n",
              "                        [ 7.3827e-02,  8.5740e-02, -9.9541e-02],\n",
              "                        [-8.4613e-02,  2.1335e-02,  5.7557e-02]],\n",
              "              \n",
              "                       [[-5.2369e-02,  1.1609e-02, -1.5303e-04],\n",
              "                        [ 2.6680e-02, -5.6642e-02,  5.9455e-02],\n",
              "                        [ 7.0098e-02, -7.3139e-02,  1.0211e-03]],\n",
              "              \n",
              "                       [[ 2.9247e-04,  3.3849e-02,  9.8198e-02],\n",
              "                        [ 3.0913e-02, -2.3951e-02,  9.4672e-02],\n",
              "                        [-4.0112e-02, -3.0608e-02,  7.1969e-03]],\n",
              "              \n",
              "                       [[-8.0270e-02,  1.1470e-02, -7.1518e-02],\n",
              "                        [ 1.0838e-02,  1.0099e-02,  1.4591e-02],\n",
              "                        [-8.8891e-02, -1.0012e-01,  4.8501e-02]],\n",
              "              \n",
              "                       [[ 9.0399e-02, -9.3537e-02,  3.9043e-02],\n",
              "                        [-7.7594e-02,  6.6082e-03,  9.8068e-02],\n",
              "                        [ 7.9965e-02, -7.7069e-02,  6.5203e-02]],\n",
              "              \n",
              "                       [[ 5.5057e-02, -1.6168e-04,  1.0211e-01],\n",
              "                        [-4.1866e-02, -2.4530e-02, -5.3275e-02],\n",
              "                        [ 1.5168e-02,  2.7911e-02,  8.3990e-03]],\n",
              "              \n",
              "                       [[-5.9307e-02, -4.7452e-02,  3.5855e-02],\n",
              "                        [-9.2426e-02, -1.6416e-02, -2.3350e-03],\n",
              "                        [-4.2708e-02,  3.8360e-02,  6.7940e-03]],\n",
              "              \n",
              "                       [[ 7.4004e-02, -9.3616e-03, -6.6528e-02],\n",
              "                        [ 7.4477e-02,  1.4720e-02, -3.0189e-02],\n",
              "                        [-6.9476e-02,  2.4707e-02, -1.0053e-01]],\n",
              "              \n",
              "                       [[ 2.7762e-02,  5.2119e-02, -9.2465e-02],\n",
              "                        [-6.9009e-02, -7.5781e-02,  8.8597e-02],\n",
              "                        [ 8.9611e-02,  6.5987e-03,  9.8959e-02]]],\n",
              "              \n",
              "              \n",
              "                      [[[-3.5239e-02, -1.0233e-01,  3.6819e-02],\n",
              "                        [ 3.7343e-02,  1.0334e-01, -3.0510e-05],\n",
              "                        [ 8.0785e-02,  6.4612e-02,  7.6292e-02]],\n",
              "              \n",
              "                       [[-1.0460e-01,  8.6800e-02, -8.9856e-02],\n",
              "                        [ 9.4501e-02, -4.3682e-03, -9.3415e-02],\n",
              "                        [ 2.9314e-02, -2.1456e-02, -9.4678e-02]],\n",
              "              \n",
              "                       [[-3.8215e-02,  1.0868e-02,  8.2098e-02],\n",
              "                        [-3.2406e-02,  6.2610e-02,  1.3200e-02],\n",
              "                        [ 3.5531e-03,  2.0170e-02, -6.9177e-02]],\n",
              "              \n",
              "                       [[-8.7616e-02, -3.3121e-02, -9.8226e-02],\n",
              "                        [-4.9158e-02,  4.8494e-03, -6.9424e-02],\n",
              "                        [-4.3723e-02, -1.8941e-02, -1.2144e-02]],\n",
              "              \n",
              "                       [[-5.8187e-02,  5.0650e-03, -1.4795e-02],\n",
              "                        [ 3.0147e-02,  4.7611e-03, -5.2638e-02],\n",
              "                        [-3.6291e-02, -1.2149e-03, -6.5774e-02]],\n",
              "              \n",
              "                       [[ 8.2520e-03, -7.4425e-03,  4.0897e-02],\n",
              "                        [ 2.4947e-02,  7.8887e-02, -3.4749e-03],\n",
              "                        [-7.7887e-02,  4.7119e-02, -7.1240e-02]],\n",
              "              \n",
              "                       [[-1.4489e-02, -3.4132e-02, -3.9997e-02],\n",
              "                        [-3.9000e-02,  9.6863e-02,  6.0342e-02],\n",
              "                        [ 2.9213e-02,  9.8975e-02, -9.5524e-02]],\n",
              "              \n",
              "                       [[ 1.7010e-02,  6.7481e-02,  7.0022e-02],\n",
              "                        [-8.3890e-02,  3.7514e-02, -6.0050e-02],\n",
              "                        [-4.1187e-03, -2.1996e-02, -8.8013e-02]],\n",
              "              \n",
              "                       [[-1.0055e-01, -6.9349e-02,  4.7832e-02],\n",
              "                        [ 4.8218e-02, -9.1681e-02, -3.9586e-02],\n",
              "                        [ 1.7218e-03, -9.1135e-02,  5.9393e-02]],\n",
              "              \n",
              "                       [[ 9.5473e-02,  1.8643e-02, -7.8321e-02],\n",
              "                        [ 2.4580e-02,  3.8265e-02,  8.3468e-02],\n",
              "                        [-5.6085e-02, -9.4437e-02,  4.6312e-02]]],\n",
              "              \n",
              "              \n",
              "                      [[[ 6.5624e-03, -3.4345e-02, -4.4169e-02],\n",
              "                        [-5.4351e-02,  8.5328e-02, -1.8187e-02],\n",
              "                        [ 7.6022e-02,  9.4094e-02,  1.3353e-02]],\n",
              "              \n",
              "                       [[ 2.2454e-02, -7.1789e-03,  7.2397e-02],\n",
              "                        [-9.4983e-02,  4.1919e-02, -1.7174e-02],\n",
              "                        [ 4.8132e-02, -4.6949e-04, -3.9029e-02]],\n",
              "              \n",
              "                       [[-1.1379e-02,  5.6920e-02, -7.3210e-02],\n",
              "                        [-6.6629e-02, -2.3611e-02, -3.8235e-02],\n",
              "                        [ 4.1409e-02,  7.0937e-02, -1.1289e-02]],\n",
              "              \n",
              "                       [[ 9.9672e-02, -4.4042e-02, -5.9151e-02],\n",
              "                        [-4.7191e-02, -7.2624e-02, -7.3885e-02],\n",
              "                        [-9.3921e-02, -9.3422e-02,  2.7512e-02]],\n",
              "              \n",
              "                       [[ 6.4284e-02,  9.8963e-02,  8.9787e-02],\n",
              "                        [-6.0709e-03,  2.0454e-02, -6.3068e-02],\n",
              "                        [ 4.0743e-02, -1.0107e-01,  4.9719e-02]],\n",
              "              \n",
              "                       [[ 1.9334e-02,  3.2393e-02,  3.8595e-02],\n",
              "                        [-4.8394e-02,  9.0452e-02,  5.0307e-02],\n",
              "                        [ 6.9243e-02,  1.3922e-02,  6.6196e-02]],\n",
              "              \n",
              "                       [[ 7.0941e-02,  4.7775e-02,  8.0297e-02],\n",
              "                        [-1.9119e-02,  6.9310e-02,  2.4286e-02],\n",
              "                        [ 6.3424e-02,  1.0267e-01,  2.3869e-02]],\n",
              "              \n",
              "                       [[-3.9124e-02, -1.0488e-02,  2.9676e-02],\n",
              "                        [ 1.7773e-02, -2.8795e-02,  8.2590e-02],\n",
              "                        [ 6.3331e-02, -6.5475e-02, -8.5889e-03]],\n",
              "              \n",
              "                       [[-1.0119e-02, -6.6063e-02,  1.5374e-02],\n",
              "                        [-3.2360e-02, -5.4419e-02, -3.3894e-02],\n",
              "                        [-3.7584e-02,  1.0084e-01,  4.0432e-02]],\n",
              "              \n",
              "                       [[ 1.0373e-01,  2.8903e-02,  2.3868e-02],\n",
              "                        [ 4.3333e-02,  1.8092e-02, -8.2722e-02],\n",
              "                        [-6.2334e-02, -2.5538e-02,  1.5846e-03]]],\n",
              "              \n",
              "              \n",
              "                      [[[ 3.9709e-02,  4.0588e-02,  8.3623e-02],\n",
              "                        [ 2.1458e-02, -3.5975e-02, -7.9271e-02],\n",
              "                        [-7.7203e-02, -6.2965e-02,  3.1792e-02]],\n",
              "              \n",
              "                       [[ 5.6950e-02,  9.2224e-02, -3.3342e-02],\n",
              "                        [-8.3150e-03, -3.1303e-02, -3.8517e-04],\n",
              "                        [ 3.3837e-02, -2.3160e-03,  4.8799e-03]],\n",
              "              \n",
              "                       [[ 1.3354e-02,  3.9256e-02, -3.1981e-02],\n",
              "                        [-6.2855e-02,  2.4869e-02, -1.2481e-02],\n",
              "                        [-4.7753e-02,  4.4268e-02,  9.5597e-04]],\n",
              "              \n",
              "                       [[-1.5333e-02, -5.1027e-02, -1.3868e-02],\n",
              "                        [-8.9632e-02,  2.3980e-02,  1.5818e-03],\n",
              "                        [ 6.3966e-02,  6.8063e-03,  8.4277e-03]],\n",
              "              \n",
              "                       [[ 2.8715e-02,  8.0210e-02, -4.9812e-02],\n",
              "                        [ 6.2930e-02,  2.5779e-02, -7.0320e-02],\n",
              "                        [ 3.6702e-02, -6.3217e-02, -3.3181e-02]],\n",
              "              \n",
              "                       [[-5.0245e-02, -7.1711e-02,  8.3017e-02],\n",
              "                        [-9.4217e-02,  5.2706e-02, -9.4870e-02],\n",
              "                        [-1.2829e-02,  6.2868e-03,  7.4937e-02]],\n",
              "              \n",
              "                       [[-3.8147e-02,  3.0340e-02,  1.6329e-02],\n",
              "                        [ 6.2021e-02,  6.2667e-03,  3.9470e-02],\n",
              "                        [-6.3677e-02, -7.3250e-02,  9.3928e-02]],\n",
              "              \n",
              "                       [[-7.6808e-02, -1.7945e-02, -1.2742e-02],\n",
              "                        [ 1.0308e-01, -2.2780e-02, -8.0249e-02],\n",
              "                        [-2.6721e-02,  5.4372e-02,  4.1773e-02]],\n",
              "              \n",
              "                       [[ 8.7204e-02, -2.1579e-02,  4.9653e-02],\n",
              "                        [-9.9194e-02,  4.0787e-02,  4.8432e-02],\n",
              "                        [ 6.7998e-02, -6.0446e-02, -2.8142e-02]],\n",
              "              \n",
              "                       [[ 2.5502e-02, -7.4905e-02, -8.3851e-02],\n",
              "                        [-1.0141e-01,  5.8842e-03,  6.5458e-02],\n",
              "                        [ 2.7075e-02,  6.4263e-03,  3.6727e-02]]],\n",
              "              \n",
              "              \n",
              "                      [[[-6.6240e-02,  1.1113e-02, -2.6186e-02],\n",
              "                        [-5.2193e-02,  9.0902e-02, -8.1550e-02],\n",
              "                        [ 1.5448e-02, -9.2624e-02, -3.5762e-03]],\n",
              "              \n",
              "                       [[-4.6840e-02,  3.4695e-02, -5.9191e-02],\n",
              "                        [ 6.7466e-02, -8.5536e-02,  6.3313e-02],\n",
              "                        [-7.9181e-02,  5.6456e-02, -4.4384e-02]],\n",
              "              \n",
              "                       [[-2.4556e-04, -1.9238e-02,  6.8414e-02],\n",
              "                        [ 3.4546e-02, -9.2887e-02,  9.6914e-03],\n",
              "                        [-7.2718e-02,  7.8800e-02,  1.7319e-02]],\n",
              "              \n",
              "                       [[-2.7109e-02, -5.3777e-02,  3.6485e-02],\n",
              "                        [-6.3129e-02,  4.9992e-02,  5.7519e-02],\n",
              "                        [ 6.4701e-02,  2.7537e-02, -9.2272e-02]],\n",
              "              \n",
              "                       [[ 7.5823e-02, -3.2700e-02, -3.1163e-02],\n",
              "                        [-1.1325e-02,  7.7068e-02,  8.1052e-02],\n",
              "                        [ 1.6276e-02,  5.0296e-02, -9.8241e-02]],\n",
              "              \n",
              "                       [[ 2.4900e-04, -9.3254e-02,  3.5876e-02],\n",
              "                        [-7.5099e-02, -3.7568e-02,  7.3684e-02],\n",
              "                        [ 1.0074e-01, -6.3286e-02, -5.8503e-02]],\n",
              "              \n",
              "                       [[ 1.3055e-02,  4.1437e-02, -1.7168e-02],\n",
              "                        [-3.2918e-02, -6.9237e-02,  4.4997e-02],\n",
              "                        [ 1.0328e-01, -5.1026e-02,  4.9718e-02]],\n",
              "              \n",
              "                       [[ 5.1481e-02,  8.4728e-02, -1.2001e-02],\n",
              "                        [ 3.3202e-03,  7.7444e-02,  6.6631e-02],\n",
              "                        [ 1.0411e-01, -3.0207e-02,  4.1709e-02]],\n",
              "              \n",
              "                       [[ 7.3605e-02, -7.1553e-02,  2.0940e-02],\n",
              "                        [-2.3586e-02,  6.7760e-02, -4.7342e-02],\n",
              "                        [ 7.3933e-03,  6.3067e-02, -9.6567e-02]],\n",
              "              \n",
              "                       [[-8.9004e-02, -5.3989e-02,  6.7611e-02],\n",
              "                        [ 7.0680e-02, -7.1991e-02,  2.0100e-02],\n",
              "                        [-5.5854e-02, -4.8926e-02,  9.0907e-02]]],\n",
              "              \n",
              "              \n",
              "                      [[[ 5.0914e-02, -2.8828e-02,  1.5516e-02],\n",
              "                        [ 2.0424e-02,  2.4691e-02, -3.6079e-02],\n",
              "                        [-6.2074e-02,  6.9788e-02,  1.4164e-02]],\n",
              "              \n",
              "                       [[ 4.4119e-02, -3.9922e-02,  5.1057e-02],\n",
              "                        [ 7.6713e-02,  6.4107e-02,  2.8660e-02],\n",
              "                        [ 1.0371e-01, -2.3053e-04,  2.2441e-02]],\n",
              "              \n",
              "                       [[ 1.0015e-01,  1.0245e-01, -4.4506e-02],\n",
              "                        [ 9.4953e-02,  3.8902e-02, -1.1799e-02],\n",
              "                        [ 9.2038e-02, -5.4605e-02,  6.8490e-02]],\n",
              "              \n",
              "                       [[ 1.0445e-01, -7.2701e-02, -6.2201e-02],\n",
              "                        [-1.0445e-01, -1.8970e-02, -9.5733e-02],\n",
              "                        [-3.5304e-02,  3.2002e-02,  7.4511e-02]],\n",
              "              \n",
              "                       [[ 5.8717e-02,  5.8511e-02,  4.3730e-02],\n",
              "                        [-6.5378e-02, -8.3694e-02,  4.3696e-03],\n",
              "                        [ 1.0009e-01,  5.9351e-03, -9.0662e-03]],\n",
              "              \n",
              "                       [[-7.1545e-02, -5.2266e-02, -8.1256e-02],\n",
              "                        [ 8.4398e-02, -1.7174e-02, -9.3119e-02],\n",
              "                        [ 1.1308e-02,  7.6494e-03, -1.3023e-02]],\n",
              "              \n",
              "                       [[ 3.7733e-02,  5.6687e-02, -9.9128e-02],\n",
              "                        [-8.0753e-02, -5.0639e-03, -9.7729e-02],\n",
              "                        [-9.5750e-02,  9.3067e-02, -8.0174e-03]],\n",
              "              \n",
              "                       [[-5.2113e-02, -3.6157e-02, -8.2295e-02],\n",
              "                        [ 8.2258e-02, -2.2857e-02, -5.9265e-02],\n",
              "                        [-7.9944e-02,  6.1611e-02, -1.4571e-02]],\n",
              "              \n",
              "                       [[-1.1074e-02, -2.7473e-02, -5.0883e-02],\n",
              "                        [ 1.8751e-02,  8.1099e-02, -6.1093e-02],\n",
              "                        [ 5.0504e-03, -8.0165e-02, -4.9426e-02]],\n",
              "              \n",
              "                       [[ 9.2525e-02,  1.1052e-03,  1.0154e-01],\n",
              "                        [-1.8468e-02, -5.7453e-02, -6.2981e-02],\n",
              "                        [ 9.3426e-02, -8.1058e-02,  5.5318e-02]]],\n",
              "              \n",
              "              \n",
              "                      [[[ 2.6203e-02,  3.1107e-02,  5.9476e-02],\n",
              "                        [-2.7577e-02,  6.5223e-02, -8.3982e-02],\n",
              "                        [-3.7087e-02,  7.7164e-02,  3.1283e-02]],\n",
              "              \n",
              "                       [[-1.4038e-02, -2.4616e-02, -6.4364e-02],\n",
              "                        [ 6.4098e-02, -3.3520e-03, -3.5664e-03],\n",
              "                        [ 2.4929e-02,  7.7787e-02, -5.3778e-02]],\n",
              "              \n",
              "                       [[-3.6303e-02,  7.1429e-02,  5.9532e-02],\n",
              "                        [-5.1855e-02, -1.0428e-01,  1.9555e-02],\n",
              "                        [ 5.5434e-02,  2.5178e-02,  7.4768e-02]],\n",
              "              \n",
              "                       [[-8.3640e-02,  5.3156e-02, -6.5531e-02],\n",
              "                        [ 5.9325e-02,  7.8394e-02,  3.3385e-02],\n",
              "                        [ 8.5284e-02, -6.9481e-02, -9.4275e-02]],\n",
              "              \n",
              "                       [[-1.0135e-01,  6.6179e-02,  3.6926e-02],\n",
              "                        [-7.7188e-02,  5.1048e-02,  9.6177e-02],\n",
              "                        [-1.0394e-01,  7.6466e-02,  1.6167e-02]],\n",
              "              \n",
              "                       [[ 9.8053e-03,  9.4847e-02,  9.5458e-02],\n",
              "                        [ 4.4414e-02,  8.3288e-02,  4.3853e-02],\n",
              "                        [ 1.7176e-02, -9.2656e-02,  1.9689e-02]],\n",
              "              \n",
              "                       [[-7.4993e-02,  3.2452e-02,  1.8598e-02],\n",
              "                        [ 2.3681e-03, -7.2071e-02, -6.3899e-02],\n",
              "                        [ 7.7912e-02,  5.1336e-02,  5.5576e-02]],\n",
              "              \n",
              "                       [[-3.1410e-02, -1.8151e-02, -2.7014e-02],\n",
              "                        [ 7.2489e-02, -4.5504e-02,  6.6394e-02],\n",
              "                        [ 7.2679e-02, -9.6403e-02,  6.4369e-04]],\n",
              "              \n",
              "                       [[-2.0076e-02, -5.8273e-02,  4.5507e-02],\n",
              "                        [-1.2807e-02,  9.2287e-02, -6.5976e-02],\n",
              "                        [ 4.8976e-02, -8.9998e-02, -5.2833e-02]],\n",
              "              \n",
              "                       [[ 7.1903e-03,  8.3283e-02,  5.5521e-02],\n",
              "                        [-8.6550e-02,  1.1676e-02, -6.2138e-02],\n",
              "                        [ 4.5674e-03, -8.7814e-02, -3.0924e-02]]]], device='cuda:0')),\n",
              "             ('conv_block2.0.bias',\n",
              "              tensor([ 0.0723, -0.0967, -0.1005,  0.0192,  0.0144, -0.0193,  0.0920, -0.0635,\n",
              "                      -0.0640, -0.0788], device='cuda:0')),\n",
              "             ('conv_block2.2.weight',\n",
              "              tensor([[[[-1.9619e-02, -2.6901e-02,  6.5222e-02],\n",
              "                        [-5.9186e-03,  3.3663e-02, -4.3804e-02],\n",
              "                        [ 8.5507e-02,  8.8862e-02, -9.4401e-02]],\n",
              "              \n",
              "                       [[-2.7090e-02, -8.9439e-02,  4.4781e-02],\n",
              "                        [-9.2094e-02, -4.9839e-02,  1.0532e-01],\n",
              "                        [-1.0066e-01,  7.7771e-02,  8.9049e-03]],\n",
              "              \n",
              "                       [[ 8.4289e-02, -5.3494e-02,  6.9236e-02],\n",
              "                        [ 1.2718e-02,  8.1073e-03,  7.1945e-02],\n",
              "                        [-1.0019e-01, -8.4902e-02,  1.0180e-01]],\n",
              "              \n",
              "                       [[-6.3298e-02, -7.5980e-02, -5.1539e-03],\n",
              "                        [-3.3742e-02, -1.4421e-02, -7.0623e-02],\n",
              "                        [ 3.8034e-02, -9.0703e-02,  8.5374e-03]],\n",
              "              \n",
              "                       [[ 6.1510e-02,  2.0253e-02,  1.4006e-02],\n",
              "                        [ 1.5418e-02, -3.0880e-02, -2.0080e-02],\n",
              "                        [-4.4450e-02, -7.1207e-02, -5.5810e-02]],\n",
              "              \n",
              "                       [[ 1.0420e-01, -1.7641e-02,  3.6924e-02],\n",
              "                        [ 7.2896e-02, -8.2343e-03, -5.6707e-02],\n",
              "                        [-7.1419e-02, -3.8833e-02,  3.7624e-02]],\n",
              "              \n",
              "                       [[-8.8771e-02, -1.2870e-02,  4.0096e-02],\n",
              "                        [ 8.5999e-02,  3.1721e-02,  2.0846e-02],\n",
              "                        [ 7.2162e-02,  4.8708e-02,  3.5661e-02]],\n",
              "              \n",
              "                       [[-3.2682e-02, -8.4528e-02, -2.2769e-02],\n",
              "                        [-1.9117e-02,  7.7410e-03, -1.1593e-02],\n",
              "                        [ 4.2616e-02,  7.0050e-02, -4.2735e-02]],\n",
              "              \n",
              "                       [[-1.0002e-01, -5.4081e-02, -5.0436e-02],\n",
              "                        [ 5.9750e-02, -6.7994e-02, -9.9145e-03],\n",
              "                        [-2.2340e-02, -6.3976e-02,  4.7780e-02]],\n",
              "              \n",
              "                       [[-4.3909e-02, -5.4531e-03, -7.4112e-02],\n",
              "                        [-1.0632e-02,  1.4977e-02, -4.2894e-03],\n",
              "                        [-3.9386e-02,  3.1315e-02, -2.7311e-02]]],\n",
              "              \n",
              "              \n",
              "                      [[[-5.8439e-02, -7.7732e-02, -2.2329e-02],\n",
              "                        [-9.9578e-02,  8.7492e-02, -5.0357e-02],\n",
              "                        [-4.3684e-02,  9.7439e-03,  2.7326e-02]],\n",
              "              \n",
              "                       [[-9.9393e-03,  7.2313e-02, -6.1448e-02],\n",
              "                        [ 3.7777e-02, -2.3773e-04, -8.5747e-02],\n",
              "                        [-4.0824e-02,  2.6825e-02,  2.0138e-02]],\n",
              "              \n",
              "                       [[ 7.6647e-02,  7.0518e-02, -5.7493e-02],\n",
              "                        [-4.5013e-02, -2.2351e-02, -7.5517e-02],\n",
              "                        [-2.8459e-02, -8.6258e-02,  4.0092e-02]],\n",
              "              \n",
              "                       [[ 7.4583e-02,  8.3459e-03, -7.5460e-02],\n",
              "                        [-7.9827e-02, -4.1036e-02,  3.0659e-02],\n",
              "                        [ 2.5711e-03,  1.9166e-02,  9.9346e-02]],\n",
              "              \n",
              "                       [[ 4.8956e-02,  2.2665e-02, -2.1327e-02],\n",
              "                        [ 4.9864e-02,  3.8563e-02, -9.4879e-02],\n",
              "                        [-6.2266e-02,  3.5381e-03,  3.9997e-02]],\n",
              "              \n",
              "                       [[ 5.1282e-02, -6.2748e-02, -1.0458e-01],\n",
              "                        [-5.4909e-03, -1.2050e-02,  3.0588e-02],\n",
              "                        [-2.8988e-02,  8.0588e-02,  7.0333e-03]],\n",
              "              \n",
              "                       [[ 7.6975e-02, -7.3398e-02,  4.2167e-02],\n",
              "                        [ 1.2560e-02, -5.2720e-02,  5.2256e-02],\n",
              "                        [-1.0372e-01,  8.5220e-02,  8.4947e-03]],\n",
              "              \n",
              "                       [[ 1.0178e-02,  4.8746e-02,  8.7503e-03],\n",
              "                        [ 4.5184e-02,  6.7063e-02, -8.2268e-02],\n",
              "                        [ 6.9735e-02, -1.5784e-02, -2.4513e-02]],\n",
              "              \n",
              "                       [[ 2.1217e-02,  8.2446e-02, -5.7302e-02],\n",
              "                        [-7.1039e-02,  6.5418e-02, -4.9507e-02],\n",
              "                        [ 3.3937e-02, -1.5530e-02,  2.9014e-02]],\n",
              "              \n",
              "                       [[ 8.0439e-02, -5.3421e-02, -5.1151e-02],\n",
              "                        [ 5.1716e-02,  5.7714e-03, -1.1601e-02],\n",
              "                        [-9.2590e-02,  8.9309e-02, -3.9919e-03]]],\n",
              "              \n",
              "              \n",
              "                      [[[-1.9415e-02, -4.3269e-02, -2.0801e-02],\n",
              "                        [ 5.1233e-02, -2.4227e-03,  9.0147e-02],\n",
              "                        [-6.0858e-03, -1.5122e-02,  5.9498e-02]],\n",
              "              \n",
              "                       [[-2.7275e-03, -2.1039e-02,  3.5231e-02],\n",
              "                        [ 8.3129e-02,  2.6305e-02,  7.3398e-02],\n",
              "                        [ 6.8309e-02,  2.9810e-02,  3.6650e-02]],\n",
              "              \n",
              "                       [[ 3.4014e-02,  1.0934e-02,  8.9675e-02],\n",
              "                        [ 9.7308e-02,  3.7524e-02, -5.2640e-03],\n",
              "                        [ 9.4509e-02, -8.2042e-02,  7.7453e-02]],\n",
              "              \n",
              "                       [[ 5.5849e-02,  6.7687e-02, -8.0992e-03],\n",
              "                        [-7.8646e-02,  7.5193e-02, -4.6091e-02],\n",
              "                        [ 2.7734e-02,  5.9719e-02, -9.8508e-02]],\n",
              "              \n",
              "                       [[ 6.9954e-03, -3.7444e-02,  7.4815e-02],\n",
              "                        [-6.7114e-02,  6.4001e-02,  6.5730e-02],\n",
              "                        [ 5.8156e-02,  1.0119e-01,  1.5964e-02]],\n",
              "              \n",
              "                       [[-9.5541e-02,  7.5248e-02,  9.6499e-03],\n",
              "                        [ 2.0918e-03, -1.0041e-01, -2.3691e-02],\n",
              "                        [-5.1162e-02,  1.0324e-01,  7.5054e-02]],\n",
              "              \n",
              "                       [[ 7.8634e-02,  7.2188e-02, -6.5340e-02],\n",
              "                        [-4.5270e-02, -4.1252e-02, -4.2257e-02],\n",
              "                        [ 8.2054e-02,  3.5815e-02,  8.4470e-02]],\n",
              "              \n",
              "                       [[-4.9309e-03, -9.3965e-02, -3.0582e-02],\n",
              "                        [ 7.4081e-02,  6.4174e-02,  3.2632e-02],\n",
              "                        [-3.0919e-02, -9.8386e-02, -5.6639e-02]],\n",
              "              \n",
              "                       [[ 5.4958e-02, -4.2518e-02,  5.0421e-02],\n",
              "                        [ 2.8781e-02, -4.0486e-02,  6.4202e-02],\n",
              "                        [-3.3871e-02, -3.5020e-03, -4.0152e-02]],\n",
              "              \n",
              "                       [[-9.9988e-02,  1.6996e-02,  3.0460e-02],\n",
              "                        [-5.3072e-02,  6.4663e-02, -9.4558e-02],\n",
              "                        [-1.0161e-01, -6.5106e-02, -3.6430e-02]]],\n",
              "              \n",
              "              \n",
              "                      [[[-1.1707e-02, -2.0370e-02,  4.8108e-02],\n",
              "                        [-9.2510e-02,  1.5521e-02,  1.8254e-03],\n",
              "                        [ 2.7842e-02,  1.0479e-01,  6.4874e-02]],\n",
              "              \n",
              "                       [[-5.8366e-02, -8.6378e-02, -2.5520e-02],\n",
              "                        [-5.2876e-02,  3.6820e-02,  9.6628e-04],\n",
              "                        [ 8.4783e-02,  4.1405e-02, -1.9382e-02]],\n",
              "              \n",
              "                       [[ 3.6229e-03,  2.5244e-02, -1.3080e-02],\n",
              "                        [ 8.5058e-02, -8.2420e-02,  5.1377e-02],\n",
              "                        [-6.7192e-02, -9.2347e-02, -2.1640e-02]],\n",
              "              \n",
              "                       [[ 5.1366e-02,  7.4478e-02,  2.6452e-02],\n",
              "                        [-9.1104e-03, -5.9092e-03, -4.2731e-02],\n",
              "                        [-9.4592e-03, -7.2831e-03,  8.9699e-02]],\n",
              "              \n",
              "                       [[ 6.1690e-02, -8.4351e-02,  4.3604e-04],\n",
              "                        [-6.4834e-02, -1.6733e-02, -8.3776e-02],\n",
              "                        [ 2.7402e-02, -7.6008e-02,  1.0406e-01]],\n",
              "              \n",
              "                       [[ 7.9605e-02, -7.2559e-02, -9.9239e-02],\n",
              "                        [ 4.1128e-03, -2.9425e-02,  3.0945e-02],\n",
              "                        [-7.1353e-02,  4.3148e-02, -9.1047e-02]],\n",
              "              \n",
              "                       [[-5.5632e-02, -5.5414e-02,  5.1007e-02],\n",
              "                        [-2.7597e-03, -1.0130e-01, -6.0201e-02],\n",
              "                        [-4.8781e-02, -9.7802e-02,  1.3497e-02]],\n",
              "              \n",
              "                       [[ 3.7561e-02, -1.9340e-02, -4.1947e-02],\n",
              "                        [-6.3926e-04, -8.3725e-02, -6.4184e-02],\n",
              "                        [-2.4040e-03,  9.3643e-02, -3.2414e-02]],\n",
              "              \n",
              "                       [[ 5.2247e-02, -4.1484e-02, -2.8060e-02],\n",
              "                        [-1.0034e-01,  8.7330e-02,  1.0264e-01],\n",
              "                        [-2.2139e-03,  6.6974e-02,  8.6219e-02]],\n",
              "              \n",
              "                       [[ 5.2359e-02,  5.4288e-02, -1.0035e-01],\n",
              "                        [-9.9050e-02, -8.0906e-02,  3.2970e-02],\n",
              "                        [-9.1177e-02, -8.0464e-02, -5.1092e-02]]],\n",
              "              \n",
              "              \n",
              "                      [[[-9.7154e-02,  1.4203e-04,  1.5207e-02],\n",
              "                        [-6.1686e-02,  6.9018e-02, -4.0018e-02],\n",
              "                        [-2.9676e-02,  8.0309e-02,  9.0499e-02]],\n",
              "              \n",
              "                       [[-1.2093e-02, -7.5671e-02, -5.2881e-02],\n",
              "                        [ 1.3423e-02,  6.1790e-02,  5.2477e-02],\n",
              "                        [-4.6547e-02, -9.9650e-02, -9.2249e-02]],\n",
              "              \n",
              "                       [[-3.3537e-02,  1.3223e-03, -4.7347e-02],\n",
              "                        [-8.3348e-02,  1.1109e-02, -8.3668e-02],\n",
              "                        [-8.0946e-02, -8.5692e-02, -2.8563e-02]],\n",
              "              \n",
              "                       [[ 9.3104e-02,  4.1207e-02, -1.2498e-02],\n",
              "                        [ 2.1694e-02,  4.1975e-02,  6.1414e-04],\n",
              "                        [-8.5020e-02, -6.4944e-02, -7.1610e-02]],\n",
              "              \n",
              "                       [[-2.6766e-03, -9.6492e-02, -1.9166e-02],\n",
              "                        [-3.8545e-02,  1.0345e-01,  8.5679e-02],\n",
              "                        [ 6.1227e-02,  5.9116e-03, -3.4129e-02]],\n",
              "              \n",
              "                       [[ 2.6887e-02, -7.2830e-02, -4.4957e-02],\n",
              "                        [-2.1175e-02, -2.4766e-02, -9.9854e-02],\n",
              "                        [ 4.1903e-02,  8.6803e-02, -5.8141e-02]],\n",
              "              \n",
              "                       [[ 2.8415e-02, -1.2225e-02, -3.8445e-03],\n",
              "                        [ 6.1443e-03,  9.1346e-02,  1.4124e-02],\n",
              "                        [-6.6690e-02, -3.7917e-02,  5.1495e-02]],\n",
              "              \n",
              "                       [[ 3.2893e-02,  2.0487e-03, -1.3912e-02],\n",
              "                        [-4.1012e-02, -3.7413e-02, -5.5602e-02],\n",
              "                        [ 1.7273e-02,  2.9603e-02,  8.0717e-02]],\n",
              "              \n",
              "                       [[-2.3813e-02,  7.5461e-03,  6.8125e-02],\n",
              "                        [ 4.5852e-02,  1.3544e-02,  3.2390e-02],\n",
              "                        [ 5.4714e-03, -9.0419e-02,  4.0636e-03]],\n",
              "              \n",
              "                       [[-2.3040e-02,  9.5123e-02,  9.5145e-02],\n",
              "                        [ 2.0912e-02,  9.4215e-02, -5.4288e-02],\n",
              "                        [ 9.1619e-02,  9.0756e-02, -4.0288e-03]]],\n",
              "              \n",
              "              \n",
              "                      [[[-8.4592e-02, -3.4015e-02, -2.8189e-02],\n",
              "                        [ 1.7411e-03, -9.5569e-02,  1.9535e-02],\n",
              "                        [-4.3839e-02, -2.6989e-02, -5.4443e-02]],\n",
              "              \n",
              "                       [[-2.2255e-02, -9.7896e-02, -5.5885e-02],\n",
              "                        [ 9.7108e-03,  6.9072e-02,  9.5790e-02],\n",
              "                        [-7.9737e-02,  4.4264e-02, -5.9419e-02]],\n",
              "              \n",
              "                       [[-8.1498e-02, -4.6417e-03, -6.0468e-02],\n",
              "                        [-9.0783e-02, -9.8509e-02, -7.0556e-02],\n",
              "                        [ 8.6619e-02,  5.8788e-02, -4.1726e-02]],\n",
              "              \n",
              "                       [[-7.0553e-02, -8.1085e-02, -6.2246e-02],\n",
              "                        [-4.3376e-02,  6.3308e-02,  3.4496e-02],\n",
              "                        [-4.0622e-02,  7.2567e-02, -6.5484e-02]],\n",
              "              \n",
              "                       [[-8.5876e-02,  2.3006e-02, -5.8123e-02],\n",
              "                        [ 2.9987e-02,  8.9306e-02, -4.9849e-02],\n",
              "                        [-7.3556e-02,  3.9676e-02, -9.5200e-02]],\n",
              "              \n",
              "                       [[ 9.4044e-02, -4.9780e-02,  5.0961e-02],\n",
              "                        [-8.3818e-02, -7.1348e-02,  1.1611e-02],\n",
              "                        [ 3.7463e-02,  8.1734e-02,  8.8158e-02]],\n",
              "              \n",
              "                       [[-6.0623e-03, -1.3552e-02,  1.7424e-02],\n",
              "                        [-2.4486e-02,  3.5882e-03, -9.9828e-02],\n",
              "                        [-8.6531e-02,  7.2233e-02, -6.1597e-02]],\n",
              "              \n",
              "                       [[ 8.3008e-02,  1.1568e-02,  2.5676e-02],\n",
              "                        [ 9.5804e-02, -5.8628e-02, -1.6640e-02],\n",
              "                        [ 1.8675e-02,  3.6012e-02, -1.0259e-01]],\n",
              "              \n",
              "                       [[ 3.7464e-02, -6.2163e-02,  1.3846e-02],\n",
              "                        [ 7.1315e-02, -1.0500e-02, -3.3346e-03],\n",
              "                        [-7.8757e-03,  8.7962e-02,  5.9907e-02]],\n",
              "              \n",
              "                       [[ 1.7727e-02, -6.3437e-02, -5.7241e-02],\n",
              "                        [ 8.3964e-02,  7.5834e-02,  6.1033e-02],\n",
              "                        [-8.2189e-02,  8.2092e-02, -1.0076e-02]]],\n",
              "              \n",
              "              \n",
              "                      [[[ 7.7661e-02,  9.1553e-02,  1.1554e-02],\n",
              "                        [-4.3863e-02,  9.9153e-02, -5.4931e-02],\n",
              "                        [ 6.8876e-02, -1.0108e-01, -3.3153e-02]],\n",
              "              \n",
              "                       [[-9.1902e-02, -4.7284e-02,  4.4759e-02],\n",
              "                        [-7.5529e-02, -9.1158e-02,  7.5371e-02],\n",
              "                        [ 5.6270e-02, -1.1527e-03, -7.4309e-02]],\n",
              "              \n",
              "                       [[-2.7927e-02, -3.4129e-02,  6.5100e-02],\n",
              "                        [-3.4478e-02, -3.0360e-02, -7.4720e-02],\n",
              "                        [-4.9646e-02,  5.7074e-02,  6.7914e-02]],\n",
              "              \n",
              "                       [[ 1.5315e-02, -3.9549e-02,  1.0124e-01],\n",
              "                        [ 2.0806e-02, -4.0688e-02, -3.6535e-02],\n",
              "                        [-1.4752e-02,  4.9974e-02,  3.8555e-02]],\n",
              "              \n",
              "                       [[ 7.6418e-02, -4.7494e-03,  8.7183e-02],\n",
              "                        [-4.2816e-02, -4.8547e-02, -3.8927e-02],\n",
              "                        [-9.8896e-02, -6.9195e-02, -9.5382e-02]],\n",
              "              \n",
              "                       [[-6.2294e-03,  9.9374e-04, -2.7358e-02],\n",
              "                        [-7.2035e-02,  9.5637e-02, -3.4926e-02],\n",
              "                        [ 5.0233e-02,  7.3408e-02, -6.9291e-02]],\n",
              "              \n",
              "                       [[-1.3179e-02,  6.0923e-02,  1.0218e-01],\n",
              "                        [-1.3299e-02,  7.6382e-02, -8.2732e-02],\n",
              "                        [-6.8489e-02,  8.6682e-02, -9.9801e-03]],\n",
              "              \n",
              "                       [[ 1.0414e-01,  7.6651e-03, -4.3714e-02],\n",
              "                        [ 1.0011e-01,  9.2179e-02,  9.7826e-03],\n",
              "                        [-6.3900e-02, -4.5639e-03, -5.0693e-02]],\n",
              "              \n",
              "                       [[ 7.6810e-02,  4.8829e-03,  2.2191e-02],\n",
              "                        [ 6.3927e-02,  3.4916e-02, -6.5803e-02],\n",
              "                        [ 8.7566e-02,  6.4758e-02, -6.5073e-02]],\n",
              "              \n",
              "                       [[ 7.9700e-02,  2.9905e-02, -2.0750e-02],\n",
              "                        [-7.5385e-02, -1.7490e-02, -1.0335e-01],\n",
              "                        [ 6.0163e-02,  7.6343e-02, -3.0347e-02]]],\n",
              "              \n",
              "              \n",
              "                      [[[ 9.7720e-02, -3.9032e-02,  1.8051e-02],\n",
              "                        [-7.3459e-02, -4.4565e-03,  4.2610e-02],\n",
              "                        [ 4.5403e-02, -3.5346e-03, -5.3154e-02]],\n",
              "              \n",
              "                       [[ 7.3680e-02,  6.9788e-02,  1.6916e-02],\n",
              "                        [-4.8475e-02,  2.2349e-02,  2.8186e-04],\n",
              "                        [ 9.6302e-02,  1.5621e-02,  8.1301e-03]],\n",
              "              \n",
              "                       [[ 7.2057e-03,  5.6079e-02, -1.3024e-03],\n",
              "                        [ 9.0351e-02,  5.4917e-02, -7.9650e-02],\n",
              "                        [-1.2063e-06, -8.9472e-02, -8.0934e-02]],\n",
              "              \n",
              "                       [[ 2.0480e-02,  2.3687e-02, -9.2246e-03],\n",
              "                        [ 1.0019e-01, -5.6627e-02, -4.4176e-02],\n",
              "                        [-1.6881e-02,  6.3911e-04, -8.9284e-03]],\n",
              "              \n",
              "                       [[ 9.4909e-02, -4.4519e-02, -5.5137e-02],\n",
              "                        [ 9.0599e-03,  7.9171e-02,  2.5019e-02],\n",
              "                        [ 5.6787e-02,  2.0406e-02,  8.9839e-02]],\n",
              "              \n",
              "                       [[ 6.3311e-02,  7.5428e-02, -1.4198e-02],\n",
              "                        [-8.7268e-02, -5.0002e-02,  3.5910e-02],\n",
              "                        [ 7.3950e-02, -4.1184e-02,  8.7218e-02]],\n",
              "              \n",
              "                       [[ 1.5150e-02,  4.1869e-04,  4.1093e-03],\n",
              "                        [-1.8623e-02,  9.8683e-02,  4.5784e-03],\n",
              "                        [ 6.4564e-02, -8.8967e-02, -5.4309e-02]],\n",
              "              \n",
              "                       [[ 1.1852e-02,  8.4169e-02,  5.0184e-02],\n",
              "                        [ 2.0076e-02, -1.0414e-01,  1.9816e-03],\n",
              "                        [-6.9581e-02, -9.0006e-02,  1.4414e-02]],\n",
              "              \n",
              "                       [[-6.6693e-02,  9.5674e-02, -5.7294e-02],\n",
              "                        [ 3.3970e-02,  6.1871e-02, -8.1928e-02],\n",
              "                        [ 5.3946e-02, -1.4114e-02,  5.4619e-02]],\n",
              "              \n",
              "                       [[ 1.0201e-01, -4.4922e-02, -4.5653e-02],\n",
              "                        [ 8.3753e-02,  1.1722e-02, -1.0513e-02],\n",
              "                        [ 7.9971e-02, -5.0928e-02, -5.2047e-03]]],\n",
              "              \n",
              "              \n",
              "                      [[[ 7.2403e-02,  4.1195e-02, -6.8180e-02],\n",
              "                        [ 2.7398e-02, -8.0368e-02, -5.7245e-02],\n",
              "                        [ 6.7779e-02, -2.8093e-02, -5.3691e-02]],\n",
              "              \n",
              "                       [[ 7.4717e-03,  2.5759e-02, -6.5524e-02],\n",
              "                        [-7.1084e-02, -1.0209e-01,  2.7236e-02],\n",
              "                        [-6.8013e-02,  8.0331e-03, -2.3576e-02]],\n",
              "              \n",
              "                       [[-6.8923e-02, -3.3636e-02, -8.1027e-02],\n",
              "                        [-5.5797e-02, -3.2857e-03, -9.0116e-02],\n",
              "                        [-9.2447e-02,  7.8958e-02,  9.9188e-03]],\n",
              "              \n",
              "                       [[-4.6618e-02, -3.5047e-03,  7.8168e-02],\n",
              "                        [-8.7939e-02, -5.5886e-02, -7.6226e-02],\n",
              "                        [-7.6634e-03, -3.6274e-03, -8.2146e-02]],\n",
              "              \n",
              "                       [[ 7.3163e-02, -8.0946e-02,  9.8414e-02],\n",
              "                        [-7.2560e-02, -1.4446e-02,  1.9710e-02],\n",
              "                        [-4.6852e-02,  9.6939e-02, -7.2673e-02]],\n",
              "              \n",
              "                       [[-5.8427e-03, -7.7398e-02,  2.9261e-02],\n",
              "                        [ 8.9871e-02,  9.7776e-02,  1.2514e-02],\n",
              "                        [-5.2773e-02,  1.0244e-01,  7.8667e-03]],\n",
              "              \n",
              "                       [[ 7.1317e-02, -5.4751e-02, -4.8920e-02],\n",
              "                        [-8.7504e-02,  9.6990e-02,  1.7486e-02],\n",
              "                        [-7.5704e-02,  9.0535e-03, -4.5211e-02]],\n",
              "              \n",
              "                       [[ 5.2659e-03,  3.4988e-02, -5.2308e-02],\n",
              "                        [ 1.8394e-02, -6.6553e-02,  2.0312e-02],\n",
              "                        [-1.0178e-01,  1.6797e-02,  1.0473e-01]],\n",
              "              \n",
              "                       [[ 9.7094e-02,  3.8451e-02,  7.7563e-02],\n",
              "                        [ 1.0248e-01,  2.9870e-02,  3.5156e-02],\n",
              "                        [ 1.3707e-02,  9.3322e-02,  9.0551e-02]],\n",
              "              \n",
              "                       [[-4.9570e-02, -4.3333e-03, -5.3110e-02],\n",
              "                        [ 3.7824e-02, -1.0214e-01,  3.7301e-02],\n",
              "                        [-2.8929e-02,  3.8227e-02,  3.2899e-02]]],\n",
              "              \n",
              "              \n",
              "                      [[[-5.2454e-02,  5.4687e-02,  4.4762e-02],\n",
              "                        [-8.9602e-02,  1.0517e-01,  9.0731e-02],\n",
              "                        [ 6.5584e-02, -1.0699e-02,  3.7345e-02]],\n",
              "              \n",
              "                       [[-5.7028e-02, -3.5818e-02,  4.9749e-02],\n",
              "                        [ 4.6925e-02,  4.1741e-02, -1.0053e-01],\n",
              "                        [ 8.7350e-02, -4.4028e-02,  9.1223e-02]],\n",
              "              \n",
              "                       [[ 8.6852e-02,  3.9070e-02,  1.0502e-01],\n",
              "                        [ 6.0528e-02,  6.1821e-02, -3.5794e-02],\n",
              "                        [ 9.7766e-02,  2.7627e-02,  6.2280e-02]],\n",
              "              \n",
              "                       [[-2.3834e-02,  7.6340e-02,  9.3509e-02],\n",
              "                        [-8.0770e-02,  8.6415e-02, -6.9664e-02],\n",
              "                        [-7.2571e-02, -8.8089e-02,  3.0459e-02]],\n",
              "              \n",
              "                       [[-7.9144e-02, -3.9680e-02, -5.2988e-02],\n",
              "                        [ 2.8172e-02, -1.0349e-01, -4.8324e-02],\n",
              "                        [ 7.7112e-04,  9.4660e-03, -4.7605e-02]],\n",
              "              \n",
              "                       [[ 3.7764e-02, -6.9544e-02, -8.9270e-02],\n",
              "                        [-1.4986e-02, -5.6989e-02,  6.6443e-02],\n",
              "                        [-7.2049e-02, -8.8494e-03,  4.3782e-02]],\n",
              "              \n",
              "                       [[-9.2311e-02,  8.1599e-02, -4.7895e-02],\n",
              "                        [-2.8684e-02, -6.4480e-02, -3.9279e-02],\n",
              "                        [-4.0645e-02, -9.3801e-02,  3.6019e-02]],\n",
              "              \n",
              "                       [[-3.3768e-04,  1.0311e-01,  7.1117e-02],\n",
              "                        [ 9.1699e-02,  3.1014e-02,  5.5388e-02],\n",
              "                        [ 9.8704e-02,  8.6545e-02, -8.0996e-02]],\n",
              "              \n",
              "                       [[-2.3636e-02, -1.0166e-01,  3.9877e-03],\n",
              "                        [-3.7229e-02,  9.1486e-02,  1.6666e-02],\n",
              "                        [ 1.1601e-03, -7.6248e-02, -8.2718e-02]],\n",
              "              \n",
              "                       [[ 1.6594e-02, -5.2376e-02, -4.8409e-02],\n",
              "                        [ 7.3938e-02, -5.4952e-02, -4.6918e-02],\n",
              "                        [ 8.0934e-02,  4.1183e-02, -5.9894e-02]]]], device='cuda:0')),\n",
              "             ('conv_block2.2.bias',\n",
              "              tensor([ 0.0319,  0.0531, -0.0936,  0.0197,  0.0241, -0.0041,  0.1011, -0.0697,\n",
              "                       0.0571, -0.0560], device='cuda:0')),\n",
              "             ('classifier.1.weight',\n",
              "              tensor([[-0.0387,  0.0308, -0.0217,  ..., -0.0225,  0.0228,  0.0067],\n",
              "                      [-0.0439, -0.0080, -0.0123,  ...,  0.0293,  0.0303,  0.0347],\n",
              "                      [-0.0211, -0.0252, -0.0278,  ..., -0.0240,  0.0283,  0.0010],\n",
              "                      ...,\n",
              "                      [ 0.0166, -0.0148,  0.0247,  ..., -0.0143, -0.0294, -0.0316],\n",
              "                      [ 0.0251,  0.0204, -0.0400,  ..., -0.0396, -0.0246, -0.0035],\n",
              "                      [-0.0046,  0.0160,  0.0326,  ...,  0.0175,  0.0320, -0.0445]],\n",
              "                     device='cuda:0')),\n",
              "             ('classifier.1.bias',\n",
              "              tensor([ 0.0246, -0.0357, -0.0442,  0.0156, -0.0010, -0.0277,  0.0404,  0.0037,\n",
              "                      -0.0283,  0.0207], device='cuda:0'))])"
            ]
          },
          "metadata": {},
          "execution_count": 50
        }
      ]
    },
    {
      "cell_type": "markdown",
      "source": [
        "# Time to create a training-testing for our model2"
      ],
      "metadata": {
        "id": "NxhbgGyvblt4"
      }
    },
    {
      "cell_type": "code",
      "source": [
        "torch.manual_seed(42)\n",
        "from timeit import default_timer as timer\n",
        "\n",
        "train_time_start_model2 = timer()\n",
        "\n",
        "\n",
        "\n",
        "epochs = 3\n",
        "\n",
        "for epoch in tqdm(range(epochs)):\n",
        "  print(f\" Epoch: {epoch}\\n---------\")\n",
        "\n",
        "  training_loop(model = model2,\n",
        "                data_loader = train__data_loader,\n",
        "                loss_fn = loss_fn,\n",
        "                optimizer = optimizer_func,\n",
        "                accuracy_fn= accuracy_fn,\n",
        "                device = device)\n",
        "\n",
        "\n",
        "  testing_loop(model = model2,\n",
        "               data_loader = test_data_loader,\n",
        "               loss_fn = loss_fn,\n",
        "               optimizer = optimizer_func,\n",
        "               accuracy_fn = accuracy_fn,\n",
        "               device = device)\n",
        "\n",
        "train_time_end_model2 = timer()\n",
        "total_train_time2 = print_train_time(start = train_time_start_model2, end = train_time_end_model2)"
      ],
      "metadata": {
        "colab": {
          "base_uri": "https://localhost:8080/",
          "height": 549,
          "referenced_widgets": [
            "a43bbc51f263468583ae888c102e659d",
            "5bb1dc18b1fb43978b74e16c8f69804a",
            "0e4a68df3e244b49b658f86087c08ee9",
            "33a10dc48ced4f5e994411b5203953c0",
            "11cd64d91f064b59b4cfd5be1cdcd091",
            "09548305fd5e446596845755f49856bf",
            "39189c7dd3a14c61b889115ca006bcd1",
            "a3853731fdde434893ad87fc982a28d3",
            "7ebfd74345c2481a8acfd8d4c9034dc1",
            "a66a6aff5a1544e28f30dc89b8f5e697",
            "14d52aef546844cc917485fc81052eef"
          ]
        },
        "id": "M7bpnxGPbM5r",
        "outputId": "a036dae6-7eb4-4c20-b63a-688112baad54"
      },
      "execution_count": null,
      "outputs": [
        {
          "output_type": "display_data",
          "data": {
            "text/plain": [
              "  0%|          | 0/3 [00:00<?, ?it/s]"
            ],
            "application/vnd.jupyter.widget-view+json": {
              "version_major": 2,
              "version_minor": 0,
              "model_id": "a43bbc51f263468583ae888c102e659d"
            }
          },
          "metadata": {}
        },
        {
          "output_type": "stream",
          "name": "stdout",
          "text": [
            " Epoch: 0\n",
            "---------\n",
            " we looked at 0/ 60000 samples\n",
            " we looked at 12800/ 60000 samples\n",
            " we looked at 25600/ 60000 samples\n",
            " we looked at 38400/ 60000 samples\n",
            " we looked at 51200/ 60000 samples\n",
            "Training Loss: 1.74211 | Training Accuracy: 33.31\n",
            "Testing Loss: 0.49057 | Testing Accuracy: 82.65\n",
            " Epoch: 1\n",
            "---------\n",
            " we looked at 0/ 60000 samples\n",
            " we looked at 12800/ 60000 samples\n",
            " we looked at 25600/ 60000 samples\n",
            " we looked at 38400/ 60000 samples\n",
            " we looked at 51200/ 60000 samples\n",
            "Training Loss: 0.43232 | Training Accuracy: 84.30\n",
            "Testing Loss: 0.40419 | Testing Accuracy: 85.26\n",
            " Epoch: 2\n",
            "---------\n",
            " we looked at 0/ 60000 samples\n",
            " we looked at 12800/ 60000 samples\n",
            " we looked at 25600/ 60000 samples\n",
            " we looked at 38400/ 60000 samples\n",
            " we looked at 51200/ 60000 samples\n",
            "Training Loss: 0.36774 | Training Accuracy: 86.62\n",
            "Testing Loss: 0.35165 | Testing Accuracy: 87.42\n",
            "Train time on None: 35.055 seconds\n"
          ]
        }
      ]
    },
    {
      "cell_type": "code",
      "source": [
        "model0_results = eval_model(model = model0,\n",
        "                            data_loader = test_data_loader,\n",
        "                            loss_fn = loss_func,\n",
        "                            accuracy_fn = accuracy_fn)\n",
        "model0_results"
      ],
      "metadata": {
        "colab": {
          "base_uri": "https://localhost:8080/"
        },
        "id": "LeR8YstlqOnL",
        "outputId": "7003660c-3eea-48ec-a6da-51f5ca9b8d66"
      },
      "execution_count": null,
      "outputs": [
        {
          "output_type": "execute_result",
          "data": {
            "text/plain": [
              "{'model_name': 'FashionMNISTModelV0',\n",
              " 'model_loss': 0.4747343063354492,\n",
              " 'model_acc': 83.46645367412141}"
            ]
          },
          "metadata": {},
          "execution_count": 52
        }
      ]
    },
    {
      "cell_type": "code",
      "source": [
        "model1_results = eval_model(model = model1,\n",
        "                            data_loader = test_data_loader,\n",
        "                            loss_fn = loss_func,\n",
        "                            accuracy_fn = accuracy_fn)\n",
        "\n",
        "model1_results"
      ],
      "metadata": {
        "colab": {
          "base_uri": "https://localhost:8080/"
        },
        "id": "wKIzmGS4qVgD",
        "outputId": "f925bed0-add4-4742-f6d2-db2e6ab6623e"
      },
      "execution_count": null,
      "outputs": [
        {
          "output_type": "execute_result",
          "data": {
            "text/plain": [
              "{'model_name': 'FashionMNISTModelV1',\n",
              " 'model_loss': 2.3021068572998047,\n",
              " 'model_acc': 10.75279552715655}"
            ]
          },
          "metadata": {},
          "execution_count": 53
        }
      ]
    },
    {
      "cell_type": "code",
      "source": [
        "model2_results = eval_model(model = model2,\n",
        "                            data_loader = test_data_loader,\n",
        "                            loss_fn = loss_func,\n",
        "                            accuracy_fn = accuracy_fn)\n",
        "\n",
        "model2_results"
      ],
      "metadata": {
        "colab": {
          "base_uri": "https://localhost:8080/"
        },
        "id": "8hfc_lyNcFH3",
        "outputId": "b20095e0-a2e9-4aba-835a-b21267c61cdb"
      },
      "execution_count": null,
      "outputs": [
        {
          "output_type": "execute_result",
          "data": {
            "text/plain": [
              "{'model_name': 'FashionMNISTModelV2',\n",
              " 'model_loss': 0.35164833068847656,\n",
              " 'model_acc': 87.42012779552715}"
            ]
          },
          "metadata": {},
          "execution_count": 54
        }
      ]
    },
    {
      "cell_type": "code",
      "source": [
        "import pandas as pd\n",
        "\n",
        "models_result = pd.DataFrame([model0_results, model1_results, model2_results])\n",
        "models_result"
      ],
      "metadata": {
        "colab": {
          "base_uri": "https://localhost:8080/",
          "height": 143
        },
        "id": "jsl4jzM3pg7o",
        "outputId": "f0b75673-3f6a-4da7-b029-3b6eb96019ba"
      },
      "execution_count": null,
      "outputs": [
        {
          "output_type": "execute_result",
          "data": {
            "text/plain": [
              "            model_name  model_loss  model_acc\n",
              "0  FashionMNISTModelV0    0.474734  83.466454\n",
              "1  FashionMNISTModelV1    2.302107  10.752796\n",
              "2  FashionMNISTModelV2    0.351648  87.420128"
            ],
            "text/html": [
              "\n",
              "  <div id=\"df-b07dc67c-e4c7-4692-bcfc-0fe9b679d347\" class=\"colab-df-container\">\n",
              "    <div>\n",
              "<style scoped>\n",
              "    .dataframe tbody tr th:only-of-type {\n",
              "        vertical-align: middle;\n",
              "    }\n",
              "\n",
              "    .dataframe tbody tr th {\n",
              "        vertical-align: top;\n",
              "    }\n",
              "\n",
              "    .dataframe thead th {\n",
              "        text-align: right;\n",
              "    }\n",
              "</style>\n",
              "<table border=\"1\" class=\"dataframe\">\n",
              "  <thead>\n",
              "    <tr style=\"text-align: right;\">\n",
              "      <th></th>\n",
              "      <th>model_name</th>\n",
              "      <th>model_loss</th>\n",
              "      <th>model_acc</th>\n",
              "    </tr>\n",
              "  </thead>\n",
              "  <tbody>\n",
              "    <tr>\n",
              "      <th>0</th>\n",
              "      <td>FashionMNISTModelV0</td>\n",
              "      <td>0.474734</td>\n",
              "      <td>83.466454</td>\n",
              "    </tr>\n",
              "    <tr>\n",
              "      <th>1</th>\n",
              "      <td>FashionMNISTModelV1</td>\n",
              "      <td>2.302107</td>\n",
              "      <td>10.752796</td>\n",
              "    </tr>\n",
              "    <tr>\n",
              "      <th>2</th>\n",
              "      <td>FashionMNISTModelV2</td>\n",
              "      <td>0.351648</td>\n",
              "      <td>87.420128</td>\n",
              "    </tr>\n",
              "  </tbody>\n",
              "</table>\n",
              "</div>\n",
              "    <div class=\"colab-df-buttons\">\n",
              "\n",
              "  <div class=\"colab-df-container\">\n",
              "    <button class=\"colab-df-convert\" onclick=\"convertToInteractive('df-b07dc67c-e4c7-4692-bcfc-0fe9b679d347')\"\n",
              "            title=\"Convert this dataframe to an interactive table.\"\n",
              "            style=\"display:none;\">\n",
              "\n",
              "  <svg xmlns=\"http://www.w3.org/2000/svg\" height=\"24px\" viewBox=\"0 -960 960 960\">\n",
              "    <path d=\"M120-120v-720h720v720H120Zm60-500h600v-160H180v160Zm220 220h160v-160H400v160Zm0 220h160v-160H400v160ZM180-400h160v-160H180v160Zm440 0h160v-160H620v160ZM180-180h160v-160H180v160Zm440 0h160v-160H620v160Z\"/>\n",
              "  </svg>\n",
              "    </button>\n",
              "\n",
              "  <style>\n",
              "    .colab-df-container {\n",
              "      display:flex;\n",
              "      gap: 12px;\n",
              "    }\n",
              "\n",
              "    .colab-df-convert {\n",
              "      background-color: #E8F0FE;\n",
              "      border: none;\n",
              "      border-radius: 50%;\n",
              "      cursor: pointer;\n",
              "      display: none;\n",
              "      fill: #1967D2;\n",
              "      height: 32px;\n",
              "      padding: 0 0 0 0;\n",
              "      width: 32px;\n",
              "    }\n",
              "\n",
              "    .colab-df-convert:hover {\n",
              "      background-color: #E2EBFA;\n",
              "      box-shadow: 0px 1px 2px rgba(60, 64, 67, 0.3), 0px 1px 3px 1px rgba(60, 64, 67, 0.15);\n",
              "      fill: #174EA6;\n",
              "    }\n",
              "\n",
              "    .colab-df-buttons div {\n",
              "      margin-bottom: 4px;\n",
              "    }\n",
              "\n",
              "    [theme=dark] .colab-df-convert {\n",
              "      background-color: #3B4455;\n",
              "      fill: #D2E3FC;\n",
              "    }\n",
              "\n",
              "    [theme=dark] .colab-df-convert:hover {\n",
              "      background-color: #434B5C;\n",
              "      box-shadow: 0px 1px 3px 1px rgba(0, 0, 0, 0.15);\n",
              "      filter: drop-shadow(0px 1px 2px rgba(0, 0, 0, 0.3));\n",
              "      fill: #FFFFFF;\n",
              "    }\n",
              "  </style>\n",
              "\n",
              "    <script>\n",
              "      const buttonEl =\n",
              "        document.querySelector('#df-b07dc67c-e4c7-4692-bcfc-0fe9b679d347 button.colab-df-convert');\n",
              "      buttonEl.style.display =\n",
              "        google.colab.kernel.accessAllowed ? 'block' : 'none';\n",
              "\n",
              "      async function convertToInteractive(key) {\n",
              "        const element = document.querySelector('#df-b07dc67c-e4c7-4692-bcfc-0fe9b679d347');\n",
              "        const dataTable =\n",
              "          await google.colab.kernel.invokeFunction('convertToInteractive',\n",
              "                                                    [key], {});\n",
              "        if (!dataTable) return;\n",
              "\n",
              "        const docLinkHtml = 'Like what you see? Visit the ' +\n",
              "          '<a target=\"_blank\" href=https://colab.research.google.com/notebooks/data_table.ipynb>data table notebook</a>'\n",
              "          + ' to learn more about interactive tables.';\n",
              "        element.innerHTML = '';\n",
              "        dataTable['output_type'] = 'display_data';\n",
              "        await google.colab.output.renderOutput(dataTable, element);\n",
              "        const docLink = document.createElement('div');\n",
              "        docLink.innerHTML = docLinkHtml;\n",
              "        element.appendChild(docLink);\n",
              "      }\n",
              "    </script>\n",
              "  </div>\n",
              "\n",
              "\n",
              "<div id=\"df-f1f2cbc6-973d-4832-8952-62b87d0faf29\">\n",
              "  <button class=\"colab-df-quickchart\" onclick=\"quickchart('df-f1f2cbc6-973d-4832-8952-62b87d0faf29')\"\n",
              "            title=\"Suggest charts\"\n",
              "            style=\"display:none;\">\n",
              "\n",
              "<svg xmlns=\"http://www.w3.org/2000/svg\" height=\"24px\"viewBox=\"0 0 24 24\"\n",
              "     width=\"24px\">\n",
              "    <g>\n",
              "        <path d=\"M19 3H5c-1.1 0-2 .9-2 2v14c0 1.1.9 2 2 2h14c1.1 0 2-.9 2-2V5c0-1.1-.9-2-2-2zM9 17H7v-7h2v7zm4 0h-2V7h2v10zm4 0h-2v-4h2v4z\"/>\n",
              "    </g>\n",
              "</svg>\n",
              "  </button>\n",
              "\n",
              "<style>\n",
              "  .colab-df-quickchart {\n",
              "      --bg-color: #E8F0FE;\n",
              "      --fill-color: #1967D2;\n",
              "      --hover-bg-color: #E2EBFA;\n",
              "      --hover-fill-color: #174EA6;\n",
              "      --disabled-fill-color: #AAA;\n",
              "      --disabled-bg-color: #DDD;\n",
              "  }\n",
              "\n",
              "  [theme=dark] .colab-df-quickchart {\n",
              "      --bg-color: #3B4455;\n",
              "      --fill-color: #D2E3FC;\n",
              "      --hover-bg-color: #434B5C;\n",
              "      --hover-fill-color: #FFFFFF;\n",
              "      --disabled-bg-color: #3B4455;\n",
              "      --disabled-fill-color: #666;\n",
              "  }\n",
              "\n",
              "  .colab-df-quickchart {\n",
              "    background-color: var(--bg-color);\n",
              "    border: none;\n",
              "    border-radius: 50%;\n",
              "    cursor: pointer;\n",
              "    display: none;\n",
              "    fill: var(--fill-color);\n",
              "    height: 32px;\n",
              "    padding: 0;\n",
              "    width: 32px;\n",
              "  }\n",
              "\n",
              "  .colab-df-quickchart:hover {\n",
              "    background-color: var(--hover-bg-color);\n",
              "    box-shadow: 0 1px 2px rgba(60, 64, 67, 0.3), 0 1px 3px 1px rgba(60, 64, 67, 0.15);\n",
              "    fill: var(--button-hover-fill-color);\n",
              "  }\n",
              "\n",
              "  .colab-df-quickchart-complete:disabled,\n",
              "  .colab-df-quickchart-complete:disabled:hover {\n",
              "    background-color: var(--disabled-bg-color);\n",
              "    fill: var(--disabled-fill-color);\n",
              "    box-shadow: none;\n",
              "  }\n",
              "\n",
              "  .colab-df-spinner {\n",
              "    border: 2px solid var(--fill-color);\n",
              "    border-color: transparent;\n",
              "    border-bottom-color: var(--fill-color);\n",
              "    animation:\n",
              "      spin 1s steps(1) infinite;\n",
              "  }\n",
              "\n",
              "  @keyframes spin {\n",
              "    0% {\n",
              "      border-color: transparent;\n",
              "      border-bottom-color: var(--fill-color);\n",
              "      border-left-color: var(--fill-color);\n",
              "    }\n",
              "    20% {\n",
              "      border-color: transparent;\n",
              "      border-left-color: var(--fill-color);\n",
              "      border-top-color: var(--fill-color);\n",
              "    }\n",
              "    30% {\n",
              "      border-color: transparent;\n",
              "      border-left-color: var(--fill-color);\n",
              "      border-top-color: var(--fill-color);\n",
              "      border-right-color: var(--fill-color);\n",
              "    }\n",
              "    40% {\n",
              "      border-color: transparent;\n",
              "      border-right-color: var(--fill-color);\n",
              "      border-top-color: var(--fill-color);\n",
              "    }\n",
              "    60% {\n",
              "      border-color: transparent;\n",
              "      border-right-color: var(--fill-color);\n",
              "    }\n",
              "    80% {\n",
              "      border-color: transparent;\n",
              "      border-right-color: var(--fill-color);\n",
              "      border-bottom-color: var(--fill-color);\n",
              "    }\n",
              "    90% {\n",
              "      border-color: transparent;\n",
              "      border-bottom-color: var(--fill-color);\n",
              "    }\n",
              "  }\n",
              "</style>\n",
              "\n",
              "  <script>\n",
              "    async function quickchart(key) {\n",
              "      const quickchartButtonEl =\n",
              "        document.querySelector('#' + key + ' button');\n",
              "      quickchartButtonEl.disabled = true;  // To prevent multiple clicks.\n",
              "      quickchartButtonEl.classList.add('colab-df-spinner');\n",
              "      try {\n",
              "        const charts = await google.colab.kernel.invokeFunction(\n",
              "            'suggestCharts', [key], {});\n",
              "      } catch (error) {\n",
              "        console.error('Error during call to suggestCharts:', error);\n",
              "      }\n",
              "      quickchartButtonEl.classList.remove('colab-df-spinner');\n",
              "      quickchartButtonEl.classList.add('colab-df-quickchart-complete');\n",
              "    }\n",
              "    (() => {\n",
              "      let quickchartButtonEl =\n",
              "        document.querySelector('#df-f1f2cbc6-973d-4832-8952-62b87d0faf29 button');\n",
              "      quickchartButtonEl.style.display =\n",
              "        google.colab.kernel.accessAllowed ? 'block' : 'none';\n",
              "    })();\n",
              "  </script>\n",
              "</div>\n",
              "    </div>\n",
              "  </div>\n"
            ],
            "application/vnd.google.colaboratory.intrinsic+json": {
              "type": "dataframe",
              "variable_name": "models_result",
              "summary": "{\n  \"name\": \"models_result\",\n  \"rows\": 3,\n  \"fields\": [\n    {\n      \"column\": \"model_name\",\n      \"properties\": {\n        \"dtype\": \"string\",\n        \"num_unique_values\": 3,\n        \"samples\": [\n          \"FashionMNISTModelV0\",\n          \"FashionMNISTModelV1\",\n          \"FashionMNISTModelV2\"\n        ],\n        \"semantic_type\": \"\",\n        \"description\": \"\"\n      }\n    },\n    {\n      \"column\": \"model_loss\",\n      \"properties\": {\n        \"dtype\": \"number\",\n        \"std\": 1.0923010163144724,\n        \"min\": 0.35164833068847656,\n        \"max\": 2.3021068572998047,\n        \"num_unique_values\": 3,\n        \"samples\": [\n          0.4747343063354492,\n          2.3021068572998047,\n          0.35164833068847656\n        ],\n        \"semantic_type\": \"\",\n        \"description\": \"\"\n      }\n    },\n    {\n      \"column\": \"model_acc\",\n      \"properties\": {\n        \"dtype\": \"number\",\n        \"std\": 43.16786508758702,\n        \"min\": 10.75279552715655,\n        \"max\": 87.42012779552715,\n        \"num_unique_values\": 3,\n        \"samples\": [\n          83.46645367412141,\n          10.75279552715655,\n          87.42012779552715\n        ],\n        \"semantic_type\": \"\",\n        \"description\": \"\"\n      }\n    }\n  ]\n}"
            }
          },
          "metadata": {},
          "execution_count": 55
        }
      ]
    },
    {
      "cell_type": "code",
      "source": [
        "#add training_time:\n",
        "models_result['training_time'] = [total_train_time0, total_train_time1, total_train_time2]\n",
        "models_result"
      ],
      "metadata": {
        "colab": {
          "base_uri": "https://localhost:8080/",
          "height": 143
        },
        "id": "sHuXpGnPqnH2",
        "outputId": "d4f9e5a6-38bb-4633-b20a-5e4afb28292c"
      },
      "execution_count": null,
      "outputs": [
        {
          "output_type": "execute_result",
          "data": {
            "text/plain": [
              "            model_name  model_loss  model_acc  training_time\n",
              "0  FashionMNISTModelV0    0.474734  83.466454      28.137308\n",
              "1  FashionMNISTModelV1    2.302107  10.752796      30.337690\n",
              "2  FashionMNISTModelV2    0.351648  87.420128      35.055089"
            ],
            "text/html": [
              "\n",
              "  <div id=\"df-e1fe429b-79a5-4581-8722-1736343715d1\" class=\"colab-df-container\">\n",
              "    <div>\n",
              "<style scoped>\n",
              "    .dataframe tbody tr th:only-of-type {\n",
              "        vertical-align: middle;\n",
              "    }\n",
              "\n",
              "    .dataframe tbody tr th {\n",
              "        vertical-align: top;\n",
              "    }\n",
              "\n",
              "    .dataframe thead th {\n",
              "        text-align: right;\n",
              "    }\n",
              "</style>\n",
              "<table border=\"1\" class=\"dataframe\">\n",
              "  <thead>\n",
              "    <tr style=\"text-align: right;\">\n",
              "      <th></th>\n",
              "      <th>model_name</th>\n",
              "      <th>model_loss</th>\n",
              "      <th>model_acc</th>\n",
              "      <th>training_time</th>\n",
              "    </tr>\n",
              "  </thead>\n",
              "  <tbody>\n",
              "    <tr>\n",
              "      <th>0</th>\n",
              "      <td>FashionMNISTModelV0</td>\n",
              "      <td>0.474734</td>\n",
              "      <td>83.466454</td>\n",
              "      <td>28.137308</td>\n",
              "    </tr>\n",
              "    <tr>\n",
              "      <th>1</th>\n",
              "      <td>FashionMNISTModelV1</td>\n",
              "      <td>2.302107</td>\n",
              "      <td>10.752796</td>\n",
              "      <td>30.337690</td>\n",
              "    </tr>\n",
              "    <tr>\n",
              "      <th>2</th>\n",
              "      <td>FashionMNISTModelV2</td>\n",
              "      <td>0.351648</td>\n",
              "      <td>87.420128</td>\n",
              "      <td>35.055089</td>\n",
              "    </tr>\n",
              "  </tbody>\n",
              "</table>\n",
              "</div>\n",
              "    <div class=\"colab-df-buttons\">\n",
              "\n",
              "  <div class=\"colab-df-container\">\n",
              "    <button class=\"colab-df-convert\" onclick=\"convertToInteractive('df-e1fe429b-79a5-4581-8722-1736343715d1')\"\n",
              "            title=\"Convert this dataframe to an interactive table.\"\n",
              "            style=\"display:none;\">\n",
              "\n",
              "  <svg xmlns=\"http://www.w3.org/2000/svg\" height=\"24px\" viewBox=\"0 -960 960 960\">\n",
              "    <path d=\"M120-120v-720h720v720H120Zm60-500h600v-160H180v160Zm220 220h160v-160H400v160Zm0 220h160v-160H400v160ZM180-400h160v-160H180v160Zm440 0h160v-160H620v160ZM180-180h160v-160H180v160Zm440 0h160v-160H620v160Z\"/>\n",
              "  </svg>\n",
              "    </button>\n",
              "\n",
              "  <style>\n",
              "    .colab-df-container {\n",
              "      display:flex;\n",
              "      gap: 12px;\n",
              "    }\n",
              "\n",
              "    .colab-df-convert {\n",
              "      background-color: #E8F0FE;\n",
              "      border: none;\n",
              "      border-radius: 50%;\n",
              "      cursor: pointer;\n",
              "      display: none;\n",
              "      fill: #1967D2;\n",
              "      height: 32px;\n",
              "      padding: 0 0 0 0;\n",
              "      width: 32px;\n",
              "    }\n",
              "\n",
              "    .colab-df-convert:hover {\n",
              "      background-color: #E2EBFA;\n",
              "      box-shadow: 0px 1px 2px rgba(60, 64, 67, 0.3), 0px 1px 3px 1px rgba(60, 64, 67, 0.15);\n",
              "      fill: #174EA6;\n",
              "    }\n",
              "\n",
              "    .colab-df-buttons div {\n",
              "      margin-bottom: 4px;\n",
              "    }\n",
              "\n",
              "    [theme=dark] .colab-df-convert {\n",
              "      background-color: #3B4455;\n",
              "      fill: #D2E3FC;\n",
              "    }\n",
              "\n",
              "    [theme=dark] .colab-df-convert:hover {\n",
              "      background-color: #434B5C;\n",
              "      box-shadow: 0px 1px 3px 1px rgba(0, 0, 0, 0.15);\n",
              "      filter: drop-shadow(0px 1px 2px rgba(0, 0, 0, 0.3));\n",
              "      fill: #FFFFFF;\n",
              "    }\n",
              "  </style>\n",
              "\n",
              "    <script>\n",
              "      const buttonEl =\n",
              "        document.querySelector('#df-e1fe429b-79a5-4581-8722-1736343715d1 button.colab-df-convert');\n",
              "      buttonEl.style.display =\n",
              "        google.colab.kernel.accessAllowed ? 'block' : 'none';\n",
              "\n",
              "      async function convertToInteractive(key) {\n",
              "        const element = document.querySelector('#df-e1fe429b-79a5-4581-8722-1736343715d1');\n",
              "        const dataTable =\n",
              "          await google.colab.kernel.invokeFunction('convertToInteractive',\n",
              "                                                    [key], {});\n",
              "        if (!dataTable) return;\n",
              "\n",
              "        const docLinkHtml = 'Like what you see? Visit the ' +\n",
              "          '<a target=\"_blank\" href=https://colab.research.google.com/notebooks/data_table.ipynb>data table notebook</a>'\n",
              "          + ' to learn more about interactive tables.';\n",
              "        element.innerHTML = '';\n",
              "        dataTable['output_type'] = 'display_data';\n",
              "        await google.colab.output.renderOutput(dataTable, element);\n",
              "        const docLink = document.createElement('div');\n",
              "        docLink.innerHTML = docLinkHtml;\n",
              "        element.appendChild(docLink);\n",
              "      }\n",
              "    </script>\n",
              "  </div>\n",
              "\n",
              "\n",
              "<div id=\"df-dce72e8d-8133-4027-9b88-0a035aef9251\">\n",
              "  <button class=\"colab-df-quickchart\" onclick=\"quickchart('df-dce72e8d-8133-4027-9b88-0a035aef9251')\"\n",
              "            title=\"Suggest charts\"\n",
              "            style=\"display:none;\">\n",
              "\n",
              "<svg xmlns=\"http://www.w3.org/2000/svg\" height=\"24px\"viewBox=\"0 0 24 24\"\n",
              "     width=\"24px\">\n",
              "    <g>\n",
              "        <path d=\"M19 3H5c-1.1 0-2 .9-2 2v14c0 1.1.9 2 2 2h14c1.1 0 2-.9 2-2V5c0-1.1-.9-2-2-2zM9 17H7v-7h2v7zm4 0h-2V7h2v10zm4 0h-2v-4h2v4z\"/>\n",
              "    </g>\n",
              "</svg>\n",
              "  </button>\n",
              "\n",
              "<style>\n",
              "  .colab-df-quickchart {\n",
              "      --bg-color: #E8F0FE;\n",
              "      --fill-color: #1967D2;\n",
              "      --hover-bg-color: #E2EBFA;\n",
              "      --hover-fill-color: #174EA6;\n",
              "      --disabled-fill-color: #AAA;\n",
              "      --disabled-bg-color: #DDD;\n",
              "  }\n",
              "\n",
              "  [theme=dark] .colab-df-quickchart {\n",
              "      --bg-color: #3B4455;\n",
              "      --fill-color: #D2E3FC;\n",
              "      --hover-bg-color: #434B5C;\n",
              "      --hover-fill-color: #FFFFFF;\n",
              "      --disabled-bg-color: #3B4455;\n",
              "      --disabled-fill-color: #666;\n",
              "  }\n",
              "\n",
              "  .colab-df-quickchart {\n",
              "    background-color: var(--bg-color);\n",
              "    border: none;\n",
              "    border-radius: 50%;\n",
              "    cursor: pointer;\n",
              "    display: none;\n",
              "    fill: var(--fill-color);\n",
              "    height: 32px;\n",
              "    padding: 0;\n",
              "    width: 32px;\n",
              "  }\n",
              "\n",
              "  .colab-df-quickchart:hover {\n",
              "    background-color: var(--hover-bg-color);\n",
              "    box-shadow: 0 1px 2px rgba(60, 64, 67, 0.3), 0 1px 3px 1px rgba(60, 64, 67, 0.15);\n",
              "    fill: var(--button-hover-fill-color);\n",
              "  }\n",
              "\n",
              "  .colab-df-quickchart-complete:disabled,\n",
              "  .colab-df-quickchart-complete:disabled:hover {\n",
              "    background-color: var(--disabled-bg-color);\n",
              "    fill: var(--disabled-fill-color);\n",
              "    box-shadow: none;\n",
              "  }\n",
              "\n",
              "  .colab-df-spinner {\n",
              "    border: 2px solid var(--fill-color);\n",
              "    border-color: transparent;\n",
              "    border-bottom-color: var(--fill-color);\n",
              "    animation:\n",
              "      spin 1s steps(1) infinite;\n",
              "  }\n",
              "\n",
              "  @keyframes spin {\n",
              "    0% {\n",
              "      border-color: transparent;\n",
              "      border-bottom-color: var(--fill-color);\n",
              "      border-left-color: var(--fill-color);\n",
              "    }\n",
              "    20% {\n",
              "      border-color: transparent;\n",
              "      border-left-color: var(--fill-color);\n",
              "      border-top-color: var(--fill-color);\n",
              "    }\n",
              "    30% {\n",
              "      border-color: transparent;\n",
              "      border-left-color: var(--fill-color);\n",
              "      border-top-color: var(--fill-color);\n",
              "      border-right-color: var(--fill-color);\n",
              "    }\n",
              "    40% {\n",
              "      border-color: transparent;\n",
              "      border-right-color: var(--fill-color);\n",
              "      border-top-color: var(--fill-color);\n",
              "    }\n",
              "    60% {\n",
              "      border-color: transparent;\n",
              "      border-right-color: var(--fill-color);\n",
              "    }\n",
              "    80% {\n",
              "      border-color: transparent;\n",
              "      border-right-color: var(--fill-color);\n",
              "      border-bottom-color: var(--fill-color);\n",
              "    }\n",
              "    90% {\n",
              "      border-color: transparent;\n",
              "      border-bottom-color: var(--fill-color);\n",
              "    }\n",
              "  }\n",
              "</style>\n",
              "\n",
              "  <script>\n",
              "    async function quickchart(key) {\n",
              "      const quickchartButtonEl =\n",
              "        document.querySelector('#' + key + ' button');\n",
              "      quickchartButtonEl.disabled = true;  // To prevent multiple clicks.\n",
              "      quickchartButtonEl.classList.add('colab-df-spinner');\n",
              "      try {\n",
              "        const charts = await google.colab.kernel.invokeFunction(\n",
              "            'suggestCharts', [key], {});\n",
              "      } catch (error) {\n",
              "        console.error('Error during call to suggestCharts:', error);\n",
              "      }\n",
              "      quickchartButtonEl.classList.remove('colab-df-spinner');\n",
              "      quickchartButtonEl.classList.add('colab-df-quickchart-complete');\n",
              "    }\n",
              "    (() => {\n",
              "      let quickchartButtonEl =\n",
              "        document.querySelector('#df-dce72e8d-8133-4027-9b88-0a035aef9251 button');\n",
              "      quickchartButtonEl.style.display =\n",
              "        google.colab.kernel.accessAllowed ? 'block' : 'none';\n",
              "    })();\n",
              "  </script>\n",
              "</div>\n",
              "    </div>\n",
              "  </div>\n"
            ],
            "application/vnd.google.colaboratory.intrinsic+json": {
              "type": "dataframe",
              "variable_name": "models_result",
              "summary": "{\n  \"name\": \"models_result\",\n  \"rows\": 3,\n  \"fields\": [\n    {\n      \"column\": \"model_name\",\n      \"properties\": {\n        \"dtype\": \"string\",\n        \"num_unique_values\": 3,\n        \"samples\": [\n          \"FashionMNISTModelV0\",\n          \"FashionMNISTModelV1\",\n          \"FashionMNISTModelV2\"\n        ],\n        \"semantic_type\": \"\",\n        \"description\": \"\"\n      }\n    },\n    {\n      \"column\": \"model_loss\",\n      \"properties\": {\n        \"dtype\": \"number\",\n        \"std\": 1.0923010163144724,\n        \"min\": 0.35164833068847656,\n        \"max\": 2.3021068572998047,\n        \"num_unique_values\": 3,\n        \"samples\": [\n          0.4747343063354492,\n          2.3021068572998047,\n          0.35164833068847656\n        ],\n        \"semantic_type\": \"\",\n        \"description\": \"\"\n      }\n    },\n    {\n      \"column\": \"model_acc\",\n      \"properties\": {\n        \"dtype\": \"number\",\n        \"std\": 43.16786508758702,\n        \"min\": 10.75279552715655,\n        \"max\": 87.42012779552715,\n        \"num_unique_values\": 3,\n        \"samples\": [\n          83.46645367412141,\n          10.75279552715655,\n          87.42012779552715\n        ],\n        \"semantic_type\": \"\",\n        \"description\": \"\"\n      }\n    },\n    {\n      \"column\": \"training_time\",\n      \"properties\": {\n        \"dtype\": \"number\",\n        \"std\": 3.5343840849235852,\n        \"min\": 28.137308288999975,\n        \"max\": 35.05508908799999,\n        \"num_unique_values\": 3,\n        \"samples\": [\n          28.137308288999975,\n          30.337689971000003,\n          35.05508908799999\n        ],\n        \"semantic_type\": \"\",\n        \"description\": \"\"\n      }\n    }\n  ]\n}"
            }
          },
          "metadata": {},
          "execution_count": 56
        }
      ]
    },
    {
      "cell_type": "code",
      "source": [],
      "metadata": {
        "id": "EKzCSUfJ74VU"
      },
      "execution_count": null,
      "outputs": []
    },
    {
      "cell_type": "code",
      "source": [
        "models_result.set_index('model_name')[\"model_acc\"].plot(kind = \"barh\")\n",
        "plt.xlabel('accuracy %')\n",
        "plt.ylabel('model_name')"
      ],
      "metadata": {
        "colab": {
          "base_uri": "https://localhost:8080/",
          "height": 467
        },
        "id": "xyzfHABorVGi",
        "outputId": "76a3b2a0-5bdf-4d0a-9181-080d44858161"
      },
      "execution_count": null,
      "outputs": [
        {
          "output_type": "execute_result",
          "data": {
            "text/plain": [
              "Text(0, 0.5, 'model_name')"
            ]
          },
          "metadata": {},
          "execution_count": 57
        },
        {
          "output_type": "display_data",
          "data": {
            "text/plain": [
              "<Figure size 640x480 with 1 Axes>"
            ],
            "image/png": "[encoded data removed]"
          },
          "metadata": {}
        }
      ]
    },
    {
      "cell_type": "code",
      "source": [
        "#make predictions with random data:"
      ],
      "metadata": {
        "id": "1sC-zBP1wFwb"
      },
      "execution_count": null,
      "outputs": []
    },
    {
      "cell_type": "code",
      "source": [
        "def make_predictions(model :torch.nn.Module,\n",
        "                     data : list,\n",
        "                     device : torch.device = device):\n",
        "\n",
        "\n",
        "  pred_probs = []\n",
        "  model.to(device)\n",
        "  model.eval()\n",
        "  with torch.inference_mode():\n",
        "    for sample in data:\n",
        "      sample = torch.unsqueeze(sample, dim = 0).to(device) #unsqueeze\n",
        "\n",
        "      #forward pass (models output are going to be logits):\n",
        "      pred_logit = model(sample)\n",
        "\n",
        "      #get prediction:\n",
        "      pred_prob = torch.softmax(pred_logit.squeeze(),dim = 0)\n",
        "\n",
        "      pred_probs.append(pred_prob.cpu())\n",
        "\n",
        "    return torch.stack(pred_probs)"
      ],
      "metadata": {
        "id": "edoNyc2NxVcZ"
      },
      "execution_count": null,
      "outputs": []
    },
    {
      "cell_type": "code",
      "source": [
        "import random\n",
        "random.seed(42)\n",
        "test_sample = []\n",
        "test_label = []\n",
        "\n",
        "\n",
        "for sample, label in random.sample(list(testing_data), k = 9):\n",
        "  test_sample.append(sample)\n",
        "  test_label.append(label)\n"
      ],
      "metadata": {
        "id": "t9aMJumrze0z"
      },
      "execution_count": null,
      "outputs": []
    },
    {
      "cell_type": "code",
      "source": [
        "pred_probs = make_predictions(model = model2, data = test_sample)\n",
        "\n",
        "pred_probs[:1]"
      ],
      "metadata": {
        "colab": {
          "base_uri": "https://localhost:8080/"
        },
        "id": "hWBlnmhD2Tjs",
        "outputId": "ab3121e1-97f4-4a05-cfc2-79037b97a2af"
      },
      "execution_count": null,
      "outputs": [
        {
          "output_type": "execute_result",
          "data": {
            "text/plain": [
              "tensor([[3.9403e-06, 1.1056e-07, 2.1602e-07, 1.2783e-06, 6.5212e-09, 9.9944e-01,\n",
              "         1.4696e-05, 2.3294e-06, 7.5377e-05, 4.6145e-04]])"
            ]
          },
          "metadata": {},
          "execution_count": 61
        }
      ]
    },
    {
      "cell_type": "code",
      "source": [
        "pred_classes = pred_probs.argmax(dim =1)\n",
        "pred_classes"
      ],
      "metadata": {
        "colab": {
          "base_uri": "https://localhost:8080/"
        },
        "id": "8lY4pnwq2c_v",
        "outputId": "a3ecfcf7-5875-4652-fc8a-eb31a3a2e33e"
      },
      "execution_count": null,
      "outputs": [
        {
          "output_type": "execute_result",
          "data": {
            "text/plain": [
              "tensor([5, 1, 7, 4, 3, 0, 4, 7, 1])"
            ]
          },
          "metadata": {},
          "execution_count": 62
        }
      ]
    },
    {
      "cell_type": "code",
      "source": [
        "len(test_sample)"
      ],
      "metadata": {
        "colab": {
          "base_uri": "https://localhost:8080/"
        },
        "id": "obPinsW66C7P",
        "outputId": "5543be62-2b39-4c57-99ed-792fc15c18c8"
      },
      "execution_count": null,
      "outputs": [
        {
          "output_type": "execute_result",
          "data": {
            "text/plain": [
              "9"
            ]
          },
          "metadata": {},
          "execution_count": 63
        }
      ]
    },
    {
      "cell_type": "code",
      "source": [
        "plt.figure(figsize = (9,9))\n",
        "nrows, ncols = 3, 3\n",
        "for i, sample in enumerate(test_sample):\n",
        "  plt.subplot(nrows, ncols, i+1)\n",
        "  plt.imshow(sample.squeeze(), cmap = 'gray')\n",
        "  plt.axis(False)\n",
        "\n",
        "\n",
        "  pred_label = class_names[pred_classes[i]]\n",
        "\n",
        "  truth_label = class_names[test_label[i]]\n",
        "\n",
        "  title_text = f\"Pred: {pred_label} | actual: {truth_label}\"\n",
        "\n",
        "  if pred_label == truth_label:\n",
        "    plt.title(title_text, fontsize = 10, c = 'g')\n",
        "  else:\n",
        "    plt.title(title_text, fontsize = 10, c = 'r')\n"
      ],
      "metadata": {
        "colab": {
          "base_uri": "https://localhost:8080/",
          "height": 749
        },
        "id": "6K-Ilq0k4xc3",
        "outputId": "56bd0e08-6a79-49f0-eb41-b23fc98cacf2"
      },
      "execution_count": null,
      "outputs": [
        {
          "output_type": "display_data",
          "data": {
            "text/plain": [
              "<Figure size 900x900 with 9 Axes>"
            ],
            "image/png": "[encoded data removed]"
          },
          "metadata": {}
        }
      ]
    },
    {
      "cell_type": "code",
      "source": [
        "y_preds = []\n",
        "model2.eval()\n",
        "with torch.inference_mode():\n",
        "  for X, y in tqdm(test_data_loader, desc=\"Making predictions\"):\n",
        "    X, y = X.to(device), y.to(device)\n",
        "    y_logit = model2(X)\n",
        "    y_pred = y_logit.argmax(dim = 1)\n",
        "    y_preds.append(y_pred)\n",
        "\n",
        "\n",
        "y_pred_tensor = torch.cat(y_preds).to(device)\n",
        "y_pred_tensor[:10]\n",
        "print(len(y))"
      ],
      "metadata": {
        "colab": {
          "base_uri": "https://localhost:8080/",
          "height": 67,
          "referenced_widgets": [
            "04af051353754b60a52027b7908b6aaa",
            "97d7edf8ed9048f29286ed0f1a254b5d",
            "2e851ab54a9a4349bb3d8086ef3e8120",
            "c80b399b25564b89b3c556b28830e022",
            "360a5b59d2c04662b5ad4f0d98535df1",
            "867780f6ad8b4cfea8a578d07bb0298d",
            "0d2497d6a92c47688c7785914b2016c9",
            "0034df2d9b1341b3ad420011afd96b27",
            "70327b1b655d4bf88122b08e0dc90e95",
            "c35c010adf4c40dbb434a58ee140b051",
            "a9c34a7a622845ada9d31497c1b54ce0"
          ]
        },
        "id": "sRExTYUu76Zo",
        "outputId": "20031368-01f4-40de-bfda-053b4df2f97b"
      },
      "execution_count": null,
      "outputs": [
        {
          "output_type": "display_data",
          "data": {
            "text/plain": [
              "Making predictions:   0%|          | 0/313 [00:00<?, ?it/s]"
            ],
            "application/vnd.jupyter.widget-view+json": {
              "version_major": 2,
              "version_minor": 0,
              "model_id": "04af051353754b60a52027b7908b6aaa"
            }
          },
          "metadata": {}
        },
        {
          "output_type": "stream",
          "name": "stdout",
          "text": [
            "16\n"
          ]
        }
      ]
    },
    {
      "cell_type": "code",
      "source": [
        "try:\n",
        "    import torchmetrics, mlxtend\n",
        "    print(f\"mlxtend version: {mlxtend.__version__}\")\n",
        "    assert int(mlxtend.__version__.split(\".\")[1]) >= 19, \"mlxtend verison should be 0.19.0 or higher\"\n",
        "except:\n",
        "    !pip install -q torchmetrics -U mlxtend # <- Note: If you're using Google Colab, this may require restarting the runtime\n",
        "    import torchmetrics, mlxtend\n",
        "    print(f\"mlxtend version: {mlxtend.__version__}\")"
      ],
      "metadata": {
        "colab": {
          "base_uri": "https://localhost:8080/"
        },
        "id": "Oq03gQ5-Cokl",
        "outputId": "7d26e06b-7408-4d18-99b7-eb71f05554cc"
      },
      "execution_count": null,
      "outputs": [
        {
          "output_type": "stream",
          "name": "stdout",
          "text": [
            "\u001b[2K     \u001b[90m━━━━━━━━━━━━━━━━━━━━━━━━━━━━━━━━━━━━━━━━\u001b[0m \u001b[32m868.8/868.8 kB\u001b[0m \u001b[31m18.0 MB/s\u001b[0m eta \u001b[36m0:00:00\u001b[0m\n",
            "\u001b[2K     \u001b[90m━━━━━━━━━━━━━━━━━━━━━━━━━━━━━━━━━━━━━━━━\u001b[0m \u001b[32m1.4/1.4 MB\u001b[0m \u001b[31m54.8 MB/s\u001b[0m eta \u001b[36m0:00:00\u001b[0m\n",
            "\u001b[2K     \u001b[90m━━━━━━━━━━━━━━━━━━━━━━━━━━━━━━━━━━━━━━━━\u001b[0m \u001b[32m21.3/21.3 MB\u001b[0m \u001b[31m57.3 MB/s\u001b[0m eta \u001b[36m0:00:00\u001b[0m\n",
            "\u001b[?25hmlxtend version: 0.23.1\n"
          ]
        }
      ]
    },
    {
      "cell_type": "code",
      "source": [
        "import mlxtend\n",
        "print(mlxtend.__version__)\n",
        "assert int(mlxtend.__version__.split(\".\")[1]) >= 19"
      ],
      "metadata": {
        "colab": {
          "base_uri": "https://localhost:8080/"
        },
        "id": "UYcSQz5MCpxx",
        "outputId": "8e85d079-f0ac-4b68-bd69-cb2d78efdef4"
      },
      "execution_count": null,
      "outputs": [
        {
          "output_type": "stream",
          "name": "stdout",
          "text": [
            "0.23.1\n"
          ]
        }
      ]
    },
    {
      "cell_type": "code",
      "source": [
        "from torchmetrics import ConfusionMatrix\n",
        "from mlxtend.plotting import plot_confusion_matrix\n"
      ],
      "metadata": {
        "id": "C_TQwGF8Cw5j"
      },
      "execution_count": null,
      "outputs": []
    },
    {
      "cell_type": "code",
      "source": [
        "conf_mat = ConfusionMatrix(num_classes= len(class_names), task = 'multiclass')\n",
        "conf_mat_tensor = conf_mat(preds = y_pred_tensor, target = testing_data.targets.to(device))"
      ],
      "metadata": {
        "colab": {
          "base_uri": "https://localhost:8080/",
          "height": 454
        },
        "id": "RpZ_kCMfKGf1",
        "outputId": "68be365a-582a-4337-89b2-270317fb3ffa"
      },
      "execution_count": null,
      "outputs": [
        {
          "output_type": "error",
          "ename": "RuntimeError",
          "evalue": "Encountered different devices in metric calculation (see stacktrace for details). This could be due to the metric class not being on the same device as input. Instead of `metric=MulticlassConfusionMatrix(...)` try to do `metric=MulticlassConfusionMatrix(...).to(device)` where device corresponds to the device of the input.",
          "traceback": [
            "\u001b[0;31m---------------------------------------------------------------------------\u001b[0m",
            "\u001b[0;31mRuntimeError\u001b[0m                              Traceback (most recent call last)",
            "\u001b[0;32m/usr/local/lib/python3.10/dist-packages/torchmetrics/metric.py\u001b[0m in \u001b[0;36mwrapped_func\u001b[0;34m(*args, **kwargs)\u001b[0m\n\u001b[1;32m    481\u001b[0m                 \u001b[0;32mtry\u001b[0m\u001b[0;34m:\u001b[0m\u001b[0;34m\u001b[0m\u001b[0;34m\u001b[0m\u001b[0m\n\u001b[0;32m--> 482\u001b[0;31m                     \u001b[0mupdate\u001b[0m\u001b[0;34m(\u001b[0m\u001b[0;34m*\u001b[0m\u001b[0margs\u001b[0m\u001b[0;34m,\u001b[0m \u001b[0;34m**\u001b[0m\u001b[0mkwargs\u001b[0m\u001b[0;34m)\u001b[0m\u001b[0;34m\u001b[0m\u001b[0;34m\u001b[0m\u001b[0m\n\u001b[0m\u001b[1;32m    483\u001b[0m                 \u001b[0;32mexcept\u001b[0m \u001b[0mRuntimeError\u001b[0m \u001b[0;32mas\u001b[0m \u001b[0merr\u001b[0m\u001b[0;34m:\u001b[0m\u001b[0;34m\u001b[0m\u001b[0;34m\u001b[0m\u001b[0m\n",
            "\u001b[0;32m/usr/local/lib/python3.10/dist-packages/torchmetrics/classification/confusion_matrix.py\u001b[0m in \u001b[0;36mupdate\u001b[0;34m(self, preds, target)\u001b[0m\n\u001b[1;32m    285\u001b[0m         \u001b[0mconfmat\u001b[0m \u001b[0;34m=\u001b[0m \u001b[0m_multiclass_confusion_matrix_update\u001b[0m\u001b[0;34m(\u001b[0m\u001b[0mpreds\u001b[0m\u001b[0;34m,\u001b[0m \u001b[0mtarget\u001b[0m\u001b[0;34m,\u001b[0m \u001b[0mself\u001b[0m\u001b[0;34m.\u001b[0m\u001b[0mnum_classes\u001b[0m\u001b[0;34m)\u001b[0m\u001b[0;34m\u001b[0m\u001b[0;34m\u001b[0m\u001b[0m\n\u001b[0;32m--> 286\u001b[0;31m         \u001b[0mself\u001b[0m\u001b[0;34m.\u001b[0m\u001b[0mconfmat\u001b[0m \u001b[0;34m+=\u001b[0m \u001b[0mconfmat\u001b[0m\u001b[0;34m\u001b[0m\u001b[0;34m\u001b[0m\u001b[0m\n\u001b[0m\u001b[1;32m    287\u001b[0m \u001b[0;34m\u001b[0m\u001b[0m\n",
            "\u001b[0;31mRuntimeError\u001b[0m: Expected all tensors to be on the same device, but found at least two devices, cuda:0 and cpu!",
            "\nThe above exception was the direct cause of the following exception:\n",
            "\u001b[0;31mRuntimeError\u001b[0m                              Traceback (most recent call last)",
            "\u001b[0;32m<ipython-input-69-c4645ff12dfe>\u001b[0m in \u001b[0;36m<cell line: 2>\u001b[0;34m()\u001b[0m\n\u001b[1;32m      1\u001b[0m \u001b[0mconf_mat\u001b[0m \u001b[0;34m=\u001b[0m \u001b[0mConfusionMatrix\u001b[0m\u001b[0;34m(\u001b[0m\u001b[0mnum_classes\u001b[0m\u001b[0;34m=\u001b[0m \u001b[0mlen\u001b[0m\u001b[0;34m(\u001b[0m\u001b[0mclass_names\u001b[0m\u001b[0;34m)\u001b[0m\u001b[0;34m,\u001b[0m \u001b[0mtask\u001b[0m \u001b[0;34m=\u001b[0m \u001b[0;34m'multiclass'\u001b[0m\u001b[0;34m)\u001b[0m\u001b[0;34m\u001b[0m\u001b[0;34m\u001b[0m\u001b[0m\n\u001b[0;32m----> 2\u001b[0;31m \u001b[0mconf_mat_tensor\u001b[0m \u001b[0;34m=\u001b[0m \u001b[0mconf_mat\u001b[0m\u001b[0;34m(\u001b[0m\u001b[0mpreds\u001b[0m \u001b[0;34m=\u001b[0m \u001b[0my_pred_tensor\u001b[0m\u001b[0;34m,\u001b[0m \u001b[0mtarget\u001b[0m \u001b[0;34m=\u001b[0m \u001b[0mtesting_data\u001b[0m\u001b[0;34m.\u001b[0m\u001b[0mtargets\u001b[0m\u001b[0;34m.\u001b[0m\u001b[0mto\u001b[0m\u001b[0;34m(\u001b[0m\u001b[0mdevice\u001b[0m\u001b[0;34m)\u001b[0m\u001b[0;34m)\u001b[0m\u001b[0;34m\u001b[0m\u001b[0;34m\u001b[0m\u001b[0m\n\u001b[0m",
            "\u001b[0;32m/usr/local/lib/python3.10/dist-packages/torch/nn/modules/module.py\u001b[0m in \u001b[0;36m_wrapped_call_impl\u001b[0;34m(self, *args, **kwargs)\u001b[0m\n\u001b[1;32m   1530\u001b[0m             \u001b[0;32mreturn\u001b[0m \u001b[0mself\u001b[0m\u001b[0;34m.\u001b[0m\u001b[0m_compiled_call_impl\u001b[0m\u001b[0;34m(\u001b[0m\u001b[0;34m*\u001b[0m\u001b[0margs\u001b[0m\u001b[0;34m,\u001b[0m \u001b[0;34m**\u001b[0m\u001b[0mkwargs\u001b[0m\u001b[0;34m)\u001b[0m  \u001b[0;31m# type: ignore[misc]\u001b[0m\u001b[0;34m\u001b[0m\u001b[0;34m\u001b[0m\u001b[0m\n\u001b[1;32m   1531\u001b[0m         \u001b[0;32melse\u001b[0m\u001b[0;34m:\u001b[0m\u001b[0;34m\u001b[0m\u001b[0;34m\u001b[0m\u001b[0m\n\u001b[0;32m-> 1532\u001b[0;31m             \u001b[0;32mreturn\u001b[0m \u001b[0mself\u001b[0m\u001b[0;34m.\u001b[0m\u001b[0m_call_impl\u001b[0m\u001b[0;34m(\u001b[0m\u001b[0;34m*\u001b[0m\u001b[0margs\u001b[0m\u001b[0;34m,\u001b[0m \u001b[0;34m**\u001b[0m\u001b[0mkwargs\u001b[0m\u001b[0;34m)\u001b[0m\u001b[0;34m\u001b[0m\u001b[0;34m\u001b[0m\u001b[0m\n\u001b[0m\u001b[1;32m   1533\u001b[0m \u001b[0;34m\u001b[0m\u001b[0m\n\u001b[1;32m   1534\u001b[0m     \u001b[0;32mdef\u001b[0m \u001b[0m_call_impl\u001b[0m\u001b[0;34m(\u001b[0m\u001b[0mself\u001b[0m\u001b[0;34m,\u001b[0m \u001b[0;34m*\u001b[0m\u001b[0margs\u001b[0m\u001b[0;34m,\u001b[0m \u001b[0;34m**\u001b[0m\u001b[0mkwargs\u001b[0m\u001b[0;34m)\u001b[0m\u001b[0;34m:\u001b[0m\u001b[0;34m\u001b[0m\u001b[0;34m\u001b[0m\u001b[0m\n",
            "\u001b[0;32m/usr/local/lib/python3.10/dist-packages/torch/nn/modules/module.py\u001b[0m in \u001b[0;36m_call_impl\u001b[0;34m(self, *args, **kwargs)\u001b[0m\n\u001b[1;32m   1539\u001b[0m                 \u001b[0;32mor\u001b[0m \u001b[0m_global_backward_pre_hooks\u001b[0m \u001b[0;32mor\u001b[0m \u001b[0m_global_backward_hooks\u001b[0m\u001b[0;34m\u001b[0m\u001b[0;34m\u001b[0m\u001b[0m\n\u001b[1;32m   1540\u001b[0m                 or _global_forward_hooks or _global_forward_pre_hooks):\n\u001b[0;32m-> 1541\u001b[0;31m             \u001b[0;32mreturn\u001b[0m \u001b[0mforward_call\u001b[0m\u001b[0;34m(\u001b[0m\u001b[0;34m*\u001b[0m\u001b[0margs\u001b[0m\u001b[0;34m,\u001b[0m \u001b[0;34m**\u001b[0m\u001b[0mkwargs\u001b[0m\u001b[0;34m)\u001b[0m\u001b[0;34m\u001b[0m\u001b[0;34m\u001b[0m\u001b[0m\n\u001b[0m\u001b[1;32m   1542\u001b[0m \u001b[0;34m\u001b[0m\u001b[0m\n\u001b[1;32m   1543\u001b[0m         \u001b[0;32mtry\u001b[0m\u001b[0;34m:\u001b[0m\u001b[0;34m\u001b[0m\u001b[0;34m\u001b[0m\u001b[0m\n",
            "\u001b[0;32m/usr/local/lib/python3.10/dist-packages/torchmetrics/metric.py\u001b[0m in \u001b[0;36mforward\u001b[0;34m(self, *args, **kwargs)\u001b[0m\n\u001b[1;32m    309\u001b[0m             \u001b[0mself\u001b[0m\u001b[0;34m.\u001b[0m\u001b[0m_forward_cache\u001b[0m \u001b[0;34m=\u001b[0m \u001b[0mself\u001b[0m\u001b[0;34m.\u001b[0m\u001b[0m_forward_full_state_update\u001b[0m\u001b[0;34m(\u001b[0m\u001b[0;34m*\u001b[0m\u001b[0margs\u001b[0m\u001b[0;34m,\u001b[0m \u001b[0;34m**\u001b[0m\u001b[0mkwargs\u001b[0m\u001b[0;34m)\u001b[0m\u001b[0;34m\u001b[0m\u001b[0;34m\u001b[0m\u001b[0m\n\u001b[1;32m    310\u001b[0m         \u001b[0;32melse\u001b[0m\u001b[0;34m:\u001b[0m\u001b[0;34m\u001b[0m\u001b[0;34m\u001b[0m\u001b[0m\n\u001b[0;32m--> 311\u001b[0;31m             \u001b[0mself\u001b[0m\u001b[0;34m.\u001b[0m\u001b[0m_forward_cache\u001b[0m \u001b[0;34m=\u001b[0m \u001b[0mself\u001b[0m\u001b[0;34m.\u001b[0m\u001b[0m_forward_reduce_state_update\u001b[0m\u001b[0;34m(\u001b[0m\u001b[0;34m*\u001b[0m\u001b[0margs\u001b[0m\u001b[0;34m,\u001b[0m \u001b[0;34m**\u001b[0m\u001b[0mkwargs\u001b[0m\u001b[0;34m)\u001b[0m\u001b[0;34m\u001b[0m\u001b[0;34m\u001b[0m\u001b[0m\n\u001b[0m\u001b[1;32m    312\u001b[0m \u001b[0;34m\u001b[0m\u001b[0m\n\u001b[1;32m    313\u001b[0m         \u001b[0;32mreturn\u001b[0m \u001b[0mself\u001b[0m\u001b[0;34m.\u001b[0m\u001b[0m_forward_cache\u001b[0m\u001b[0;34m\u001b[0m\u001b[0;34m\u001b[0m\u001b[0m\n",
            "\u001b[0;32m/usr/local/lib/python3.10/dist-packages/torchmetrics/metric.py\u001b[0m in \u001b[0;36m_forward_reduce_state_update\u001b[0;34m(self, *args, **kwargs)\u001b[0m\n\u001b[1;32m    378\u001b[0m \u001b[0;34m\u001b[0m\u001b[0m\n\u001b[1;32m    379\u001b[0m         \u001b[0;31m# calculate batch state and compute batch value\u001b[0m\u001b[0;34m\u001b[0m\u001b[0;34m\u001b[0m\u001b[0m\n\u001b[0;32m--> 380\u001b[0;31m         \u001b[0mself\u001b[0m\u001b[0;34m.\u001b[0m\u001b[0mupdate\u001b[0m\u001b[0;34m(\u001b[0m\u001b[0;34m*\u001b[0m\u001b[0margs\u001b[0m\u001b[0;34m,\u001b[0m \u001b[0;34m**\u001b[0m\u001b[0mkwargs\u001b[0m\u001b[0;34m)\u001b[0m\u001b[0;34m\u001b[0m\u001b[0;34m\u001b[0m\u001b[0m\n\u001b[0m\u001b[1;32m    381\u001b[0m         \u001b[0mbatch_val\u001b[0m \u001b[0;34m=\u001b[0m \u001b[0mself\u001b[0m\u001b[0;34m.\u001b[0m\u001b[0mcompute\u001b[0m\u001b[0;34m(\u001b[0m\u001b[0;34m)\u001b[0m\u001b[0;34m\u001b[0m\u001b[0;34m\u001b[0m\u001b[0m\n\u001b[1;32m    382\u001b[0m \u001b[0;34m\u001b[0m\u001b[0m\n",
            "\u001b[0;32m/usr/local/lib/python3.10/dist-packages/torchmetrics/metric.py\u001b[0m in \u001b[0;36mwrapped_func\u001b[0;34m(*args, **kwargs)\u001b[0m\n\u001b[1;32m    483\u001b[0m                 \u001b[0;32mexcept\u001b[0m \u001b[0mRuntimeError\u001b[0m \u001b[0;32mas\u001b[0m \u001b[0merr\u001b[0m\u001b[0;34m:\u001b[0m\u001b[0;34m\u001b[0m\u001b[0;34m\u001b[0m\u001b[0m\n\u001b[1;32m    484\u001b[0m                     \u001b[0;32mif\u001b[0m \u001b[0;34m\"Expected all tensors to be on\"\u001b[0m \u001b[0;32min\u001b[0m \u001b[0mstr\u001b[0m\u001b[0;34m(\u001b[0m\u001b[0merr\u001b[0m\u001b[0;34m)\u001b[0m\u001b[0;34m:\u001b[0m\u001b[0;34m\u001b[0m\u001b[0;34m\u001b[0m\u001b[0m\n\u001b[0;32m--> 485\u001b[0;31m                         raise RuntimeError(\n\u001b[0m\u001b[1;32m    486\u001b[0m                             \u001b[0;34m\"Encountered different devices in metric calculation (see stacktrace for details).\"\u001b[0m\u001b[0;34m\u001b[0m\u001b[0;34m\u001b[0m\u001b[0m\n\u001b[1;32m    487\u001b[0m                             \u001b[0;34m\" This could be due to the metric class not being on the same device as input.\"\u001b[0m\u001b[0;34m\u001b[0m\u001b[0;34m\u001b[0m\u001b[0m\n",
            "\u001b[0;31mRuntimeError\u001b[0m: Encountered different devices in metric calculation (see stacktrace for details). This could be due to the metric class not being on the same device as input. Instead of `metric=MulticlassConfusionMatrix(...)` try to do `metric=MulticlassConfusionMatrix(...).to(device)` where device corresponds to the device of the input."
          ]
        }
      ]
    },
    {
      "cell_type": "code",
      "source": [
        "len(y_pred_tensor)"
      ],
      "metadata": {
        "id": "fEEYzbxFKcAg"
      },
      "execution_count": null,
      "outputs": []
    },
    {
      "cell_type": "code",
      "source": [],
      "metadata": {
        "id": "WLkZ2PanL2lc"
      },
      "execution_count": null,
      "outputs": []
    }
  ]
}